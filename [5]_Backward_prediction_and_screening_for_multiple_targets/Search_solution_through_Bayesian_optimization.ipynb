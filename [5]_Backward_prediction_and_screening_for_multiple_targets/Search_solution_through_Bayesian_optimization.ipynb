{
 "cells": [
  {
   "cell_type": "code",
   "execution_count": 1,
   "metadata": {},
   "outputs": [],
   "source": [
    "#@author: Masayuki Ishimaru"
   ]
  },
  {
   "cell_type": "code",
   "execution_count": 2,
   "metadata": {},
   "outputs": [],
   "source": [
    "# import library\n",
    "\n",
    "%matplotlib inline\n",
    "import numpy as np\n",
    "import pandas as pd\n",
    "import matplotlib.pyplot as plt\n",
    "import seaborn as sns\n",
    "import GPy\n",
    "import GPyOpt\n",
    "\n",
    "import pickle"
   ]
  },
  {
   "cell_type": "markdown",
   "metadata": {},
   "source": [
    "# Read regression model and parameters to scale back"
   ]
  },
  {
   "cell_type": "code",
   "execution_count": 3,
   "metadata": {},
   "outputs": [],
   "source": [
    "with open('best_gaussr_RI.pickle', mode='rb') as f:\n",
    "    best_gaussr_RI= pickle.load(f)"
   ]
  },
  {
   "cell_type": "code",
   "execution_count": 4,
   "metadata": {},
   "outputs": [],
   "source": [
    "RI_mean_std_GPR = np.load('RI_mean_std_GPR.npy')"
   ]
  },
  {
   "cell_type": "code",
   "execution_count": 5,
   "metadata": {},
   "outputs": [
    {
     "name": "stdout",
     "output_type": "stream",
     "text": [
      "(214, 11)\n"
     ]
    },
    {
     "data": {
      "text/html": [
       "<div>\n",
       "<style scoped>\n",
       "    .dataframe tbody tr th:only-of-type {\n",
       "        vertical-align: middle;\n",
       "    }\n",
       "\n",
       "    .dataframe tbody tr th {\n",
       "        vertical-align: top;\n",
       "    }\n",
       "\n",
       "    .dataframe thead th {\n",
       "        text-align: right;\n",
       "    }\n",
       "</style>\n",
       "<table border=\"1\" class=\"dataframe\">\n",
       "  <thead>\n",
       "    <tr style=\"text-align: right;\">\n",
       "      <th></th>\n",
       "      <th>Id number</th>\n",
       "      <th>RI</th>\n",
       "      <th>Na</th>\n",
       "      <th>Mg</th>\n",
       "      <th>Al</th>\n",
       "      <th>Si</th>\n",
       "      <th>K</th>\n",
       "      <th>Ca</th>\n",
       "      <th>Ba</th>\n",
       "      <th>Fe</th>\n",
       "      <th>Type of glass</th>\n",
       "    </tr>\n",
       "  </thead>\n",
       "  <tbody>\n",
       "    <tr>\n",
       "      <th>0</th>\n",
       "      <td>1</td>\n",
       "      <td>1.52101</td>\n",
       "      <td>13.64</td>\n",
       "      <td>4.49</td>\n",
       "      <td>1.10</td>\n",
       "      <td>71.78</td>\n",
       "      <td>0.06</td>\n",
       "      <td>8.75</td>\n",
       "      <td>0.0</td>\n",
       "      <td>0.0</td>\n",
       "      <td>1</td>\n",
       "    </tr>\n",
       "    <tr>\n",
       "      <th>1</th>\n",
       "      <td>2</td>\n",
       "      <td>1.51761</td>\n",
       "      <td>13.89</td>\n",
       "      <td>3.60</td>\n",
       "      <td>1.36</td>\n",
       "      <td>72.73</td>\n",
       "      <td>0.48</td>\n",
       "      <td>7.83</td>\n",
       "      <td>0.0</td>\n",
       "      <td>0.0</td>\n",
       "      <td>1</td>\n",
       "    </tr>\n",
       "    <tr>\n",
       "      <th>2</th>\n",
       "      <td>3</td>\n",
       "      <td>1.51618</td>\n",
       "      <td>13.53</td>\n",
       "      <td>3.55</td>\n",
       "      <td>1.54</td>\n",
       "      <td>72.99</td>\n",
       "      <td>0.39</td>\n",
       "      <td>7.78</td>\n",
       "      <td>0.0</td>\n",
       "      <td>0.0</td>\n",
       "      <td>1</td>\n",
       "    </tr>\n",
       "    <tr>\n",
       "      <th>3</th>\n",
       "      <td>4</td>\n",
       "      <td>1.51766</td>\n",
       "      <td>13.21</td>\n",
       "      <td>3.69</td>\n",
       "      <td>1.29</td>\n",
       "      <td>72.61</td>\n",
       "      <td>0.57</td>\n",
       "      <td>8.22</td>\n",
       "      <td>0.0</td>\n",
       "      <td>0.0</td>\n",
       "      <td>1</td>\n",
       "    </tr>\n",
       "    <tr>\n",
       "      <th>4</th>\n",
       "      <td>5</td>\n",
       "      <td>1.51742</td>\n",
       "      <td>13.27</td>\n",
       "      <td>3.62</td>\n",
       "      <td>1.24</td>\n",
       "      <td>73.08</td>\n",
       "      <td>0.55</td>\n",
       "      <td>8.07</td>\n",
       "      <td>0.0</td>\n",
       "      <td>0.0</td>\n",
       "      <td>1</td>\n",
       "    </tr>\n",
       "  </tbody>\n",
       "</table>\n",
       "</div>"
      ],
      "text/plain": [
       "   Id number       RI     Na    Mg    Al     Si     K    Ca   Ba   Fe  \\\n",
       "0          1  1.52101  13.64  4.49  1.10  71.78  0.06  8.75  0.0  0.0   \n",
       "1          2  1.51761  13.89  3.60  1.36  72.73  0.48  7.83  0.0  0.0   \n",
       "2          3  1.51618  13.53  3.55  1.54  72.99  0.39  7.78  0.0  0.0   \n",
       "3          4  1.51766  13.21  3.69  1.29  72.61  0.57  8.22  0.0  0.0   \n",
       "4          5  1.51742  13.27  3.62  1.24  73.08  0.55  8.07  0.0  0.0   \n",
       "\n",
       "   Type of glass  \n",
       "0              1  \n",
       "1              1  \n",
       "2              1  \n",
       "3              1  \n",
       "4              1  "
      ]
     },
     "execution_count": 5,
     "metadata": {},
     "output_type": "execute_result"
    }
   ],
   "source": [
    "# read original data to know minimum and maximum values\n",
    "\n",
    "df_clean = pd.read_csv('glass.csv')\n",
    "print(df_clean.shape)\n",
    "df_clean.head()"
   ]
  },
  {
   "cell_type": "code",
   "execution_count": 6,
   "metadata": {},
   "outputs": [
    {
     "data": {
      "text/html": [
       "<div>\n",
       "<style scoped>\n",
       "    .dataframe tbody tr th:only-of-type {\n",
       "        vertical-align: middle;\n",
       "    }\n",
       "\n",
       "    .dataframe tbody tr th {\n",
       "        vertical-align: top;\n",
       "    }\n",
       "\n",
       "    .dataframe thead th {\n",
       "        text-align: right;\n",
       "    }\n",
       "</style>\n",
       "<table border=\"1\" class=\"dataframe\">\n",
       "  <thead>\n",
       "    <tr style=\"text-align: right;\">\n",
       "      <th></th>\n",
       "      <th>count</th>\n",
       "      <th>mean</th>\n",
       "      <th>std</th>\n",
       "      <th>min</th>\n",
       "      <th>25%</th>\n",
       "      <th>50%</th>\n",
       "      <th>75%</th>\n",
       "      <th>max</th>\n",
       "    </tr>\n",
       "  </thead>\n",
       "  <tbody>\n",
       "    <tr>\n",
       "      <th>Na</th>\n",
       "      <td>214.0</td>\n",
       "      <td>13.407850</td>\n",
       "      <td>0.816604</td>\n",
       "      <td>10.73</td>\n",
       "      <td>12.9075</td>\n",
       "      <td>13.300</td>\n",
       "      <td>13.8250</td>\n",
       "      <td>17.38</td>\n",
       "    </tr>\n",
       "    <tr>\n",
       "      <th>Mg</th>\n",
       "      <td>214.0</td>\n",
       "      <td>2.684533</td>\n",
       "      <td>1.442408</td>\n",
       "      <td>0.00</td>\n",
       "      <td>2.1150</td>\n",
       "      <td>3.480</td>\n",
       "      <td>3.6000</td>\n",
       "      <td>4.49</td>\n",
       "    </tr>\n",
       "    <tr>\n",
       "      <th>Al</th>\n",
       "      <td>214.0</td>\n",
       "      <td>1.444907</td>\n",
       "      <td>0.499270</td>\n",
       "      <td>0.29</td>\n",
       "      <td>1.1900</td>\n",
       "      <td>1.360</td>\n",
       "      <td>1.6300</td>\n",
       "      <td>3.50</td>\n",
       "    </tr>\n",
       "    <tr>\n",
       "      <th>Si</th>\n",
       "      <td>214.0</td>\n",
       "      <td>72.650935</td>\n",
       "      <td>0.774546</td>\n",
       "      <td>69.81</td>\n",
       "      <td>72.2800</td>\n",
       "      <td>72.790</td>\n",
       "      <td>73.0875</td>\n",
       "      <td>75.41</td>\n",
       "    </tr>\n",
       "    <tr>\n",
       "      <th>K</th>\n",
       "      <td>214.0</td>\n",
       "      <td>0.497056</td>\n",
       "      <td>0.652192</td>\n",
       "      <td>0.00</td>\n",
       "      <td>0.1225</td>\n",
       "      <td>0.555</td>\n",
       "      <td>0.6100</td>\n",
       "      <td>6.21</td>\n",
       "    </tr>\n",
       "    <tr>\n",
       "      <th>Ca</th>\n",
       "      <td>214.0</td>\n",
       "      <td>8.956963</td>\n",
       "      <td>1.423153</td>\n",
       "      <td>5.43</td>\n",
       "      <td>8.2400</td>\n",
       "      <td>8.600</td>\n",
       "      <td>9.1725</td>\n",
       "      <td>16.19</td>\n",
       "    </tr>\n",
       "    <tr>\n",
       "      <th>Ba</th>\n",
       "      <td>214.0</td>\n",
       "      <td>0.175047</td>\n",
       "      <td>0.497219</td>\n",
       "      <td>0.00</td>\n",
       "      <td>0.0000</td>\n",
       "      <td>0.000</td>\n",
       "      <td>0.0000</td>\n",
       "      <td>3.15</td>\n",
       "    </tr>\n",
       "    <tr>\n",
       "      <th>Fe</th>\n",
       "      <td>214.0</td>\n",
       "      <td>0.057009</td>\n",
       "      <td>0.097439</td>\n",
       "      <td>0.00</td>\n",
       "      <td>0.0000</td>\n",
       "      <td>0.000</td>\n",
       "      <td>0.1000</td>\n",
       "      <td>0.51</td>\n",
       "    </tr>\n",
       "  </tbody>\n",
       "</table>\n",
       "</div>"
      ],
      "text/plain": [
       "    count       mean       std    min      25%     50%      75%    max\n",
       "Na  214.0  13.407850  0.816604  10.73  12.9075  13.300  13.8250  17.38\n",
       "Mg  214.0   2.684533  1.442408   0.00   2.1150   3.480   3.6000   4.49\n",
       "Al  214.0   1.444907  0.499270   0.29   1.1900   1.360   1.6300   3.50\n",
       "Si  214.0  72.650935  0.774546  69.81  72.2800  72.790  73.0875  75.41\n",
       "K   214.0   0.497056  0.652192   0.00   0.1225   0.555   0.6100   6.21\n",
       "Ca  214.0   8.956963  1.423153   5.43   8.2400   8.600   9.1725  16.19\n",
       "Ba  214.0   0.175047  0.497219   0.00   0.0000   0.000   0.0000   3.15\n",
       "Fe  214.0   0.057009  0.097439   0.00   0.0000   0.000   0.1000   0.51"
      ]
     },
     "execution_count": 6,
     "metadata": {},
     "output_type": "execute_result"
    }
   ],
   "source": [
    "# extract elements with transposed shape\n",
    "\n",
    "df_comp_transpose = df_clean.describe().T[2:-1]\n",
    "df_comp_transpose"
   ]
  },
  {
   "cell_type": "code",
   "execution_count": 7,
   "metadata": {},
   "outputs": [
    {
     "data": {
      "text/plain": [
       "Na    10.73\n",
       "Mg     0.00\n",
       "Al     0.29\n",
       "Si    69.81\n",
       "K      0.00\n",
       "Ca     5.43\n",
       "Ba     0.00\n",
       "Fe     0.00\n",
       "Name: min, dtype: float64"
      ]
     },
     "execution_count": 7,
     "metadata": {},
     "output_type": "execute_result"
    }
   ],
   "source": [
    "min_val = df_comp_transpose['min']\n",
    "max_val = df_comp_transpose['max']\n",
    "min_val"
   ]
  },
  {
   "cell_type": "code",
   "execution_count": 8,
   "metadata": {},
   "outputs": [
    {
     "data": {
      "text/plain": [
       "Na    17.38\n",
       "Mg     4.49\n",
       "Al     3.50\n",
       "Si    75.41\n",
       "K      6.21\n",
       "Ca    16.19\n",
       "Ba     3.15\n",
       "Fe     0.51\n",
       "Name: max, dtype: float64"
      ]
     },
     "execution_count": 8,
     "metadata": {},
     "output_type": "execute_result"
    }
   ],
   "source": [
    "max_val"
   ]
  },
  {
   "cell_type": "code",
   "execution_count": 9,
   "metadata": {},
   "outputs": [
    {
     "data": {
      "text/plain": [
       "'Na'"
      ]
     },
     "execution_count": 9,
     "metadata": {},
     "output_type": "execute_result"
    }
   ],
   "source": [
    "max_val.index[0]"
   ]
  },
  {
   "cell_type": "markdown",
   "metadata": {},
   "source": [
    "# Function to minimize"
   ]
  },
  {
   "cell_type": "code",
   "execution_count": 10,
   "metadata": {},
   "outputs": [
    {
     "name": "stdout",
     "output_type": "stream",
     "text": [
      "[1.34078505e+01 2.68453271e+00 1.44490654e+00 7.26509346e+01\n",
      " 4.97056075e-01 8.95696262e+00 1.75046729e-01 5.70093458e-02]\n",
      "[0.81660356 1.44240784 0.49926965 0.77454579 0.65219185 1.42315349\n",
      " 0.49721926 0.0974387 ]\n"
     ]
    }
   ],
   "source": [
    "# Get means and standard deviations\n",
    "\n",
    "df_clean_mean = np.array(df_clean.iloc[:, 2:-1].mean(axis = 0))\n",
    "df_clean_std  = np.array(df_clean.iloc[:, 2:-1].std(axis = 0))\n",
    "print(df_clean_mean)\n",
    "print(df_clean_std)"
   ]
  },
  {
   "cell_type": "code",
   "execution_count": 11,
   "metadata": {},
   "outputs": [],
   "source": [
    "# function to minimize\n",
    "\n",
    "def f_y(x):\n",
    "    \n",
    "    x_scaled = (x - df_clean_mean) / df_clean_std\n",
    "    \n",
    "    RI = best_gaussr_RI.predict(x_scaled) * RI_mean_std_GPR[1] + RI_mean_std_GPR[0]\n",
    "    \n",
    "    y = (RI - 1.523)**2\n",
    "    \n",
    "    return y"
   ]
  },
  {
   "cell_type": "markdown",
   "metadata": {},
   "source": [
    "# Bayesian optimization"
   ]
  },
  {
   "cell_type": "code",
   "execution_count": 12,
   "metadata": {},
   "outputs": [],
   "source": [
    "# composition range\n",
    "\n",
    "bounds = [\n",
    "        {'name': 'x[:, 0]',  'type': 'continuous', 'domain': (min_val[0],  max_val[0])},\n",
    "        {'name': 'x[:, 1]',  'type': 'continuous', 'domain': (min_val[1],  max_val[1])},\n",
    "        {'name': 'x[:, 2]',  'type': 'continuous', 'domain': (min_val[2],  max_val[2])},\n",
    "        {'name': 'x[:, 3]',  'type': 'continuous', 'domain': (min_val[3],  max_val[3])},\n",
    "        {'name': 'x[:, 4]',  'type': 'continuous', 'domain': (min_val[4],  max_val[4])},\n",
    "        {'name': 'x[:, 5]',  'type': 'continuous', 'domain': (min_val[5],  max_val[5])},\n",
    "        {'name': 'x[:, 6]',  'type': 'continuous', 'domain': (min_val[6],  max_val[6])},\n",
    "        {'name': 'x[:, 7]',  'type': 'continuous', 'domain': (min_val[7],  max_val[7])}\n",
    "        ]"
   ]
  },
  {
   "cell_type": "code",
   "execution_count": 13,
   "metadata": {},
   "outputs": [],
   "source": [
    "# constraints\n",
    "\n",
    "constraints = [\n",
    "    {'name': 'constr_1',\n",
    "    'constraint': '(x[:,0]+x[:,1]+x[:,2]+x[:,3]+x[:,4]+x[:,5]+x[:,6]+x[:,7]) - 100.0 - 0.01'},\n",
    "    {'name': 'constr_2',\n",
    "    'constraint': '100.0 - (x[:,0]+x[:,1]+x[:,2]+x[:,3]+x[:,4]+x[:,5]+x[:,6]+x[:,7]) - 0.01'}\n",
    "]"
   ]
  },
  {
   "cell_type": "markdown",
   "metadata": {},
   "source": [
    "# The first run to make the DataFrame base"
   ]
  },
  {
   "cell_type": "code",
   "execution_count": 14,
   "metadata": {},
   "outputs": [
    {
     "name": "stdout",
     "output_type": "stream",
     "text": [
      "elapsed time =  114.41885924339294\n"
     ]
    }
   ],
   "source": [
    "import time\n",
    "t1 = time.time()\n",
    "\n",
    "np.random.seed(0)\n",
    "optimizer = GPyOpt.methods.BayesianOptimization(\n",
    "    f = f_y,\n",
    "    domain = bounds,\n",
    "    constraints = constraints,\n",
    "    initial_design_numdata = 50,\n",
    "    acquisition_type = 'MPI',\n",
    "    )\n",
    "\n",
    "optimizer.run_optimization(max_iter = 20)\n",
    "\n",
    "t2 = time.time()\n",
    "print('elapsed time = ', t2 - t1)"
   ]
  },
  {
   "cell_type": "code",
   "execution_count": 15,
   "metadata": {},
   "outputs": [
    {
     "name": "stdout",
     "output_type": "stream",
     "text": [
      "[10.82924183  1.97766318  3.03733959 70.21610209  2.18290249 11.08405127\n",
      "  0.57934477  0.08335496]\n",
      "99.99000019018698\n",
      "1.4442083647484135e-11\n"
     ]
    }
   ],
   "source": [
    "# display results\n",
    "\n",
    "print(optimizer.x_opt)\n",
    "print(optimizer.x_opt.sum())\n",
    "print(optimizer.fx_opt)"
   ]
  },
  {
   "cell_type": "code",
   "execution_count": 16,
   "metadata": {},
   "outputs": [
    {
     "data": {
      "image/png": "[encoded data removed]",
      "text/plain": [
       "<Figure size 720x360 with 2 Axes>"
      ]
     },
     "metadata": {
      "needs_background": "light"
     },
     "output_type": "display_data"
    }
   ],
   "source": [
    "# check convergence\n",
    "\n",
    "optimizer.plot_convergence()"
   ]
  },
  {
   "cell_type": "code",
   "execution_count": 17,
   "metadata": {},
   "outputs": [
    {
     "data": {
      "text/html": [
       "<div>\n",
       "<style scoped>\n",
       "    .dataframe tbody tr th:only-of-type {\n",
       "        vertical-align: middle;\n",
       "    }\n",
       "\n",
       "    .dataframe tbody tr th {\n",
       "        vertical-align: top;\n",
       "    }\n",
       "\n",
       "    .dataframe thead th {\n",
       "        text-align: right;\n",
       "    }\n",
       "</style>\n",
       "<table border=\"1\" class=\"dataframe\">\n",
       "  <thead>\n",
       "    <tr style=\"text-align: right;\">\n",
       "      <th></th>\n",
       "      <th>Na</th>\n",
       "      <th>Mg</th>\n",
       "      <th>Al</th>\n",
       "      <th>Si</th>\n",
       "      <th>K</th>\n",
       "      <th>Ca</th>\n",
       "      <th>Ba</th>\n",
       "      <th>Fe</th>\n",
       "    </tr>\n",
       "  </thead>\n",
       "  <tbody>\n",
       "    <tr>\n",
       "      <th>0</th>\n",
       "      <td>10.829242</td>\n",
       "      <td>1.977663</td>\n",
       "      <td>3.03734</td>\n",
       "      <td>70.216102</td>\n",
       "      <td>2.182902</td>\n",
       "      <td>11.084051</td>\n",
       "      <td>0.579345</td>\n",
       "      <td>0.083355</td>\n",
       "    </tr>\n",
       "  </tbody>\n",
       "</table>\n",
       "</div>"
      ],
      "text/plain": [
       "          Na        Mg       Al         Si         K         Ca        Ba  \\\n",
       "0  10.829242  1.977663  3.03734  70.216102  2.182902  11.084051  0.579345   \n",
       "\n",
       "         Fe  \n",
       "0  0.083355  "
      ]
     },
     "execution_count": 17,
     "metadata": {},
     "output_type": "execute_result"
    }
   ],
   "source": [
    "# convert the 1st result to DataFrame\n",
    "\n",
    "df_1st = pd.DataFrame(optimizer.x_opt).T\n",
    "df_1st.columns = df_clean.columns.values[2:-1]\n",
    "df_1st"
   ]
  },
  {
   "cell_type": "code",
   "execution_count": 18,
   "metadata": {},
   "outputs": [
    {
     "name": "stdout",
     "output_type": "stream",
     "text": [
      "[1.5230038]\n"
     ]
    }
   ],
   "source": [
    "# check the result\n",
    "\n",
    "x_scaled = (df_1st - df_clean_mean) / df_clean_std\n",
    "    \n",
    "RI_1st = best_gaussr_RI.predict(x_scaled) * RI_mean_std_GPR[1] + RI_mean_std_GPR[0]\n",
    "\n",
    "print(RI_1st)"
   ]
  },
  {
   "cell_type": "markdown",
   "metadata": {},
   "source": [
    "# Search additional solutions"
   ]
  },
  {
   "cell_type": "code",
   "execution_count": 19,
   "metadata": {},
   "outputs": [],
   "source": [
    "# definition of function for different targets\n",
    "\n",
    "def f_y_multi(x):\n",
    "    \n",
    "    x_scaled = (x - df_clean_mean) / df_clean_std\n",
    "    \n",
    "    RI = best_gaussr_RI.predict(x_scaled) * RI_mean_std_GPR[1] + RI_mean_std_GPR[0]\n",
    "    \n",
    "    y = (RI - RI_target)**2\n",
    "    \n",
    "    return y"
   ]
  },
  {
   "cell_type": "code",
   "execution_count": 20,
   "metadata": {},
   "outputs": [],
   "source": [
    "def multiple_solution(RI_target, i):\n",
    "\n",
    "    np.random.seed(i)\n",
    "    optimizer = GPyOpt.methods.BayesianOptimization(\n",
    "        f = f_y_multi,\n",
    "        domain = bounds,\n",
    "        constraints = constraints,\n",
    "        initial_design_numdata = 50,\n",
    "        acquisition_type = 'MPI',\n",
    "        )\n",
    "\n",
    "    optimizer.run_optimization(max_iter = 20)\n",
    "\n",
    "    return optimizer.x_opt"
   ]
  },
  {
   "cell_type": "code",
   "execution_count": 21,
   "metadata": {},
   "outputs": [
    {
     "name": "stdout",
     "output_type": "stream",
     "text": [
      "Number of step =  1 1.5231   elapsed time =  126.83879804611206\n",
      "Number of step =  2 1.5232   elapsed time =  311.91623997688293\n",
      "Number of step =  3 1.5233   elapsed time =  456.82211208343506\n",
      "Number of step =  4 1.5234   elapsed time =  635.3058545589447\n",
      "Number of step =  5 1.5235   elapsed time =  752.3518524169922\n",
      "elapsed time =  752.3518524169922\n"
     ]
    }
   ],
   "source": [
    "t1 = time.time()\n",
    "    \n",
    "x_opt = np.array(df_1st)\n",
    "RI_target_list = [1.5231, 1.5232, 1.5233, 1.5234, 1.5235]\n",
    "i = 0\n",
    "\n",
    "for RI_target in RI_target_list:\n",
    "    x_opt_new = multiple_solution(RI_target, i)\n",
    "    x_opt = np.vstack((x_opt, x_opt_new))\n",
    "\n",
    "    t2 = time.time()\n",
    "    print('Number of step = ', i+1, RI_target, '  elapsed time = ', t2-t1)\n",
    "    \n",
    "    i += 1\n",
    "    \n",
    "t2 = time.time()\n",
    "print('elapsed time = ', t2 - t1)"
   ]
  },
  {
   "cell_type": "code",
   "execution_count": 22,
   "metadata": {},
   "outputs": [
    {
     "data": {
      "text/html": [
       "<div>\n",
       "<style scoped>\n",
       "    .dataframe tbody tr th:only-of-type {\n",
       "        vertical-align: middle;\n",
       "    }\n",
       "\n",
       "    .dataframe tbody tr th {\n",
       "        vertical-align: top;\n",
       "    }\n",
       "\n",
       "    .dataframe thead th {\n",
       "        text-align: right;\n",
       "    }\n",
       "</style>\n",
       "<table border=\"1\" class=\"dataframe\">\n",
       "  <thead>\n",
       "    <tr style=\"text-align: right;\">\n",
       "      <th></th>\n",
       "      <th>Na</th>\n",
       "      <th>Mg</th>\n",
       "      <th>Al</th>\n",
       "      <th>Si</th>\n",
       "      <th>K</th>\n",
       "      <th>Ca</th>\n",
       "      <th>Ba</th>\n",
       "      <th>Fe</th>\n",
       "    </tr>\n",
       "  </thead>\n",
       "  <tbody>\n",
       "    <tr>\n",
       "      <th>0</th>\n",
       "      <td>10.829242</td>\n",
       "      <td>1.977663</td>\n",
       "      <td>3.037340</td>\n",
       "      <td>70.216102</td>\n",
       "      <td>2.182902</td>\n",
       "      <td>11.084051</td>\n",
       "      <td>0.579345</td>\n",
       "      <td>0.083355</td>\n",
       "    </tr>\n",
       "    <tr>\n",
       "      <th>1</th>\n",
       "      <td>15.569647</td>\n",
       "      <td>0.368988</td>\n",
       "      <td>0.628261</td>\n",
       "      <td>71.994481</td>\n",
       "      <td>0.021972</td>\n",
       "      <td>11.120142</td>\n",
       "      <td>0.172084</td>\n",
       "      <td>0.114904</td>\n",
       "    </tr>\n",
       "    <tr>\n",
       "      <th>2</th>\n",
       "      <td>13.982675</td>\n",
       "      <td>1.629058</td>\n",
       "      <td>0.494386</td>\n",
       "      <td>69.907351</td>\n",
       "      <td>4.292990</td>\n",
       "      <td>9.437465</td>\n",
       "      <td>0.120551</td>\n",
       "      <td>0.138457</td>\n",
       "    </tr>\n",
       "    <tr>\n",
       "      <th>3</th>\n",
       "      <td>14.526097</td>\n",
       "      <td>4.379386</td>\n",
       "      <td>0.381573</td>\n",
       "      <td>70.944476</td>\n",
       "      <td>0.129333</td>\n",
       "      <td>7.426380</td>\n",
       "      <td>2.169510</td>\n",
       "      <td>0.033252</td>\n",
       "    </tr>\n",
       "    <tr>\n",
       "      <th>4</th>\n",
       "      <td>17.351361</td>\n",
       "      <td>0.213717</td>\n",
       "      <td>0.419624</td>\n",
       "      <td>69.998712</td>\n",
       "      <td>1.847690</td>\n",
       "      <td>7.741588</td>\n",
       "      <td>2.300861</td>\n",
       "      <td>0.117004</td>\n",
       "    </tr>\n",
       "    <tr>\n",
       "      <th>5</th>\n",
       "      <td>15.084774</td>\n",
       "      <td>1.842954</td>\n",
       "      <td>1.807952</td>\n",
       "      <td>70.145640</td>\n",
       "      <td>0.069628</td>\n",
       "      <td>10.229856</td>\n",
       "      <td>0.582876</td>\n",
       "      <td>0.226324</td>\n",
       "    </tr>\n",
       "  </tbody>\n",
       "</table>\n",
       "</div>"
      ],
      "text/plain": [
       "          Na        Mg        Al         Si         K         Ca        Ba  \\\n",
       "0  10.829242  1.977663  3.037340  70.216102  2.182902  11.084051  0.579345   \n",
       "1  15.569647  0.368988  0.628261  71.994481  0.021972  11.120142  0.172084   \n",
       "2  13.982675  1.629058  0.494386  69.907351  4.292990   9.437465  0.120551   \n",
       "3  14.526097  4.379386  0.381573  70.944476  0.129333   7.426380  2.169510   \n",
       "4  17.351361  0.213717  0.419624  69.998712  1.847690   7.741588  2.300861   \n",
       "5  15.084774  1.842954  1.807952  70.145640  0.069628  10.229856  0.582876   \n",
       "\n",
       "         Fe  \n",
       "0  0.083355  \n",
       "1  0.114904  \n",
       "2  0.138457  \n",
       "3  0.033252  \n",
       "4  0.117004  \n",
       "5  0.226324  "
      ]
     },
     "execution_count": 22,
     "metadata": {},
     "output_type": "execute_result"
    }
   ],
   "source": [
    "df_x_opt = pd.DataFrame(x_opt)\n",
    "df_x_opt.columns = df_1st.columns\n",
    "df_x_opt"
   ]
  },
  {
   "cell_type": "code",
   "execution_count": 23,
   "metadata": {},
   "outputs": [
    {
     "name": "stdout",
     "output_type": "stream",
     "text": [
      "[[1.5230038 ]\n",
      " [1.52309752]\n",
      " [1.52318807]\n",
      " [1.52328509]\n",
      " [1.52338389]\n",
      " [1.52349896]]\n"
     ]
    }
   ],
   "source": [
    "# check the result\n",
    "\n",
    "x_scaled = (df_x_opt - df_clean_mean) / df_clean_std\n",
    "    \n",
    "RI_opt = best_gaussr_RI.predict(x_scaled) * RI_mean_std_GPR[1] + RI_mean_std_GPR[0]\n",
    "\n",
    "print(RI_opt.reshape(-1,1))"
   ]
  },
  {
   "cell_type": "code",
   "execution_count": 24,
   "metadata": {},
   "outputs": [],
   "source": [
    "# save the solution\n",
    "\n",
    "df_x_opt.to_csv('BO_solution.csv', index = None)"
   ]
  },
  {
   "cell_type": "code",
   "execution_count": null,
   "metadata": {},
   "outputs": [],
   "source": []
  }
 ],
 "metadata": {
  "kernelspec": {
   "display_name": "Python 3",
   "language": "python",
   "name": "python3"
  },
  "language_info": {
   "codemirror_mode": {
    "name": "ipython",
    "version": 3
   },
   "file_extension": ".py",
   "mimetype": "text/x-python",
   "name": "python",
   "nbconvert_exporter": "python",
   "pygments_lexer": "ipython3",
   "version": "3.7.4"
  }
 },
 "nbformat": 4,
 "nbformat_minor": 2
}
