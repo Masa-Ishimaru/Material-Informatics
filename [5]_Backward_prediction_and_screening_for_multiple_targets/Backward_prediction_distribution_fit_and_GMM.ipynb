{
 "cells": [
  {
   "cell_type": "code",
   "execution_count": 1,
   "metadata": {},
   "outputs": [],
   "source": [
    "#@author: Masayuki Ishimaru"
   ]
  },
  {
   "cell_type": "code",
   "execution_count": 2,
   "metadata": {},
   "outputs": [],
   "source": [
    "# import libraries\n",
    "\n",
    "%matplotlib inline\n",
    "import sys\n",
    "import numpy as np\n",
    "import pandas as pd\n",
    "import matplotlib.pyplot as plt\n",
    "import seaborn as sns\n",
    "\n",
    "import pickle"
   ]
  },
  {
   "cell_type": "markdown",
   "metadata": {},
   "source": [
    "# Read regression model and parameters to scale back"
   ]
  },
  {
   "cell_type": "code",
   "execution_count": 3,
   "metadata": {},
   "outputs": [],
   "source": [
    "with open('best_gaussr_RI.pickle', mode='rb') as f:\n",
    "    best_gaussr_RI= pickle.load(f)"
   ]
  },
  {
   "cell_type": "code",
   "execution_count": 4,
   "metadata": {},
   "outputs": [],
   "source": [
    "RI_mean_std_GPR = np.load('RI_mean_std_GPR.npy')"
   ]
  },
  {
   "cell_type": "markdown",
   "metadata": {},
   "source": [
    "# Raed random samples generated"
   ]
  },
  {
   "cell_type": "code",
   "execution_count": 5,
   "metadata": {},
   "outputs": [],
   "source": [
    "df_MMF = pd.read_csv('generated_samples_fit_dist.csv')\n",
    "df_GMM = pd.read_csv('generated_samples_GMM_adj.csv')"
   ]
  },
  {
   "cell_type": "code",
   "execution_count": 6,
   "metadata": {},
   "outputs": [
    {
     "name": "stdout",
     "output_type": "stream",
     "text": [
      "(9995, 8)\n"
     ]
    },
    {
     "data": {
      "text/html": [
       "<div>\n",
       "<style scoped>\n",
       "    .dataframe tbody tr th:only-of-type {\n",
       "        vertical-align: middle;\n",
       "    }\n",
       "\n",
       "    .dataframe tbody tr th {\n",
       "        vertical-align: top;\n",
       "    }\n",
       "\n",
       "    .dataframe thead th {\n",
       "        text-align: right;\n",
       "    }\n",
       "</style>\n",
       "<table border=\"1\" class=\"dataframe\">\n",
       "  <thead>\n",
       "    <tr style=\"text-align: right;\">\n",
       "      <th></th>\n",
       "      <th>Na</th>\n",
       "      <th>Mg</th>\n",
       "      <th>Al</th>\n",
       "      <th>Si</th>\n",
       "      <th>K</th>\n",
       "      <th>Ca</th>\n",
       "      <th>Ba</th>\n",
       "      <th>Fe</th>\n",
       "    </tr>\n",
       "  </thead>\n",
       "  <tbody>\n",
       "    <tr>\n",
       "      <th>0</th>\n",
       "      <td>12.646214</td>\n",
       "      <td>3.926736</td>\n",
       "      <td>1.277143</td>\n",
       "      <td>72.883933</td>\n",
       "      <td>0.246862</td>\n",
       "      <td>8.925196</td>\n",
       "      <td>0.093915</td>\n",
       "      <td>0.000000</td>\n",
       "    </tr>\n",
       "    <tr>\n",
       "      <th>1</th>\n",
       "      <td>13.491717</td>\n",
       "      <td>0.276948</td>\n",
       "      <td>1.255108</td>\n",
       "      <td>75.450401</td>\n",
       "      <td>0.319200</td>\n",
       "      <td>9.121815</td>\n",
       "      <td>0.032383</td>\n",
       "      <td>0.052429</td>\n",
       "    </tr>\n",
       "  </tbody>\n",
       "</table>\n",
       "</div>"
      ],
      "text/plain": [
       "          Na        Mg        Al         Si         K        Ca        Ba  \\\n",
       "0  12.646214  3.926736  1.277143  72.883933  0.246862  8.925196  0.093915   \n",
       "1  13.491717  0.276948  1.255108  75.450401  0.319200  9.121815  0.032383   \n",
       "\n",
       "         Fe  \n",
       "0  0.000000  \n",
       "1  0.052429  "
      ]
     },
     "execution_count": 6,
     "metadata": {},
     "output_type": "execute_result"
    }
   ],
   "source": [
    "print(df_MMF.shape)\n",
    "df_MMF.head(2)"
   ]
  },
  {
   "cell_type": "code",
   "execution_count": 7,
   "metadata": {},
   "outputs": [
    {
     "name": "stdout",
     "output_type": "stream",
     "text": [
      "(10006, 8)\n"
     ]
    },
    {
     "data": {
      "text/html": [
       "<div>\n",
       "<style scoped>\n",
       "    .dataframe tbody tr th:only-of-type {\n",
       "        vertical-align: middle;\n",
       "    }\n",
       "\n",
       "    .dataframe tbody tr th {\n",
       "        vertical-align: top;\n",
       "    }\n",
       "\n",
       "    .dataframe thead th {\n",
       "        text-align: right;\n",
       "    }\n",
       "</style>\n",
       "<table border=\"1\" class=\"dataframe\">\n",
       "  <thead>\n",
       "    <tr style=\"text-align: right;\">\n",
       "      <th></th>\n",
       "      <th>Na</th>\n",
       "      <th>Mg</th>\n",
       "      <th>Al</th>\n",
       "      <th>Si</th>\n",
       "      <th>K</th>\n",
       "      <th>Ca</th>\n",
       "      <th>Ba</th>\n",
       "      <th>Fe</th>\n",
       "    </tr>\n",
       "  </thead>\n",
       "  <tbody>\n",
       "    <tr>\n",
       "      <th>0</th>\n",
       "      <td>13.461839</td>\n",
       "      <td>2.637539</td>\n",
       "      <td>1.707760</td>\n",
       "      <td>72.360974</td>\n",
       "      <td>0.484848</td>\n",
       "      <td>9.205489</td>\n",
       "      <td>0.000000</td>\n",
       "      <td>0.141550</td>\n",
       "    </tr>\n",
       "    <tr>\n",
       "      <th>1</th>\n",
       "      <td>12.337395</td>\n",
       "      <td>3.647837</td>\n",
       "      <td>1.254905</td>\n",
       "      <td>72.915378</td>\n",
       "      <td>0.669285</td>\n",
       "      <td>9.066485</td>\n",
       "      <td>0.000422</td>\n",
       "      <td>0.108294</td>\n",
       "    </tr>\n",
       "  </tbody>\n",
       "</table>\n",
       "</div>"
      ],
      "text/plain": [
       "          Na        Mg        Al         Si         K        Ca        Ba  \\\n",
       "0  13.461839  2.637539  1.707760  72.360974  0.484848  9.205489  0.000000   \n",
       "1  12.337395  3.647837  1.254905  72.915378  0.669285  9.066485  0.000422   \n",
       "\n",
       "         Fe  \n",
       "0  0.141550  \n",
       "1  0.108294  "
      ]
     },
     "execution_count": 7,
     "metadata": {},
     "output_type": "execute_result"
    }
   ],
   "source": [
    "print(df_GMM.shape)\n",
    "df_GMM.head(2)"
   ]
  },
  {
   "cell_type": "code",
   "execution_count": 8,
   "metadata": {},
   "outputs": [
    {
     "name": "stdout",
     "output_type": "stream",
     "text": [
      "start =  0\n",
      "end   =  8\n"
     ]
    }
   ],
   "source": [
    "#　Get column numbers of start and end\n",
    "\n",
    "start = df_MMF.columns.get_loc('Na')\n",
    "end   = df_MMF.columns.get_loc('Fe') + 1\n",
    "print('start = ', start)\n",
    "print('end   = ', end)"
   ]
  },
  {
   "cell_type": "code",
   "execution_count": 9,
   "metadata": {},
   "outputs": [],
   "source": [
    "# scaling\n",
    "\n",
    "def standardize_dataframe(X, X_base):\n",
    "    X_scaled = (X - X_base.mean(axis = 0)) / X_base.std(axis = 0)\n",
    "    \n",
    "    return X_scaled"
   ]
  },
  {
   "cell_type": "markdown",
   "metadata": {},
   "source": [
    "# Backward analysis"
   ]
  },
  {
   "cell_type": "code",
   "execution_count": 10,
   "metadata": {},
   "outputs": [
    {
     "name": "stdout",
     "output_type": "stream",
     "text": [
      "(214, 8)\n"
     ]
    },
    {
     "data": {
      "text/html": [
       "<div>\n",
       "<style scoped>\n",
       "    .dataframe tbody tr th:only-of-type {\n",
       "        vertical-align: middle;\n",
       "    }\n",
       "\n",
       "    .dataframe tbody tr th {\n",
       "        vertical-align: top;\n",
       "    }\n",
       "\n",
       "    .dataframe thead th {\n",
       "        text-align: right;\n",
       "    }\n",
       "</style>\n",
       "<table border=\"1\" class=\"dataframe\">\n",
       "  <thead>\n",
       "    <tr style=\"text-align: right;\">\n",
       "      <th></th>\n",
       "      <th>Na</th>\n",
       "      <th>Mg</th>\n",
       "      <th>Al</th>\n",
       "      <th>Si</th>\n",
       "      <th>K</th>\n",
       "      <th>Ca</th>\n",
       "      <th>Ba</th>\n",
       "      <th>Fe</th>\n",
       "    </tr>\n",
       "  </thead>\n",
       "  <tbody>\n",
       "    <tr>\n",
       "      <th>0</th>\n",
       "      <td>13.64</td>\n",
       "      <td>4.49</td>\n",
       "      <td>1.10</td>\n",
       "      <td>71.78</td>\n",
       "      <td>0.06</td>\n",
       "      <td>8.75</td>\n",
       "      <td>0.0</td>\n",
       "      <td>0.0</td>\n",
       "    </tr>\n",
       "    <tr>\n",
       "      <th>1</th>\n",
       "      <td>13.89</td>\n",
       "      <td>3.60</td>\n",
       "      <td>1.36</td>\n",
       "      <td>72.73</td>\n",
       "      <td>0.48</td>\n",
       "      <td>7.83</td>\n",
       "      <td>0.0</td>\n",
       "      <td>0.0</td>\n",
       "    </tr>\n",
       "    <tr>\n",
       "      <th>2</th>\n",
       "      <td>13.53</td>\n",
       "      <td>3.55</td>\n",
       "      <td>1.54</td>\n",
       "      <td>72.99</td>\n",
       "      <td>0.39</td>\n",
       "      <td>7.78</td>\n",
       "      <td>0.0</td>\n",
       "      <td>0.0</td>\n",
       "    </tr>\n",
       "    <tr>\n",
       "      <th>3</th>\n",
       "      <td>13.21</td>\n",
       "      <td>3.69</td>\n",
       "      <td>1.29</td>\n",
       "      <td>72.61</td>\n",
       "      <td>0.57</td>\n",
       "      <td>8.22</td>\n",
       "      <td>0.0</td>\n",
       "      <td>0.0</td>\n",
       "    </tr>\n",
       "    <tr>\n",
       "      <th>4</th>\n",
       "      <td>13.27</td>\n",
       "      <td>3.62</td>\n",
       "      <td>1.24</td>\n",
       "      <td>73.08</td>\n",
       "      <td>0.55</td>\n",
       "      <td>8.07</td>\n",
       "      <td>0.0</td>\n",
       "      <td>0.0</td>\n",
       "    </tr>\n",
       "  </tbody>\n",
       "</table>\n",
       "</div>"
      ],
      "text/plain": [
       "      Na    Mg    Al     Si     K    Ca   Ba   Fe\n",
       "0  13.64  4.49  1.10  71.78  0.06  8.75  0.0  0.0\n",
       "1  13.89  3.60  1.36  72.73  0.48  7.83  0.0  0.0\n",
       "2  13.53  3.55  1.54  72.99  0.39  7.78  0.0  0.0\n",
       "3  13.21  3.69  1.29  72.61  0.57  8.22  0.0  0.0\n",
       "4  13.27  3.62  1.24  73.08  0.55  8.07  0.0  0.0"
      ]
     },
     "execution_count": 10,
     "metadata": {},
     "output_type": "execute_result"
    }
   ],
   "source": [
    "# read variables for scaling\n",
    "\n",
    "df_mean_std = pd.read_csv('glass.csv')\n",
    "df_mean_std = df_mean_std.iloc[:, 2:10]\n",
    "print(df_mean_std.shape)\n",
    "df_mean_std.head()"
   ]
  },
  {
   "cell_type": "code",
   "execution_count": 11,
   "metadata": {},
   "outputs": [
    {
     "data": {
      "text/html": [
       "<div>\n",
       "<style scoped>\n",
       "    .dataframe tbody tr th:only-of-type {\n",
       "        vertical-align: middle;\n",
       "    }\n",
       "\n",
       "    .dataframe tbody tr th {\n",
       "        vertical-align: top;\n",
       "    }\n",
       "\n",
       "    .dataframe thead th {\n",
       "        text-align: right;\n",
       "    }\n",
       "</style>\n",
       "<table border=\"1\" class=\"dataframe\">\n",
       "  <thead>\n",
       "    <tr style=\"text-align: right;\">\n",
       "      <th></th>\n",
       "      <th>Na</th>\n",
       "      <th>Mg</th>\n",
       "      <th>Al</th>\n",
       "      <th>Si</th>\n",
       "      <th>K</th>\n",
       "      <th>Ca</th>\n",
       "      <th>Ba</th>\n",
       "      <th>Fe</th>\n",
       "      <th>pred_RI_mean</th>\n",
       "      <th>pred_RI_std</th>\n",
       "      <th>group</th>\n",
       "    </tr>\n",
       "  </thead>\n",
       "  <tbody>\n",
       "    <tr>\n",
       "      <th>0</th>\n",
       "      <td>12.646214</td>\n",
       "      <td>3.926736</td>\n",
       "      <td>1.277143</td>\n",
       "      <td>72.883933</td>\n",
       "      <td>0.246862</td>\n",
       "      <td>8.925196</td>\n",
       "      <td>0.093915</td>\n",
       "      <td>0.000000</td>\n",
       "      <td>1.518643</td>\n",
       "      <td>0.001020</td>\n",
       "      <td>MMF</td>\n",
       "    </tr>\n",
       "    <tr>\n",
       "      <th>1</th>\n",
       "      <td>13.491717</td>\n",
       "      <td>0.276948</td>\n",
       "      <td>1.255108</td>\n",
       "      <td>75.450401</td>\n",
       "      <td>0.319200</td>\n",
       "      <td>9.121815</td>\n",
       "      <td>0.032383</td>\n",
       "      <td>0.052429</td>\n",
       "      <td>1.514196</td>\n",
       "      <td>0.001049</td>\n",
       "      <td>MMF</td>\n",
       "    </tr>\n",
       "    <tr>\n",
       "      <th>2</th>\n",
       "      <td>13.908396</td>\n",
       "      <td>0.045730</td>\n",
       "      <td>1.962717</td>\n",
       "      <td>74.636427</td>\n",
       "      <td>0.505982</td>\n",
       "      <td>7.283779</td>\n",
       "      <td>1.636192</td>\n",
       "      <td>0.020777</td>\n",
       "      <td>1.513556</td>\n",
       "      <td>0.001054</td>\n",
       "      <td>MMF</td>\n",
       "    </tr>\n",
       "    <tr>\n",
       "      <th>3</th>\n",
       "      <td>13.203391</td>\n",
       "      <td>0.280996</td>\n",
       "      <td>1.005600</td>\n",
       "      <td>75.910761</td>\n",
       "      <td>0.582958</td>\n",
       "      <td>8.693992</td>\n",
       "      <td>0.295703</td>\n",
       "      <td>0.026598</td>\n",
       "      <td>1.513639</td>\n",
       "      <td>0.001069</td>\n",
       "      <td>MMF</td>\n",
       "    </tr>\n",
       "    <tr>\n",
       "      <th>4</th>\n",
       "      <td>12.957803</td>\n",
       "      <td>3.208117</td>\n",
       "      <td>1.880531</td>\n",
       "      <td>72.555756</td>\n",
       "      <td>0.000000</td>\n",
       "      <td>8.591894</td>\n",
       "      <td>0.750228</td>\n",
       "      <td>0.055672</td>\n",
       "      <td>1.518408</td>\n",
       "      <td>0.001025</td>\n",
       "      <td>MMF</td>\n",
       "    </tr>\n",
       "  </tbody>\n",
       "</table>\n",
       "</div>"
      ],
      "text/plain": [
       "          Na        Mg        Al         Si         K        Ca        Ba  \\\n",
       "0  12.646214  3.926736  1.277143  72.883933  0.246862  8.925196  0.093915   \n",
       "1  13.491717  0.276948  1.255108  75.450401  0.319200  9.121815  0.032383   \n",
       "2  13.908396  0.045730  1.962717  74.636427  0.505982  7.283779  1.636192   \n",
       "3  13.203391  0.280996  1.005600  75.910761  0.582958  8.693992  0.295703   \n",
       "4  12.957803  3.208117  1.880531  72.555756  0.000000  8.591894  0.750228   \n",
       "\n",
       "         Fe  pred_RI_mean  pred_RI_std group  \n",
       "0  0.000000      1.518643     0.001020   MMF  \n",
       "1  0.052429      1.514196     0.001049   MMF  \n",
       "2  0.020777      1.513556     0.001054   MMF  \n",
       "3  0.026598      1.513639     0.001069   MMF  \n",
       "4  0.055672      1.518408     0.001025   MMF  "
      ]
     },
     "execution_count": 11,
     "metadata": {},
     "output_type": "execute_result"
    }
   ],
   "source": [
    "# Compute prediction on distribution fit samples\n",
    "\n",
    "y_MMF_mean_s, y_MMF_std_s = best_gaussr_RI.predict(standardize_dataframe(df_MMF, df_mean_std), return_std = True)\n",
    "\n",
    "y_MMF_mean = y_MMF_mean_s * RI_mean_std_GPR[1] + RI_mean_std_GPR[0]\n",
    "y_MMF_std  = y_MMF_std_s * RI_mean_std_GPR[1]\n",
    "\n",
    "df_MMF['pred_RI_mean'] = y_MMF_mean\n",
    "df_MMF['pred_RI_std']  = y_MMF_std\n",
    "\n",
    "df_MMF['group'] = 'MMF'\n",
    "df_MMF.head()"
   ]
  },
  {
   "cell_type": "code",
   "execution_count": 12,
   "metadata": {},
   "outputs": [
    {
     "data": {
      "text/html": [
       "<div>\n",
       "<style scoped>\n",
       "    .dataframe tbody tr th:only-of-type {\n",
       "        vertical-align: middle;\n",
       "    }\n",
       "\n",
       "    .dataframe tbody tr th {\n",
       "        vertical-align: top;\n",
       "    }\n",
       "\n",
       "    .dataframe thead th {\n",
       "        text-align: right;\n",
       "    }\n",
       "</style>\n",
       "<table border=\"1\" class=\"dataframe\">\n",
       "  <thead>\n",
       "    <tr style=\"text-align: right;\">\n",
       "      <th></th>\n",
       "      <th>Na</th>\n",
       "      <th>Mg</th>\n",
       "      <th>Al</th>\n",
       "      <th>Si</th>\n",
       "      <th>K</th>\n",
       "      <th>Ca</th>\n",
       "      <th>Ba</th>\n",
       "      <th>Fe</th>\n",
       "      <th>pred_RI_mean</th>\n",
       "      <th>pred_RI_std</th>\n",
       "      <th>group</th>\n",
       "    </tr>\n",
       "  </thead>\n",
       "  <tbody>\n",
       "    <tr>\n",
       "      <th>0</th>\n",
       "      <td>13.461839</td>\n",
       "      <td>2.637539</td>\n",
       "      <td>1.707760</td>\n",
       "      <td>72.360974</td>\n",
       "      <td>0.484848</td>\n",
       "      <td>9.205489</td>\n",
       "      <td>0.000000</td>\n",
       "      <td>0.141550</td>\n",
       "      <td>1.518482</td>\n",
       "      <td>0.001016</td>\n",
       "      <td>GMM</td>\n",
       "    </tr>\n",
       "    <tr>\n",
       "      <th>1</th>\n",
       "      <td>12.337395</td>\n",
       "      <td>3.647837</td>\n",
       "      <td>1.254905</td>\n",
       "      <td>72.915378</td>\n",
       "      <td>0.669285</td>\n",
       "      <td>9.066485</td>\n",
       "      <td>0.000422</td>\n",
       "      <td>0.108294</td>\n",
       "      <td>1.518568</td>\n",
       "      <td>0.001017</td>\n",
       "      <td>GMM</td>\n",
       "    </tr>\n",
       "    <tr>\n",
       "      <th>2</th>\n",
       "      <td>13.372728</td>\n",
       "      <td>3.131070</td>\n",
       "      <td>1.464743</td>\n",
       "      <td>72.991636</td>\n",
       "      <td>0.595887</td>\n",
       "      <td>8.321914</td>\n",
       "      <td>0.000000</td>\n",
       "      <td>0.122022</td>\n",
       "      <td>1.516728</td>\n",
       "      <td>0.001014</td>\n",
       "      <td>GMM</td>\n",
       "    </tr>\n",
       "    <tr>\n",
       "      <th>3</th>\n",
       "      <td>13.301951</td>\n",
       "      <td>2.802002</td>\n",
       "      <td>1.586540</td>\n",
       "      <td>72.836510</td>\n",
       "      <td>0.526938</td>\n",
       "      <td>8.754027</td>\n",
       "      <td>0.000000</td>\n",
       "      <td>0.192032</td>\n",
       "      <td>1.517346</td>\n",
       "      <td>0.001017</td>\n",
       "      <td>GMM</td>\n",
       "    </tr>\n",
       "    <tr>\n",
       "      <th>4</th>\n",
       "      <td>13.708569</td>\n",
       "      <td>3.737794</td>\n",
       "      <td>1.838826</td>\n",
       "      <td>70.914756</td>\n",
       "      <td>0.664621</td>\n",
       "      <td>8.989460</td>\n",
       "      <td>0.000355</td>\n",
       "      <td>0.145619</td>\n",
       "      <td>1.520193</td>\n",
       "      <td>0.001031</td>\n",
       "      <td>GMM</td>\n",
       "    </tr>\n",
       "  </tbody>\n",
       "</table>\n",
       "</div>"
      ],
      "text/plain": [
       "          Na        Mg        Al         Si         K        Ca        Ba  \\\n",
       "0  13.461839  2.637539  1.707760  72.360974  0.484848  9.205489  0.000000   \n",
       "1  12.337395  3.647837  1.254905  72.915378  0.669285  9.066485  0.000422   \n",
       "2  13.372728  3.131070  1.464743  72.991636  0.595887  8.321914  0.000000   \n",
       "3  13.301951  2.802002  1.586540  72.836510  0.526938  8.754027  0.000000   \n",
       "4  13.708569  3.737794  1.838826  70.914756  0.664621  8.989460  0.000355   \n",
       "\n",
       "         Fe  pred_RI_mean  pred_RI_std group  \n",
       "0  0.141550      1.518482     0.001016   GMM  \n",
       "1  0.108294      1.518568     0.001017   GMM  \n",
       "2  0.122022      1.516728     0.001014   GMM  \n",
       "3  0.192032      1.517346     0.001017   GMM  \n",
       "4  0.145619      1.520193     0.001031   GMM  "
      ]
     },
     "execution_count": 12,
     "metadata": {},
     "output_type": "execute_result"
    }
   ],
   "source": [
    "# Compute prediction on GMM samples\n",
    "\n",
    "y_GMM_mean_s, y_GMM_std_s = best_gaussr_RI.predict(standardize_dataframe(df_GMM, df_mean_std), return_std = True)\n",
    "\n",
    "y_GMM_mean = y_GMM_mean_s * RI_mean_std_GPR[1] + RI_mean_std_GPR[0]\n",
    "y_GMM_std  = y_GMM_std_s * RI_mean_std_GPR[1]\n",
    "\n",
    "df_GMM['pred_RI_mean'] = y_GMM_mean\n",
    "df_GMM['pred_RI_std']  = y_GMM_std\n",
    "\n",
    "df_GMM['group'] = 'GMM'\n",
    "df_GMM.head()"
   ]
  },
  {
   "cell_type": "code",
   "execution_count": 13,
   "metadata": {},
   "outputs": [
    {
     "data": {
      "image/png": "[encoded data removed]",
      "text/plain": [
       "<Figure size 432x288 with 1 Axes>"
      ]
     },
     "metadata": {
      "needs_background": "light"
     },
     "output_type": "display_data"
    }
   ],
   "source": [
    "fig = plt.figure(figsize=(6, 4))\n",
    "\n",
    "plt.hist(y_MMF_mean, color = 'r', alpha = 0.3, label = 'MMF')\n",
    "plt.hist(y_GMM_mean, color = 'b', alpha = 0.3, label = 'GMM')\n",
    "\n",
    "plt.xlabel('RI')\n",
    "plt.ylabel('Frequency')\n",
    "plt.legend(loc = 'best')\n",
    "\n",
    "plt.show()"
   ]
  },
  {
   "cell_type": "markdown",
   "metadata": {},
   "source": [
    "# Concatnate predictions"
   ]
  },
  {
   "cell_type": "code",
   "execution_count": 14,
   "metadata": {
    "scrolled": false
   },
   "outputs": [
    {
     "name": "stdout",
     "output_type": "stream",
     "text": [
      "(20001, 11)\n"
     ]
    },
    {
     "data": {
      "text/html": [
       "<div>\n",
       "<style scoped>\n",
       "    .dataframe tbody tr th:only-of-type {\n",
       "        vertical-align: middle;\n",
       "    }\n",
       "\n",
       "    .dataframe tbody tr th {\n",
       "        vertical-align: top;\n",
       "    }\n",
       "\n",
       "    .dataframe thead th {\n",
       "        text-align: right;\n",
       "    }\n",
       "</style>\n",
       "<table border=\"1\" class=\"dataframe\">\n",
       "  <thead>\n",
       "    <tr style=\"text-align: right;\">\n",
       "      <th></th>\n",
       "      <th>Na</th>\n",
       "      <th>Mg</th>\n",
       "      <th>Al</th>\n",
       "      <th>Si</th>\n",
       "      <th>K</th>\n",
       "      <th>Ca</th>\n",
       "      <th>Ba</th>\n",
       "      <th>Fe</th>\n",
       "      <th>pred_RI_mean</th>\n",
       "      <th>pred_RI_std</th>\n",
       "      <th>group</th>\n",
       "    </tr>\n",
       "  </thead>\n",
       "  <tbody>\n",
       "    <tr>\n",
       "      <th>0</th>\n",
       "      <td>12.646214</td>\n",
       "      <td>3.926736</td>\n",
       "      <td>1.277143</td>\n",
       "      <td>72.883933</td>\n",
       "      <td>0.246862</td>\n",
       "      <td>8.925196</td>\n",
       "      <td>0.093915</td>\n",
       "      <td>0.000000</td>\n",
       "      <td>1.518643</td>\n",
       "      <td>0.001020</td>\n",
       "      <td>MMF</td>\n",
       "    </tr>\n",
       "    <tr>\n",
       "      <th>1</th>\n",
       "      <td>13.491717</td>\n",
       "      <td>0.276948</td>\n",
       "      <td>1.255108</td>\n",
       "      <td>75.450401</td>\n",
       "      <td>0.319200</td>\n",
       "      <td>9.121815</td>\n",
       "      <td>0.032383</td>\n",
       "      <td>0.052429</td>\n",
       "      <td>1.514196</td>\n",
       "      <td>0.001049</td>\n",
       "      <td>MMF</td>\n",
       "    </tr>\n",
       "    <tr>\n",
       "      <th>2</th>\n",
       "      <td>13.908396</td>\n",
       "      <td>0.045730</td>\n",
       "      <td>1.962717</td>\n",
       "      <td>74.636427</td>\n",
       "      <td>0.505982</td>\n",
       "      <td>7.283779</td>\n",
       "      <td>1.636192</td>\n",
       "      <td>0.020777</td>\n",
       "      <td>1.513556</td>\n",
       "      <td>0.001054</td>\n",
       "      <td>MMF</td>\n",
       "    </tr>\n",
       "    <tr>\n",
       "      <th>3</th>\n",
       "      <td>13.203391</td>\n",
       "      <td>0.280996</td>\n",
       "      <td>1.005600</td>\n",
       "      <td>75.910761</td>\n",
       "      <td>0.582958</td>\n",
       "      <td>8.693992</td>\n",
       "      <td>0.295703</td>\n",
       "      <td>0.026598</td>\n",
       "      <td>1.513639</td>\n",
       "      <td>0.001069</td>\n",
       "      <td>MMF</td>\n",
       "    </tr>\n",
       "    <tr>\n",
       "      <th>4</th>\n",
       "      <td>12.957803</td>\n",
       "      <td>3.208117</td>\n",
       "      <td>1.880531</td>\n",
       "      <td>72.555756</td>\n",
       "      <td>0.000000</td>\n",
       "      <td>8.591894</td>\n",
       "      <td>0.750228</td>\n",
       "      <td>0.055672</td>\n",
       "      <td>1.518408</td>\n",
       "      <td>0.001025</td>\n",
       "      <td>MMF</td>\n",
       "    </tr>\n",
       "  </tbody>\n",
       "</table>\n",
       "</div>"
      ],
      "text/plain": [
       "          Na        Mg        Al         Si         K        Ca        Ba  \\\n",
       "0  12.646214  3.926736  1.277143  72.883933  0.246862  8.925196  0.093915   \n",
       "1  13.491717  0.276948  1.255108  75.450401  0.319200  9.121815  0.032383   \n",
       "2  13.908396  0.045730  1.962717  74.636427  0.505982  7.283779  1.636192   \n",
       "3  13.203391  0.280996  1.005600  75.910761  0.582958  8.693992  0.295703   \n",
       "4  12.957803  3.208117  1.880531  72.555756  0.000000  8.591894  0.750228   \n",
       "\n",
       "         Fe  pred_RI_mean  pred_RI_std group  \n",
       "0  0.000000      1.518643     0.001020   MMF  \n",
       "1  0.052429      1.514196     0.001049   MMF  \n",
       "2  0.020777      1.513556     0.001054   MMF  \n",
       "3  0.026598      1.513639     0.001069   MMF  \n",
       "4  0.055672      1.518408     0.001025   MMF  "
      ]
     },
     "execution_count": 14,
     "metadata": {},
     "output_type": "execute_result"
    }
   ],
   "source": [
    "df_sample_all = pd.concat([df_MMF, df_GMM])\n",
    "print(df_sample_all.shape)\n",
    "df_sample_all.head()"
   ]
  },
  {
   "cell_type": "markdown",
   "metadata": {},
   "source": [
    "# Narrow down in the targets"
   ]
  },
  {
   "cell_type": "code",
   "execution_count": 15,
   "metadata": {},
   "outputs": [],
   "source": [
    "df_sample_all = df_sample_all[df_sample_all['pred_RI_mean'] >= 1.523]\n",
    "df_sample_all = df_sample_all[df_sample_all['pred_RI_mean'] <= 1.5235]"
   ]
  },
  {
   "cell_type": "code",
   "execution_count": 16,
   "metadata": {
    "scrolled": false
   },
   "outputs": [
    {
     "name": "stdout",
     "output_type": "stream",
     "text": [
      "(191, 11)\n"
     ]
    },
    {
     "data": {
      "text/html": [
       "<div>\n",
       "<style scoped>\n",
       "    .dataframe tbody tr th:only-of-type {\n",
       "        vertical-align: middle;\n",
       "    }\n",
       "\n",
       "    .dataframe tbody tr th {\n",
       "        vertical-align: top;\n",
       "    }\n",
       "\n",
       "    .dataframe thead th {\n",
       "        text-align: right;\n",
       "    }\n",
       "</style>\n",
       "<table border=\"1\" class=\"dataframe\">\n",
       "  <thead>\n",
       "    <tr style=\"text-align: right;\">\n",
       "      <th></th>\n",
       "      <th>Na</th>\n",
       "      <th>Mg</th>\n",
       "      <th>Al</th>\n",
       "      <th>Si</th>\n",
       "      <th>K</th>\n",
       "      <th>Ca</th>\n",
       "      <th>Ba</th>\n",
       "      <th>Fe</th>\n",
       "      <th>pred_RI_mean</th>\n",
       "      <th>pred_RI_std</th>\n",
       "      <th>group</th>\n",
       "    </tr>\n",
       "  </thead>\n",
       "  <tbody>\n",
       "    <tr>\n",
       "      <th>319</th>\n",
       "      <td>14.32</td>\n",
       "      <td>3.10</td>\n",
       "      <td>1.55</td>\n",
       "      <td>70.03</td>\n",
       "      <td>0.55</td>\n",
       "      <td>9.81</td>\n",
       "      <td>0.16</td>\n",
       "      <td>0.47</td>\n",
       "      <td>1.52</td>\n",
       "      <td>0.00</td>\n",
       "      <td>MMF</td>\n",
       "    </tr>\n",
       "    <tr>\n",
       "      <th>333</th>\n",
       "      <td>13.03</td>\n",
       "      <td>3.74</td>\n",
       "      <td>0.93</td>\n",
       "      <td>70.87</td>\n",
       "      <td>1.11</td>\n",
       "      <td>9.88</td>\n",
       "      <td>0.16</td>\n",
       "      <td>0.29</td>\n",
       "      <td>1.52</td>\n",
       "      <td>0.00</td>\n",
       "      <td>MMF</td>\n",
       "    </tr>\n",
       "    <tr>\n",
       "      <th>354</th>\n",
       "      <td>14.75</td>\n",
       "      <td>3.86</td>\n",
       "      <td>1.81</td>\n",
       "      <td>69.67</td>\n",
       "      <td>0.25</td>\n",
       "      <td>9.62</td>\n",
       "      <td>0.03</td>\n",
       "      <td>0.01</td>\n",
       "      <td>1.52</td>\n",
       "      <td>0.00</td>\n",
       "      <td>MMF</td>\n",
       "    </tr>\n",
       "    <tr>\n",
       "      <th>506</th>\n",
       "      <td>12.98</td>\n",
       "      <td>3.55</td>\n",
       "      <td>1.08</td>\n",
       "      <td>70.93</td>\n",
       "      <td>0.92</td>\n",
       "      <td>8.88</td>\n",
       "      <td>1.46</td>\n",
       "      <td>0.19</td>\n",
       "      <td>1.52</td>\n",
       "      <td>0.00</td>\n",
       "      <td>MMF</td>\n",
       "    </tr>\n",
       "    <tr>\n",
       "      <th>561</th>\n",
       "      <td>12.37</td>\n",
       "      <td>3.25</td>\n",
       "      <td>1.10</td>\n",
       "      <td>71.68</td>\n",
       "      <td>0.30</td>\n",
       "      <td>9.41</td>\n",
       "      <td>1.66</td>\n",
       "      <td>0.23</td>\n",
       "      <td>1.52</td>\n",
       "      <td>0.00</td>\n",
       "      <td>MMF</td>\n",
       "    </tr>\n",
       "    <tr>\n",
       "      <th>...</th>\n",
       "      <td>...</td>\n",
       "      <td>...</td>\n",
       "      <td>...</td>\n",
       "      <td>...</td>\n",
       "      <td>...</td>\n",
       "      <td>...</td>\n",
       "      <td>...</td>\n",
       "      <td>...</td>\n",
       "      <td>...</td>\n",
       "      <td>...</td>\n",
       "      <td>...</td>\n",
       "    </tr>\n",
       "    <tr>\n",
       "      <th>8496</th>\n",
       "      <td>13.04</td>\n",
       "      <td>4.42</td>\n",
       "      <td>1.80</td>\n",
       "      <td>69.48</td>\n",
       "      <td>1.48</td>\n",
       "      <td>6.60</td>\n",
       "      <td>3.17</td>\n",
       "      <td>0.00</td>\n",
       "      <td>1.52</td>\n",
       "      <td>0.00</td>\n",
       "      <td>GMM</td>\n",
       "    </tr>\n",
       "    <tr>\n",
       "      <th>9311</th>\n",
       "      <td>13.37</td>\n",
       "      <td>4.22</td>\n",
       "      <td>1.32</td>\n",
       "      <td>70.86</td>\n",
       "      <td>0.14</td>\n",
       "      <td>10.09</td>\n",
       "      <td>0.00</td>\n",
       "      <td>0.00</td>\n",
       "      <td>1.52</td>\n",
       "      <td>0.00</td>\n",
       "      <td>GMM</td>\n",
       "    </tr>\n",
       "    <tr>\n",
       "      <th>9520</th>\n",
       "      <td>13.44</td>\n",
       "      <td>4.93</td>\n",
       "      <td>1.61</td>\n",
       "      <td>70.17</td>\n",
       "      <td>0.09</td>\n",
       "      <td>9.66</td>\n",
       "      <td>0.10</td>\n",
       "      <td>0.00</td>\n",
       "      <td>1.52</td>\n",
       "      <td>0.00</td>\n",
       "      <td>GMM</td>\n",
       "    </tr>\n",
       "    <tr>\n",
       "      <th>9739</th>\n",
       "      <td>13.91</td>\n",
       "      <td>4.64</td>\n",
       "      <td>1.00</td>\n",
       "      <td>70.75</td>\n",
       "      <td>0.07</td>\n",
       "      <td>9.63</td>\n",
       "      <td>0.00</td>\n",
       "      <td>0.00</td>\n",
       "      <td>1.52</td>\n",
       "      <td>0.00</td>\n",
       "      <td>GMM</td>\n",
       "    </tr>\n",
       "    <tr>\n",
       "      <th>9829</th>\n",
       "      <td>13.91</td>\n",
       "      <td>4.24</td>\n",
       "      <td>1.30</td>\n",
       "      <td>70.45</td>\n",
       "      <td>0.08</td>\n",
       "      <td>9.61</td>\n",
       "      <td>0.41</td>\n",
       "      <td>0.00</td>\n",
       "      <td>1.52</td>\n",
       "      <td>0.00</td>\n",
       "      <td>GMM</td>\n",
       "    </tr>\n",
       "  </tbody>\n",
       "</table>\n",
       "<p>191 rows × 11 columns</p>\n",
       "</div>"
      ],
      "text/plain": [
       "        Na   Mg   Al    Si    K    Ca   Ba   Fe  pred_RI_mean  pred_RI_std  \\\n",
       "319  14.32 3.10 1.55 70.03 0.55  9.81 0.16 0.47          1.52         0.00   \n",
       "333  13.03 3.74 0.93 70.87 1.11  9.88 0.16 0.29          1.52         0.00   \n",
       "354  14.75 3.86 1.81 69.67 0.25  9.62 0.03 0.01          1.52         0.00   \n",
       "506  12.98 3.55 1.08 70.93 0.92  8.88 1.46 0.19          1.52         0.00   \n",
       "561  12.37 3.25 1.10 71.68 0.30  9.41 1.66 0.23          1.52         0.00   \n",
       "...    ...  ...  ...   ...  ...   ...  ...  ...           ...          ...   \n",
       "8496 13.04 4.42 1.80 69.48 1.48  6.60 3.17 0.00          1.52         0.00   \n",
       "9311 13.37 4.22 1.32 70.86 0.14 10.09 0.00 0.00          1.52         0.00   \n",
       "9520 13.44 4.93 1.61 70.17 0.09  9.66 0.10 0.00          1.52         0.00   \n",
       "9739 13.91 4.64 1.00 70.75 0.07  9.63 0.00 0.00          1.52         0.00   \n",
       "9829 13.91 4.24 1.30 70.45 0.08  9.61 0.41 0.00          1.52         0.00   \n",
       "\n",
       "     group  \n",
       "319    MMF  \n",
       "333    MMF  \n",
       "354    MMF  \n",
       "506    MMF  \n",
       "561    MMF  \n",
       "...    ...  \n",
       "8496   GMM  \n",
       "9311   GMM  \n",
       "9520   GMM  \n",
       "9739   GMM  \n",
       "9829   GMM  \n",
       "\n",
       "[191 rows x 11 columns]"
      ]
     },
     "execution_count": 16,
     "metadata": {},
     "output_type": "execute_result"
    }
   ],
   "source": [
    "print(df_sample_all.shape)\n",
    "pd.options.display.float_format = '{:.2f}'.format\n",
    "pd.set_option('display.max_columns', 50)\n",
    "df_sample_all"
   ]
  },
  {
   "cell_type": "code",
   "execution_count": 17,
   "metadata": {},
   "outputs": [],
   "source": [
    "# save the solution\n",
    "\n",
    "df_sample_all.to_csv('solution_GPR.csv', index = None)"
   ]
  },
  {
   "cell_type": "markdown",
   "metadata": {},
   "source": [
    "# Clustering of the solution"
   ]
  },
  {
   "cell_type": "code",
   "execution_count": 18,
   "metadata": {},
   "outputs": [
    {
     "name": "stdout",
     "output_type": "stream",
     "text": [
      "(191, 8)\n"
     ]
    },
    {
     "data": {
      "text/html": [
       "<div>\n",
       "<style scoped>\n",
       "    .dataframe tbody tr th:only-of-type {\n",
       "        vertical-align: middle;\n",
       "    }\n",
       "\n",
       "    .dataframe tbody tr th {\n",
       "        vertical-align: top;\n",
       "    }\n",
       "\n",
       "    .dataframe thead th {\n",
       "        text-align: right;\n",
       "    }\n",
       "</style>\n",
       "<table border=\"1\" class=\"dataframe\">\n",
       "  <thead>\n",
       "    <tr style=\"text-align: right;\">\n",
       "      <th></th>\n",
       "      <th>Na</th>\n",
       "      <th>Mg</th>\n",
       "      <th>Al</th>\n",
       "      <th>Si</th>\n",
       "      <th>K</th>\n",
       "      <th>Ca</th>\n",
       "      <th>Ba</th>\n",
       "      <th>Fe</th>\n",
       "    </tr>\n",
       "  </thead>\n",
       "  <tbody>\n",
       "    <tr>\n",
       "      <th>0</th>\n",
       "      <td>14.32</td>\n",
       "      <td>3.10</td>\n",
       "      <td>1.55</td>\n",
       "      <td>70.03</td>\n",
       "      <td>0.55</td>\n",
       "      <td>9.81</td>\n",
       "      <td>0.16</td>\n",
       "      <td>0.47</td>\n",
       "    </tr>\n",
       "    <tr>\n",
       "      <th>1</th>\n",
       "      <td>13.03</td>\n",
       "      <td>3.74</td>\n",
       "      <td>0.93</td>\n",
       "      <td>70.87</td>\n",
       "      <td>1.11</td>\n",
       "      <td>9.88</td>\n",
       "      <td>0.16</td>\n",
       "      <td>0.29</td>\n",
       "    </tr>\n",
       "    <tr>\n",
       "      <th>2</th>\n",
       "      <td>14.75</td>\n",
       "      <td>3.86</td>\n",
       "      <td>1.81</td>\n",
       "      <td>69.67</td>\n",
       "      <td>0.25</td>\n",
       "      <td>9.62</td>\n",
       "      <td>0.03</td>\n",
       "      <td>0.01</td>\n",
       "    </tr>\n",
       "    <tr>\n",
       "      <th>3</th>\n",
       "      <td>12.98</td>\n",
       "      <td>3.55</td>\n",
       "      <td>1.08</td>\n",
       "      <td>70.93</td>\n",
       "      <td>0.92</td>\n",
       "      <td>8.88</td>\n",
       "      <td>1.46</td>\n",
       "      <td>0.19</td>\n",
       "    </tr>\n",
       "    <tr>\n",
       "      <th>4</th>\n",
       "      <td>12.37</td>\n",
       "      <td>3.25</td>\n",
       "      <td>1.10</td>\n",
       "      <td>71.68</td>\n",
       "      <td>0.30</td>\n",
       "      <td>9.41</td>\n",
       "      <td>1.66</td>\n",
       "      <td>0.23</td>\n",
       "    </tr>\n",
       "  </tbody>\n",
       "</table>\n",
       "</div>"
      ],
      "text/plain": [
       "     Na   Mg   Al    Si    K   Ca   Ba   Fe\n",
       "0 14.32 3.10 1.55 70.03 0.55 9.81 0.16 0.47\n",
       "1 13.03 3.74 0.93 70.87 1.11 9.88 0.16 0.29\n",
       "2 14.75 3.86 1.81 69.67 0.25 9.62 0.03 0.01\n",
       "3 12.98 3.55 1.08 70.93 0.92 8.88 1.46 0.19\n",
       "4 12.37 3.25 1.10 71.68 0.30 9.41 1.66 0.23"
      ]
     },
     "execution_count": 18,
     "metadata": {},
     "output_type": "execute_result"
    }
   ],
   "source": [
    "df_experiment = pd.read_csv('solution_GPR.csv')\n",
    "df_experiment = df_experiment.iloc[:, start:end]\n",
    "print(df_experiment.shape)\n",
    "df_experiment.head()"
   ]
  },
  {
   "cell_type": "markdown",
   "metadata": {},
   "source": [
    "# Clustering by Gaussian mixture model (GMM)\n",
    "Reference:<br>\n",
    "https://datachemeng.com/gaussianmixturemodel/<br>"
   ]
  },
  {
   "cell_type": "code",
   "execution_count": 19,
   "metadata": {},
   "outputs": [],
   "source": [
    "max_number_of_components = 20\n",
    "\n",
    "covariance_types = ['full', 'diag', 'tied', 'spherical']"
   ]
  },
  {
   "cell_type": "code",
   "execution_count": 20,
   "metadata": {},
   "outputs": [
    {
     "data": {
      "text/plain": [
       "(20, 4)"
      ]
     },
     "execution_count": 20,
     "metadata": {},
     "output_type": "execute_result"
    }
   ],
   "source": [
    "bic_values = np.empty([max_number_of_components, len(covariance_types)])\n",
    "bic_values.shape"
   ]
  },
  {
   "cell_type": "code",
   "execution_count": 21,
   "metadata": {},
   "outputs": [],
   "source": [
    "import warnings\n",
    "warnings.filterwarnings('ignore')"
   ]
  },
  {
   "cell_type": "code",
   "execution_count": 22,
   "metadata": {},
   "outputs": [],
   "source": [
    "X = df_experiment.iloc[:, start:end]\n",
    "\n",
    "from sklearn.mixture import GaussianMixture\n",
    "\n",
    "# Grid search using BIC\n",
    "for covariance_type_index, covariance_type in enumerate(covariance_types):\n",
    "    for number_of_components in range(max_number_of_components):\n",
    "        gmm_model = GaussianMixture(n_components = number_of_components + 1, covariance_type = covariance_type)\n",
    "        gmm_model.fit(X)\n",
    "        bic_values[number_of_components, covariance_type_index] = gmm_model.bic(X)"
   ]
  },
  {
   "cell_type": "code",
   "execution_count": 23,
   "metadata": {},
   "outputs": [
    {
     "data": {
      "image/png": "[encoded data removed]",
      "text/plain": [
       "<Figure size 432x288 with 1 Axes>"
      ]
     },
     "metadata": {
      "needs_background": "light"
     },
     "output_type": "display_data"
    }
   ],
   "source": [
    "# Plot\n",
    "\n",
    "plt.rcParams[\"font.size\"] = 12\n",
    "plt.figure()\n",
    "\n",
    "plt.plot(bic_values[:, 0], 'b-', label='full')\n",
    "plt.plot(bic_values[:, 1], 'g-', label='diag')\n",
    "plt.plot(bic_values[:, 2], 'k-', label='tied')\n",
    "plt.plot(bic_values[:, 3], 'r-', label='spherical')\n",
    "\n",
    "plt.xlabel('Number of components')\n",
    "plt.ylabel('BIC values')\n",
    "plt.legend(bbox_to_anchor=(0.88, 0.9, 0.5, 0.001), borderaxespad=0., )\n",
    "plt.show()"
   ]
  },
  {
   "cell_type": "code",
   "execution_count": 24,
   "metadata": {},
   "outputs": [
    {
     "name": "stdout",
     "output_type": "stream",
     "text": [
      "(array([3], dtype=int64), array([2], dtype=int64))\n",
      "4\n",
      "tied\n"
     ]
    }
   ],
   "source": [
    "# Select the cluster number with smallest BIC\n",
    "\n",
    "optimal_index = np.where(bic_values == bic_values.min())\n",
    "optimal_number_of_components = optimal_index[0][0] + 1\n",
    "optimal_covariance_type = covariance_types[optimal_index[1][0]]\n",
    "\n",
    "print(optimal_index)\n",
    "print(optimal_number_of_components)\n",
    "print(optimal_covariance_type)"
   ]
  },
  {
   "cell_type": "code",
   "execution_count": 25,
   "metadata": {},
   "outputs": [
    {
     "data": {
      "text/plain": [
       "GaussianMixture(covariance_type='tied', n_components=4)"
      ]
     },
     "execution_count": 25,
     "metadata": {},
     "output_type": "execute_result"
    }
   ],
   "source": [
    "# GMM fit\n",
    "\n",
    "gmm = GaussianMixture(n_components = optimal_number_of_components, covariance_type = optimal_covariance_type)\n",
    "gmm.fit(X)"
   ]
  },
  {
   "cell_type": "code",
   "execution_count": 26,
   "metadata": {},
   "outputs": [],
   "source": [
    "# mean and covariance\n",
    "means = gmm.means_\n",
    "if gmm.covariance_type == 'full':\n",
    "    all_covariances = gmm.covariances_\n",
    "    \n",
    "elif gmm.covariance_type == 'diag':\n",
    "    all_covariances = np.empty([gmm.n_components, gmm.covariances_.shape[1], gmm.covariances_.shape[1]])\n",
    "    \n",
    "    for component_number in range(gmm.n_components):\n",
    "        all_covariances[component_number, :, :] = np.diag(gmm.covariances_[component_number, :])\n",
    "        \n",
    "elif gmm.covariance_type == 'tied':\n",
    "    all_covariances = np.tile(gmm.covariances_, (gmm.n_components, 1, 1))\n",
    "    \n",
    "elif gmm.covariance_type == 'spherical':\n",
    "    all_covariances = np.empty([gmm.n_components, gmm.means_.shape[1], gmm.means_.shape[1]])\n",
    "    for component_number in range(gmm.n_components):\n",
    "        all_covariances[component_number, :, :] = np.diag(gmm.covariances_[component_number] * np.ones(gmm.means_.shape[1]))"
   ]
  },
  {
   "cell_type": "code",
   "execution_count": 27,
   "metadata": {},
   "outputs": [
    {
     "data": {
      "text/plain": [
       "array([2, 2, 2, 1, 1, 1, 1, 1, 2, 2, 1, 2, 1, 2, 3, 2, 1, 2, 2, 1, 2, 1,\n",
       "       2, 1, 0, 1, 2, 2, 2, 1, 2, 3, 2, 0, 2, 2, 2, 2, 2, 3, 1, 1, 2, 2,\n",
       "       2, 2, 1, 1, 1, 2, 2, 2, 2, 2, 2, 1, 2, 2, 1, 1, 1, 0, 1, 1, 2, 2,\n",
       "       2, 2, 2, 2, 2, 1, 0, 1, 1, 1, 2, 2, 2, 2, 1, 2, 2, 1, 1, 1, 3, 2,\n",
       "       2, 2, 2, 2, 3, 1, 2, 1, 1, 1, 1, 2, 1, 2, 0, 1, 3, 2, 2, 2, 1, 2,\n",
       "       1, 1, 2, 2, 1, 2, 1, 1, 1, 2, 1, 3, 1, 1, 2, 3, 1, 2, 1, 1, 2, 2,\n",
       "       2, 2, 2, 1, 2, 1, 1, 3, 2, 2, 2, 2, 2, 1, 2, 1, 1, 3, 1, 1, 0, 2,\n",
       "       1, 1, 2, 1, 1, 3, 1, 2, 2, 2, 2, 2, 2, 2, 2, 2, 2, 2, 2, 2, 2, 2,\n",
       "       2, 2, 2, 2, 2, 2, 2, 2, 2, 2, 1, 2, 2, 2, 2], dtype=int64)"
      ]
     },
     "execution_count": 27,
     "metadata": {},
     "output_type": "execute_result"
    }
   ],
   "source": [
    "labels = gmm.predict(X)\n",
    "labels"
   ]
  },
  {
   "cell_type": "code",
   "execution_count": 28,
   "metadata": {},
   "outputs": [
    {
     "name": "stdout",
     "output_type": "stream",
     "text": [
      "(191, 9)\n"
     ]
    },
    {
     "data": {
      "text/html": [
       "<div>\n",
       "<style scoped>\n",
       "    .dataframe tbody tr th:only-of-type {\n",
       "        vertical-align: middle;\n",
       "    }\n",
       "\n",
       "    .dataframe tbody tr th {\n",
       "        vertical-align: top;\n",
       "    }\n",
       "\n",
       "    .dataframe thead th {\n",
       "        text-align: right;\n",
       "    }\n",
       "</style>\n",
       "<table border=\"1\" class=\"dataframe\">\n",
       "  <thead>\n",
       "    <tr style=\"text-align: right;\">\n",
       "      <th></th>\n",
       "      <th>Na</th>\n",
       "      <th>Mg</th>\n",
       "      <th>Al</th>\n",
       "      <th>Si</th>\n",
       "      <th>K</th>\n",
       "      <th>Ca</th>\n",
       "      <th>Ba</th>\n",
       "      <th>Fe</th>\n",
       "      <th>CLS_label</th>\n",
       "    </tr>\n",
       "  </thead>\n",
       "  <tbody>\n",
       "    <tr>\n",
       "      <th>0</th>\n",
       "      <td>14.32</td>\n",
       "      <td>3.10</td>\n",
       "      <td>1.55</td>\n",
       "      <td>70.03</td>\n",
       "      <td>0.55</td>\n",
       "      <td>9.81</td>\n",
       "      <td>0.16</td>\n",
       "      <td>0.47</td>\n",
       "      <td>2</td>\n",
       "    </tr>\n",
       "    <tr>\n",
       "      <th>1</th>\n",
       "      <td>13.03</td>\n",
       "      <td>3.74</td>\n",
       "      <td>0.93</td>\n",
       "      <td>70.87</td>\n",
       "      <td>1.11</td>\n",
       "      <td>9.88</td>\n",
       "      <td>0.16</td>\n",
       "      <td>0.29</td>\n",
       "      <td>2</td>\n",
       "    </tr>\n",
       "    <tr>\n",
       "      <th>2</th>\n",
       "      <td>14.75</td>\n",
       "      <td>3.86</td>\n",
       "      <td>1.81</td>\n",
       "      <td>69.67</td>\n",
       "      <td>0.25</td>\n",
       "      <td>9.62</td>\n",
       "      <td>0.03</td>\n",
       "      <td>0.01</td>\n",
       "      <td>2</td>\n",
       "    </tr>\n",
       "    <tr>\n",
       "      <th>3</th>\n",
       "      <td>12.98</td>\n",
       "      <td>3.55</td>\n",
       "      <td>1.08</td>\n",
       "      <td>70.93</td>\n",
       "      <td>0.92</td>\n",
       "      <td>8.88</td>\n",
       "      <td>1.46</td>\n",
       "      <td>0.19</td>\n",
       "      <td>1</td>\n",
       "    </tr>\n",
       "    <tr>\n",
       "      <th>4</th>\n",
       "      <td>12.37</td>\n",
       "      <td>3.25</td>\n",
       "      <td>1.10</td>\n",
       "      <td>71.68</td>\n",
       "      <td>0.30</td>\n",
       "      <td>9.41</td>\n",
       "      <td>1.66</td>\n",
       "      <td>0.23</td>\n",
       "      <td>1</td>\n",
       "    </tr>\n",
       "  </tbody>\n",
       "</table>\n",
       "</div>"
      ],
      "text/plain": [
       "     Na   Mg   Al    Si    K   Ca   Ba   Fe  CLS_label\n",
       "0 14.32 3.10 1.55 70.03 0.55 9.81 0.16 0.47          2\n",
       "1 13.03 3.74 0.93 70.87 1.11 9.88 0.16 0.29          2\n",
       "2 14.75 3.86 1.81 69.67 0.25 9.62 0.03 0.01          2\n",
       "3 12.98 3.55 1.08 70.93 0.92 8.88 1.46 0.19          1\n",
       "4 12.37 3.25 1.10 71.68 0.30 9.41 1.66 0.23          1"
      ]
     },
     "execution_count": 28,
     "metadata": {},
     "output_type": "execute_result"
    }
   ],
   "source": [
    "df_experiment['CLS_label'] = labels\n",
    "print(df_experiment.shape)\n",
    "df_experiment.head()"
   ]
  },
  {
   "cell_type": "code",
   "execution_count": 29,
   "metadata": {},
   "outputs": [],
   "source": [
    "# dictionary of colors\n",
    "\n",
    "color_codes = {0:'red',\n",
    "               1:'green',\n",
    "               2:'blue',\n",
    "               3:'yellow',\n",
    "               4:'magenta',\n",
    "               5:'orange',\n",
    "               6:'gray'}\n",
    "\n",
    "# make color list\n",
    "\n",
    "colors = []\n",
    "for i in range(len(labels)) :\n",
    "    colors.append(color_codes[labels[i]])"
   ]
  },
  {
   "cell_type": "markdown",
   "metadata": {},
   "source": [
    "# Plot results (small = high variance, large = small variance of GPR model)"
   ]
  },
  {
   "cell_type": "code",
   "execution_count": 30,
   "metadata": {
    "scrolled": false
   },
   "outputs": [
    {
     "data": {
      "image/png": "[encoded data removed]",
      "text/plain": [
       "<Figure size 1080x1080 with 8 Axes>"
      ]
     },
     "metadata": {
      "needs_background": "light"
     },
     "output_type": "display_data"
    }
   ],
   "source": [
    "horz = 5\n",
    "vert = 5\n",
    "graph_num = horz * vert\n",
    "ax = []\n",
    "\n",
    "fig = plt.figure(figsize=(15, 15))\n",
    "\n",
    "for i in range(0, end - start):\n",
    "    ax.append(fig.add_subplot(vert, horz, i+1))\n",
    "\n",
    "    x_sample = df_sample_all.iloc[:, 3]\n",
    "    y_sample = df_sample_all.iloc[:, i]\n",
    "    \n",
    "    RI_std_max = df_sample_all['pred_RI_std'].max()\n",
    "    RI_std_min = df_sample_all['pred_RI_std'].min()\n",
    "    m_size = 10 + 300 * (RI_std_max - df_sample_all['pred_RI_std']) / (RI_std_max - RI_std_min)\n",
    "    \n",
    "    ax[i].scatter(x_sample, y_sample, c = colors, marker = 'o', alpha = 0.2, s = m_size)\n",
    "    ax[i].set_xlabel(df_experiment.columns[3], size = 12)\n",
    "    ax[i].set_ylabel(df_experiment.columns[i], size = 12)\n",
    "\n",
    "plt.subplots_adjust(wspace = 0.4, hspace = 0.5)\n",
    "plt.show()"
   ]
  },
  {
   "cell_type": "code",
   "execution_count": null,
   "metadata": {},
   "outputs": [],
   "source": []
  }
 ],
 "metadata": {
  "kernelspec": {
   "display_name": "Python 3",
   "language": "python",
   "name": "python3"
  },
  "language_info": {
   "codemirror_mode": {
    "name": "ipython",
    "version": 3
   },
   "file_extension": ".py",
   "mimetype": "text/x-python",
   "name": "python",
   "nbconvert_exporter": "python",
   "pygments_lexer": "ipython3",
   "version": "3.7.4"
  }
 },
 "nbformat": 4,
 "nbformat_minor": 2
}
