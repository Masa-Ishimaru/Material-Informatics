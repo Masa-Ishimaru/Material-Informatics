{
 "cells": [
  {
   "cell_type": "markdown",
   "metadata": {},
   "source": [
    "# Automatic_outlier_detection\n",
    "Reference: <br>\n",
    "https://datachemeng.com/ensembleoutliersampledetection/ <br>\n",
    "https://datachemeng.com/outlier_samples_detectionc_python/ <br>\n",
    "https://datachemeng.com/partialleastsquares/ <br>\n",
    "https://github.com/hkaneko1985/ensemble_outlier_sample_detection"
   ]
  },
  {
   "cell_type": "code",
   "execution_count": 1,
   "metadata": {},
   "outputs": [],
   "source": [
    "import numpy as np\n",
    "import pandas as pd\n",
    "import matplotlib.pyplot as plt\n",
    "%matplotlib inline\n",
    "\n",
    "from sklearn import metrics\n",
    "from sklearn.cross_decomposition import PLSRegression\n",
    "from sklearn.model_selection import cross_val_predict"
   ]
  },
  {
   "cell_type": "code",
   "execution_count": 2,
   "metadata": {},
   "outputs": [
    {
     "data": {
      "text/html": [
       "<div>\n",
       "<style scoped>\n",
       "    .dataframe tbody tr th:only-of-type {\n",
       "        vertical-align: middle;\n",
       "    }\n",
       "\n",
       "    .dataframe tbody tr th {\n",
       "        vertical-align: top;\n",
       "    }\n",
       "\n",
       "    .dataframe thead th {\n",
       "        text-align: right;\n",
       "    }\n",
       "</style>\n",
       "<table border=\"1\" class=\"dataframe\">\n",
       "  <thead>\n",
       "    <tr style=\"text-align: right;\">\n",
       "      <th></th>\n",
       "      <th>Id number</th>\n",
       "      <th>RI</th>\n",
       "      <th>Na</th>\n",
       "      <th>Mg</th>\n",
       "      <th>Al</th>\n",
       "      <th>Si</th>\n",
       "      <th>K</th>\n",
       "      <th>Ca</th>\n",
       "      <th>Ba</th>\n",
       "      <th>Fe</th>\n",
       "      <th>Type of glass</th>\n",
       "    </tr>\n",
       "  </thead>\n",
       "  <tbody>\n",
       "    <tr>\n",
       "      <th>0</th>\n",
       "      <td>1</td>\n",
       "      <td>1.52101</td>\n",
       "      <td>13.64</td>\n",
       "      <td>4.49</td>\n",
       "      <td>1.10</td>\n",
       "      <td>71.78</td>\n",
       "      <td>0.06</td>\n",
       "      <td>8.75</td>\n",
       "      <td>0.0</td>\n",
       "      <td>0.0</td>\n",
       "      <td>1</td>\n",
       "    </tr>\n",
       "    <tr>\n",
       "      <th>1</th>\n",
       "      <td>2</td>\n",
       "      <td>1.51761</td>\n",
       "      <td>13.89</td>\n",
       "      <td>3.60</td>\n",
       "      <td>1.36</td>\n",
       "      <td>72.73</td>\n",
       "      <td>0.48</td>\n",
       "      <td>7.83</td>\n",
       "      <td>0.0</td>\n",
       "      <td>0.0</td>\n",
       "      <td>1</td>\n",
       "    </tr>\n",
       "    <tr>\n",
       "      <th>2</th>\n",
       "      <td>3</td>\n",
       "      <td>1.51618</td>\n",
       "      <td>13.53</td>\n",
       "      <td>3.55</td>\n",
       "      <td>1.54</td>\n",
       "      <td>72.99</td>\n",
       "      <td>0.39</td>\n",
       "      <td>7.78</td>\n",
       "      <td>0.0</td>\n",
       "      <td>0.0</td>\n",
       "      <td>1</td>\n",
       "    </tr>\n",
       "    <tr>\n",
       "      <th>3</th>\n",
       "      <td>4</td>\n",
       "      <td>1.51766</td>\n",
       "      <td>13.21</td>\n",
       "      <td>3.69</td>\n",
       "      <td>1.29</td>\n",
       "      <td>72.61</td>\n",
       "      <td>0.57</td>\n",
       "      <td>8.22</td>\n",
       "      <td>0.0</td>\n",
       "      <td>0.0</td>\n",
       "      <td>1</td>\n",
       "    </tr>\n",
       "    <tr>\n",
       "      <th>4</th>\n",
       "      <td>5</td>\n",
       "      <td>1.51742</td>\n",
       "      <td>13.27</td>\n",
       "      <td>3.62</td>\n",
       "      <td>1.24</td>\n",
       "      <td>73.08</td>\n",
       "      <td>0.55</td>\n",
       "      <td>8.07</td>\n",
       "      <td>0.0</td>\n",
       "      <td>0.0</td>\n",
       "      <td>1</td>\n",
       "    </tr>\n",
       "  </tbody>\n",
       "</table>\n",
       "</div>"
      ],
      "text/plain": [
       "   Id number       RI     Na    Mg    Al     Si     K    Ca   Ba   Fe  \\\n",
       "0          1  1.52101  13.64  4.49  1.10  71.78  0.06  8.75  0.0  0.0   \n",
       "1          2  1.51761  13.89  3.60  1.36  72.73  0.48  7.83  0.0  0.0   \n",
       "2          3  1.51618  13.53  3.55  1.54  72.99  0.39  7.78  0.0  0.0   \n",
       "3          4  1.51766  13.21  3.69  1.29  72.61  0.57  8.22  0.0  0.0   \n",
       "4          5  1.51742  13.27  3.62  1.24  73.08  0.55  8.07  0.0  0.0   \n",
       "\n",
       "   Type of glass  \n",
       "0              1  \n",
       "1              1  \n",
       "2              1  \n",
       "3              1  \n",
       "4              1  "
      ]
     },
     "execution_count": 2,
     "metadata": {},
     "output_type": "execute_result"
    }
   ],
   "source": [
    "# Load the dataset\n",
    "file_name = 'glass'      # Give without \".csv\"\n",
    "dataset = pd.read_csv(file_name + '.csv')\n",
    "dataset.head()"
   ]
  },
  {
   "cell_type": "code",
   "execution_count": 3,
   "metadata": {},
   "outputs": [],
   "source": [
    "x = dataset.iloc[:, 2:10]\n",
    "y = dataset.iloc[:,1]"
   ]
  },
  {
   "cell_type": "code",
   "execution_count": 4,
   "metadata": {},
   "outputs": [
    {
     "name": "stdout",
     "output_type": "stream",
     "text": [
      "(214, 8)\n"
     ]
    },
    {
     "data": {
      "text/html": [
       "<div>\n",
       "<style scoped>\n",
       "    .dataframe tbody tr th:only-of-type {\n",
       "        vertical-align: middle;\n",
       "    }\n",
       "\n",
       "    .dataframe tbody tr th {\n",
       "        vertical-align: top;\n",
       "    }\n",
       "\n",
       "    .dataframe thead th {\n",
       "        text-align: right;\n",
       "    }\n",
       "</style>\n",
       "<table border=\"1\" class=\"dataframe\">\n",
       "  <thead>\n",
       "    <tr style=\"text-align: right;\">\n",
       "      <th></th>\n",
       "      <th>Na</th>\n",
       "      <th>Mg</th>\n",
       "      <th>Al</th>\n",
       "      <th>Si</th>\n",
       "      <th>K</th>\n",
       "      <th>Ca</th>\n",
       "      <th>Ba</th>\n",
       "      <th>Fe</th>\n",
       "    </tr>\n",
       "  </thead>\n",
       "  <tbody>\n",
       "    <tr>\n",
       "      <th>0</th>\n",
       "      <td>13.64</td>\n",
       "      <td>4.49</td>\n",
       "      <td>1.10</td>\n",
       "      <td>71.78</td>\n",
       "      <td>0.06</td>\n",
       "      <td>8.75</td>\n",
       "      <td>0.0</td>\n",
       "      <td>0.0</td>\n",
       "    </tr>\n",
       "    <tr>\n",
       "      <th>1</th>\n",
       "      <td>13.89</td>\n",
       "      <td>3.60</td>\n",
       "      <td>1.36</td>\n",
       "      <td>72.73</td>\n",
       "      <td>0.48</td>\n",
       "      <td>7.83</td>\n",
       "      <td>0.0</td>\n",
       "      <td>0.0</td>\n",
       "    </tr>\n",
       "    <tr>\n",
       "      <th>2</th>\n",
       "      <td>13.53</td>\n",
       "      <td>3.55</td>\n",
       "      <td>1.54</td>\n",
       "      <td>72.99</td>\n",
       "      <td>0.39</td>\n",
       "      <td>7.78</td>\n",
       "      <td>0.0</td>\n",
       "      <td>0.0</td>\n",
       "    </tr>\n",
       "    <tr>\n",
       "      <th>3</th>\n",
       "      <td>13.21</td>\n",
       "      <td>3.69</td>\n",
       "      <td>1.29</td>\n",
       "      <td>72.61</td>\n",
       "      <td>0.57</td>\n",
       "      <td>8.22</td>\n",
       "      <td>0.0</td>\n",
       "      <td>0.0</td>\n",
       "    </tr>\n",
       "    <tr>\n",
       "      <th>4</th>\n",
       "      <td>13.27</td>\n",
       "      <td>3.62</td>\n",
       "      <td>1.24</td>\n",
       "      <td>73.08</td>\n",
       "      <td>0.55</td>\n",
       "      <td>8.07</td>\n",
       "      <td>0.0</td>\n",
       "      <td>0.0</td>\n",
       "    </tr>\n",
       "  </tbody>\n",
       "</table>\n",
       "</div>"
      ],
      "text/plain": [
       "      Na    Mg    Al     Si     K    Ca   Ba   Fe\n",
       "0  13.64  4.49  1.10  71.78  0.06  8.75  0.0  0.0\n",
       "1  13.89  3.60  1.36  72.73  0.48  7.83  0.0  0.0\n",
       "2  13.53  3.55  1.54  72.99  0.39  7.78  0.0  0.0\n",
       "3  13.21  3.69  1.29  72.61  0.57  8.22  0.0  0.0\n",
       "4  13.27  3.62  1.24  73.08  0.55  8.07  0.0  0.0"
      ]
     },
     "execution_count": 4,
     "metadata": {},
     "output_type": "execute_result"
    }
   ],
   "source": [
    "print(x.shape)\n",
    "x.head()"
   ]
  },
  {
   "cell_type": "code",
   "execution_count": 5,
   "metadata": {},
   "outputs": [
    {
     "data": {
      "text/plain": [
       "0    1.52101\n",
       "1    1.51761\n",
       "2    1.51618\n",
       "3    1.51766\n",
       "4    1.51742\n",
       "Name: RI, dtype: float64"
      ]
     },
     "execution_count": 5,
     "metadata": {},
     "output_type": "execute_result"
    }
   ],
   "source": [
    "y.head()"
   ]
  },
  {
   "cell_type": "code",
   "execution_count": 6,
   "metadata": {},
   "outputs": [
    {
     "data": {
      "image/png": "[encoded data removed]",
      "text/plain": [
       "<Figure size 720x432 with 1 Axes>"
      ]
     },
     "metadata": {
      "needs_background": "light"
     },
     "output_type": "display_data"
    }
   ],
   "source": [
    "# See the data\n",
    "plt.figure(figsize = (10, 6))\n",
    "for (i, j, k) in zip(x.iloc[:, 0], y, x.index):\n",
    "    plt.scatter(x.iloc[:, 0], y, marker = '.', c = 'b')\n",
    "    plt.annotate(k, xy=(i + 0.1, j), fontsize = 8)\n",
    "    \n",
    "plt.xlabel('x1 (Na)')\n",
    "plt.ylabel('y (RI)')\n",
    "plt.show()"
   ]
  },
  {
   "cell_type": "markdown",
   "metadata": {},
   "source": [
    "### Outlier detection by partial least square (PLS) method"
   ]
  },
  {
   "cell_type": "code",
   "execution_count": 7,
   "metadata": {},
   "outputs": [],
   "source": [
    "# Set the parameters\n",
    "number_of_submodels = 100                     # Number of submodels\n",
    "max_iteration_number = 20                     # Number of iteration\n",
    "fold_number = 5                               # Number of folds in cross varidation\n",
    "max_number_of_principal_components = 50       # Max number of principal components"
   ]
  },
  {
   "cell_type": "code",
   "execution_count": 8,
   "metadata": {},
   "outputs": [],
   "source": [
    "# Initialization\n",
    "outlier_sample_flags = ~(y == y)               # Set all flags False\n",
    "previous_outlier_sample_flags = ~(y == y)      # Set all flags False"
   ]
  },
  {
   "cell_type": "code",
   "execution_count": 9,
   "metadata": {},
   "outputs": [],
   "source": [
    "# Auto-scaling function\n",
    "def auto_scale(data_frame):\n",
    "    return (data_frame - data_frame.mean()) / data_frame.std()"
   ]
  },
  {
   "cell_type": "code",
   "execution_count": 10,
   "metadata": {
    "scrolled": true
   },
   "outputs": [
    {
     "name": "stdout",
     "output_type": "stream",
     "text": [
      "Iteration\tSample number that matches outliers\n",
      "====================================================\n",
      "0               213\n",
      "1               214\n",
      "====================================================\n",
      "DONE: all outliers are matched.\n"
     ]
    }
   ],
   "source": [
    "computation_num = []\n",
    "all_R2 = []\n",
    "cnt = 0\n",
    "\n",
    "print('Iteration\\tSample number that matches outliers')\n",
    "print('=' * 52)\n",
    "np.random.seed(1)\n",
    "\n",
    "for iteration_number in range(max_iteration_number):\n",
    "    \n",
    "    normal_x = x[~outlier_sample_flags]         # Select raws that are not assigned as outliers\n",
    "    normal_y = y[~outlier_sample_flags]         # initially all are \"False\" = \"not outlier\"\n",
    "        \n",
    "    estimated_y_all = pd.DataFrame()            # Make blank DataFrame to fill in estimated y for submodels\n",
    "    \n",
    "    for submodel_number in range(number_of_submodels):\n",
    "        m = len(normal_x)\n",
    "        selected_sample_numbers = np.floor(np.random.rand(m) * m)       # Select raw number of x randomly\n",
    "\n",
    "        selected_x = normal_x.iloc[selected_sample_numbers, :]\n",
    "        selected_y = normal_y.iloc[selected_sample_numbers]\n",
    "        unique_number, unique_index = np.unique(selected_sample_numbers, return_index=True)\n",
    "        \n",
    "        std_0_variable_flags = selected_x.std() == 0          # Remove x when stdev = 0 to make computation feasible\n",
    "        new_selected_x = selected_x.drop(selected_x.columns[std_0_variable_flags], axis=1)\n",
    "        new_x = x.drop(x.columns[std_0_variable_flags], axis=1)\n",
    "        \n",
    "        # Auto-scaling\n",
    "        selected_autoscaled_x = auto_scale(new_selected_x)\n",
    "        autoscaled_x = (new_x - new_selected_x.mean()) / new_selected_x.std()\n",
    "        selected_autoscaled_y = auto_scale(selected_y)\n",
    "        \n",
    "        # Make predicted y matrix\n",
    "        components = []\n",
    "        r2_in_cv_all = []\n",
    "        \n",
    "        for component in range(1, min(np.linalg.matrix_rank(selected_autoscaled_x), max_number_of_principal_components) + 1):\n",
    "\n",
    "            submodel_f_in_cv  = PLSRegression(n_components = component)                   # PLS model defined by \"component\"\n",
    "            estimated_y_in_cv = pd.DataFrame(cross_val_predict(estimator = submodel_f_in_cv,\n",
    "                                                               X = selected_autoscaled_x,\n",
    "                                                               y = selected_autoscaled_y,\n",
    "                                                               cv = fold_number))         # estimate y in cv\n",
    "            estimated_y_in_cv = estimated_y_in_cv * selected_y.std() + selected_y.mean()  # back from auto-scaling\n",
    "            r2_in_cv = metrics.r2_score(selected_y, estimated_y_in_cv)                    # compute R2\n",
    "            \n",
    "            components.append(component)\n",
    "            r2_in_cv_all.append(r2_in_cv)\n",
    "            \n",
    "            cnt += 1\n",
    "            computation_num.append(cnt)\n",
    "            all_R2.append(r2_in_cv)\n",
    "        \n",
    "        optimal_component_number = components[r2_in_cv_all.index(max(r2_in_cv_all))]      # choose the best component number\n",
    "        best_submodel = PLSRegression(n_components = optimal_component_number)            # PLS model by the best \"component\"\n",
    "\n",
    "        best_submodel.fit(selected_autoscaled_x, selected_autoscaled_y)                   # make the best submodel\n",
    "        estimated_y = pd.DataFrame(best_submodel.predict(autoscaled_x))                   # predict y by the best submodel\n",
    "        estimated_y = estimated_y * selected_y.std() + selected_y.mean()                  # back from auto-scaling\n",
    "        estimated_y_all = pd.concat([estimated_y_all, estimated_y], axis=1)\n",
    "        \n",
    "    estimated_y_all.index = y.index\n",
    "    \n",
    "    # Find outliers\n",
    "    estimated_y_all_normal = estimated_y_all[~outlier_sample_flags]\n",
    "    estimated_y_median_normal = estimated_y_all_normal.median(axis = 1)\n",
    "    estimated_y_mad_normal = np.median(abs(estimated_y_all_normal - np.median(estimated_y_median_normal)))\n",
    "    y_error = abs(y - estimated_y_all.median(axis=1))\n",
    "    outlier_sample_flags = y_error > 3 * 1.4826 * estimated_y_mad_normal\n",
    "    \n",
    "    print(iteration_number, '             ', sum(outlier_sample_flags == previous_outlier_sample_flags))\n",
    "    \n",
    "    if sum(outlier_sample_flags == previous_outlier_sample_flags) == len(x):\n",
    "        print('=' * 52)\n",
    "        print('DONE: all outliers are matched.')\n",
    "        break\n",
    "        \n",
    "    previous_outlier_sample_flags = outlier_sample_flags.copy()"
   ]
  },
  {
   "cell_type": "code",
   "execution_count": 11,
   "metadata": {},
   "outputs": [
    {
     "data": {
      "image/png": "[encoded data removed]",
      "text/plain": [
       "<Figure size 864x216 with 1 Axes>"
      ]
     },
     "metadata": {
      "needs_background": "light"
     },
     "output_type": "display_data"
    }
   ],
   "source": [
    "# See R2 trend during computation\n",
    "plt.figure(figsize = (12, 3))\n",
    "plt.scatter(computation_num, all_R2, marker = '.', c = 'r', alpha = 0.1)\n",
    "plt.xlabel('times in computing')\n",
    "plt.ylabel('R2')\n",
    "plt.show()"
   ]
  },
  {
   "cell_type": "code",
   "execution_count": 12,
   "metadata": {
    "scrolled": false
   },
   "outputs": [
    {
     "name": "stdout",
     "output_type": "stream",
     "text": [
      "(214, 1)\n"
     ]
    },
    {
     "data": {
      "text/html": [
       "<div>\n",
       "<style scoped>\n",
       "    .dataframe tbody tr th:only-of-type {\n",
       "        vertical-align: middle;\n",
       "    }\n",
       "\n",
       "    .dataframe tbody tr th {\n",
       "        vertical-align: top;\n",
       "    }\n",
       "\n",
       "    .dataframe thead th {\n",
       "        text-align: right;\n",
       "    }\n",
       "</style>\n",
       "<table border=\"1\" class=\"dataframe\">\n",
       "  <thead>\n",
       "    <tr style=\"text-align: right;\">\n",
       "      <th></th>\n",
       "      <th>TRUE if outlier samples</th>\n",
       "    </tr>\n",
       "  </thead>\n",
       "  <tbody>\n",
       "    <tr>\n",
       "      <th>0</th>\n",
       "      <td>False</td>\n",
       "    </tr>\n",
       "    <tr>\n",
       "      <th>1</th>\n",
       "      <td>False</td>\n",
       "    </tr>\n",
       "    <tr>\n",
       "      <th>2</th>\n",
       "      <td>False</td>\n",
       "    </tr>\n",
       "    <tr>\n",
       "      <th>3</th>\n",
       "      <td>False</td>\n",
       "    </tr>\n",
       "    <tr>\n",
       "      <th>4</th>\n",
       "      <td>False</td>\n",
       "    </tr>\n",
       "  </tbody>\n",
       "</table>\n",
       "</div>"
      ],
      "text/plain": [
       "   TRUE if outlier samples\n",
       "0                    False\n",
       "1                    False\n",
       "2                    False\n",
       "3                    False\n",
       "4                    False"
      ]
     },
     "execution_count": 12,
     "metadata": {},
     "output_type": "execute_result"
    }
   ],
   "source": [
    "# See flags for all samples\n",
    "outlier_sample_flags = pd.DataFrame(outlier_sample_flags)\n",
    "outlier_sample_flags.columns = ['TRUE if outlier samples']\n",
    "outlier_sample_flags.to_csv('outlier_sample_detection_results_pls.csv')\n",
    "\n",
    "print(outlier_sample_flags.shape)\n",
    "outlier_sample_flags.head()"
   ]
  },
  {
   "cell_type": "code",
   "execution_count": 13,
   "metadata": {},
   "outputs": [
    {
     "name": "stdout",
     "output_type": "stream",
     "text": [
      "Number of all data           214\n",
      "Number of non-outlier data   213\n"
     ]
    },
    {
     "data": {
      "text/html": [
       "<div>\n",
       "<style scoped>\n",
       "    .dataframe tbody tr th:only-of-type {\n",
       "        vertical-align: middle;\n",
       "    }\n",
       "\n",
       "    .dataframe tbody tr th {\n",
       "        vertical-align: top;\n",
       "    }\n",
       "\n",
       "    .dataframe thead th {\n",
       "        text-align: right;\n",
       "    }\n",
       "</style>\n",
       "<table border=\"1\" class=\"dataframe\">\n",
       "  <thead>\n",
       "    <tr style=\"text-align: right;\">\n",
       "      <th></th>\n",
       "      <th>TRUE if outlier samples</th>\n",
       "    </tr>\n",
       "  </thead>\n",
       "  <tbody>\n",
       "    <tr>\n",
       "      <th>0</th>\n",
       "      <td>False</td>\n",
       "    </tr>\n",
       "    <tr>\n",
       "      <th>1</th>\n",
       "      <td>False</td>\n",
       "    </tr>\n",
       "    <tr>\n",
       "      <th>2</th>\n",
       "      <td>False</td>\n",
       "    </tr>\n",
       "    <tr>\n",
       "      <th>3</th>\n",
       "      <td>False</td>\n",
       "    </tr>\n",
       "    <tr>\n",
       "      <th>4</th>\n",
       "      <td>False</td>\n",
       "    </tr>\n",
       "  </tbody>\n",
       "</table>\n",
       "</div>"
      ],
      "text/plain": [
       "   TRUE if outlier samples\n",
       "0                    False\n",
       "1                    False\n",
       "2                    False\n",
       "3                    False\n",
       "4                    False"
      ]
     },
     "execution_count": 13,
     "metadata": {},
     "output_type": "execute_result"
    }
   ],
   "source": [
    "# See non-outlier samples\n",
    "sample_selected = outlier_sample_flags[outlier_sample_flags['TRUE if outlier samples'] == False]\n",
    "print('Number of all data          ', len(x))\n",
    "print('Number of non-outlier data  ', len(sample_selected))\n",
    "sample_selected.head()"
   ]
  },
  {
   "cell_type": "code",
   "execution_count": 14,
   "metadata": {},
   "outputs": [
    {
     "name": "stdout",
     "output_type": "stream",
     "text": [
      "(213, 9)\n"
     ]
    },
    {
     "data": {
      "text/html": [
       "<div>\n",
       "<style scoped>\n",
       "    .dataframe tbody tr th:only-of-type {\n",
       "        vertical-align: middle;\n",
       "    }\n",
       "\n",
       "    .dataframe tbody tr th {\n",
       "        vertical-align: top;\n",
       "    }\n",
       "\n",
       "    .dataframe thead th {\n",
       "        text-align: right;\n",
       "    }\n",
       "</style>\n",
       "<table border=\"1\" class=\"dataframe\">\n",
       "  <thead>\n",
       "    <tr style=\"text-align: right;\">\n",
       "      <th></th>\n",
       "      <th>Na</th>\n",
       "      <th>Mg</th>\n",
       "      <th>Al</th>\n",
       "      <th>Si</th>\n",
       "      <th>K</th>\n",
       "      <th>Ca</th>\n",
       "      <th>Ba</th>\n",
       "      <th>Fe</th>\n",
       "      <th>RI</th>\n",
       "    </tr>\n",
       "  </thead>\n",
       "  <tbody>\n",
       "    <tr>\n",
       "      <th>0</th>\n",
       "      <td>13.64</td>\n",
       "      <td>4.49</td>\n",
       "      <td>1.10</td>\n",
       "      <td>71.78</td>\n",
       "      <td>0.06</td>\n",
       "      <td>8.75</td>\n",
       "      <td>0.0</td>\n",
       "      <td>0.0</td>\n",
       "      <td>1.52101</td>\n",
       "    </tr>\n",
       "    <tr>\n",
       "      <th>1</th>\n",
       "      <td>13.89</td>\n",
       "      <td>3.60</td>\n",
       "      <td>1.36</td>\n",
       "      <td>72.73</td>\n",
       "      <td>0.48</td>\n",
       "      <td>7.83</td>\n",
       "      <td>0.0</td>\n",
       "      <td>0.0</td>\n",
       "      <td>1.51761</td>\n",
       "    </tr>\n",
       "    <tr>\n",
       "      <th>2</th>\n",
       "      <td>13.53</td>\n",
       "      <td>3.55</td>\n",
       "      <td>1.54</td>\n",
       "      <td>72.99</td>\n",
       "      <td>0.39</td>\n",
       "      <td>7.78</td>\n",
       "      <td>0.0</td>\n",
       "      <td>0.0</td>\n",
       "      <td>1.51618</td>\n",
       "    </tr>\n",
       "    <tr>\n",
       "      <th>3</th>\n",
       "      <td>13.21</td>\n",
       "      <td>3.69</td>\n",
       "      <td>1.29</td>\n",
       "      <td>72.61</td>\n",
       "      <td>0.57</td>\n",
       "      <td>8.22</td>\n",
       "      <td>0.0</td>\n",
       "      <td>0.0</td>\n",
       "      <td>1.51766</td>\n",
       "    </tr>\n",
       "    <tr>\n",
       "      <th>4</th>\n",
       "      <td>13.27</td>\n",
       "      <td>3.62</td>\n",
       "      <td>1.24</td>\n",
       "      <td>73.08</td>\n",
       "      <td>0.55</td>\n",
       "      <td>8.07</td>\n",
       "      <td>0.0</td>\n",
       "      <td>0.0</td>\n",
       "      <td>1.51742</td>\n",
       "    </tr>\n",
       "  </tbody>\n",
       "</table>\n",
       "</div>"
      ],
      "text/plain": [
       "      Na    Mg    Al     Si     K    Ca   Ba   Fe       RI\n",
       "0  13.64  4.49  1.10  71.78  0.06  8.75  0.0  0.0  1.52101\n",
       "1  13.89  3.60  1.36  72.73  0.48  7.83  0.0  0.0  1.51761\n",
       "2  13.53  3.55  1.54  72.99  0.39  7.78  0.0  0.0  1.51618\n",
       "3  13.21  3.69  1.29  72.61  0.57  8.22  0.0  0.0  1.51766\n",
       "4  13.27  3.62  1.24  73.08  0.55  8.07  0.0  0.0  1.51742"
      ]
     },
     "execution_count": 14,
     "metadata": {},
     "output_type": "execute_result"
    }
   ],
   "source": [
    "# Save non-outlier dataset as DataFrame\n",
    "flag_x = sample_selected.join(x, how='inner')\n",
    "flag_y = sample_selected.join(y, how='inner')\n",
    "flag_xy = flag_x.join(y, how='inner')\n",
    "xy_non_outlier = flag_xy.drop('TRUE if outlier samples', axis=1)\n",
    "xy_non_outlier.to_csv(file_name + '_removed_outlier.csv', index = False)\n",
    "\n",
    "print(xy_non_outlier.shape)\n",
    "xy_non_outlier.head()"
   ]
  },
  {
   "cell_type": "code",
   "execution_count": 15,
   "metadata": {},
   "outputs": [
    {
     "name": "stdout",
     "output_type": "stream",
     "text": [
      "Number of all data       214\n",
      "Number of outlier data   1\n",
      "(1, 9)\n"
     ]
    },
    {
     "data": {
      "text/html": [
       "<div>\n",
       "<style scoped>\n",
       "    .dataframe tbody tr th:only-of-type {\n",
       "        vertical-align: middle;\n",
       "    }\n",
       "\n",
       "    .dataframe tbody tr th {\n",
       "        vertical-align: top;\n",
       "    }\n",
       "\n",
       "    .dataframe thead th {\n",
       "        text-align: right;\n",
       "    }\n",
       "</style>\n",
       "<table border=\"1\" class=\"dataframe\">\n",
       "  <thead>\n",
       "    <tr style=\"text-align: right;\">\n",
       "      <th></th>\n",
       "      <th>Na</th>\n",
       "      <th>Mg</th>\n",
       "      <th>Al</th>\n",
       "      <th>Si</th>\n",
       "      <th>K</th>\n",
       "      <th>Ca</th>\n",
       "      <th>Ba</th>\n",
       "      <th>Fe</th>\n",
       "      <th>RI</th>\n",
       "    </tr>\n",
       "  </thead>\n",
       "  <tbody>\n",
       "    <tr>\n",
       "      <th>56</th>\n",
       "      <td>12.99</td>\n",
       "      <td>3.47</td>\n",
       "      <td>1.12</td>\n",
       "      <td>72.98</td>\n",
       "      <td>0.62</td>\n",
       "      <td>8.35</td>\n",
       "      <td>0.0</td>\n",
       "      <td>0.31</td>\n",
       "      <td>1.51215</td>\n",
       "    </tr>\n",
       "  </tbody>\n",
       "</table>\n",
       "</div>"
      ],
      "text/plain": [
       "       Na    Mg    Al     Si     K    Ca   Ba    Fe       RI\n",
       "56  12.99  3.47  1.12  72.98  0.62  8.35  0.0  0.31  1.51215"
      ]
     },
     "execution_count": 15,
     "metadata": {},
     "output_type": "execute_result"
    }
   ],
   "source": [
    "# See outlier samples\n",
    "sample_outlier = outlier_sample_flags[outlier_sample_flags['TRUE if outlier samples'] == True]\n",
    "print('Number of all data      ', len(x))\n",
    "print('Number of outlier data  ', len(sample_outlier))\n",
    "\n",
    "flag_xo = sample_outlier.join(x, how='inner')\n",
    "flag_yo = sample_outlier.join(y, how='inner')\n",
    "flag_xyo = flag_xo.join(y, how='inner')\n",
    "xy_outlier = flag_xyo.drop('TRUE if outlier samples', axis=1)\n",
    "\n",
    "print(xy_outlier.shape)\n",
    "xy_outlier.head()"
   ]
  },
  {
   "cell_type": "code",
   "execution_count": 16,
   "metadata": {},
   "outputs": [
    {
     "data": {
      "image/png": "[encoded data removed]",
      "text/plain": [
       "<Figure size 720x432 with 1 Axes>"
      ]
     },
     "metadata": {
      "needs_background": "light"
     },
     "output_type": "display_data"
    }
   ],
   "source": [
    "# See the data without outliers\n",
    "plt.figure(figsize = (10, 6))\n",
    "for (i, j, k) in zip(x.iloc[:, 0], y, x.index):\n",
    "    plt.scatter(x.iloc[:, 0], y, marker = '.', c = 'b')\n",
    "    plt.annotate(k, xy=(i + 0.1, j), fontsize = 8)\n",
    "    \n",
    "for (i, j) in zip(xy_outlier.iloc[:, 0], xy_outlier.iloc[:, 8]):\n",
    "    plt.scatter(xy_outlier.iloc[:, 0], xy_outlier.iloc[:, 8], marker = 'o',\n",
    "                s = 150, facecolor = 'none', edgecolor = 'r', linewidths = 1)\n",
    "    \n",
    "plt.xlabel('x1 (Na)')\n",
    "plt.ylabel('y (RI)')\n",
    "plt.title('red circle : detected outlier')\n",
    "plt.show()"
   ]
  }
 ],
 "metadata": {
  "kernelspec": {
   "display_name": "Python 3",
   "language": "python",
   "name": "python3"
  },
  "language_info": {
   "codemirror_mode": {
    "name": "ipython",
    "version": 3
   },
   "file_extension": ".py",
   "mimetype": "text/x-python",
   "name": "python",
   "nbconvert_exporter": "python",
   "pygments_lexer": "ipython3",
   "version": "3.7.4"
  }
 },
 "nbformat": 4,
 "nbformat_minor": 2
}
