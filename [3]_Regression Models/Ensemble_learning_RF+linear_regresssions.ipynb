{
 "cells": [
  {
   "cell_type": "markdown",
   "metadata": {},
   "source": [
    "# Ensemble learning using random forest and linear (Ridge) regression\n",
    "Reference: Coursera \"Advanced machine learning\" from HSE assignment \"1C company\""
   ]
  },
  {
   "cell_type": "code",
   "execution_count": 1,
   "metadata": {},
   "outputs": [
    {
     "name": "stdout",
     "output_type": "stream",
     "text": [
      "pandas 0.25.1\n",
      "numpy 1.16.5\n",
      "seaborn 0.9.0\n",
      "sklearn 0.21.3\n"
     ]
    }
   ],
   "source": [
    "%matplotlib inline\n",
    "import pandas as pd\n",
    "import numpy as np\n",
    "import matplotlib.pyplot as plt\n",
    "import seaborn as sns\n",
    "import sklearn\n",
    "import pickle\n",
    "\n",
    "from sklearn.metrics import r2_score, mean_squared_error\n",
    "from sklearn.linear_model import Ridge\n",
    "from sklearn.ensemble import RandomForestRegressor\n",
    "\n",
    "import GPy, GPyOpt\n",
    "from GPyOpt.methods import BayesianOptimization\n",
    "\n",
    "for p in [pd, np, sns, sklearn]:\n",
    "    print (p.__name__, p.__version__)"
   ]
  },
  {
   "cell_type": "code",
   "execution_count": 2,
   "metadata": {},
   "outputs": [
    {
     "name": "stdout",
     "output_type": "stream",
     "text": [
      "(214, 11)\n"
     ]
    },
    {
     "data": {
      "text/html": [
       "<div>\n",
       "<style scoped>\n",
       "    .dataframe tbody tr th:only-of-type {\n",
       "        vertical-align: middle;\n",
       "    }\n",
       "\n",
       "    .dataframe tbody tr th {\n",
       "        vertical-align: top;\n",
       "    }\n",
       "\n",
       "    .dataframe thead th {\n",
       "        text-align: right;\n",
       "    }\n",
       "</style>\n",
       "<table border=\"1\" class=\"dataframe\">\n",
       "  <thead>\n",
       "    <tr style=\"text-align: right;\">\n",
       "      <th></th>\n",
       "      <th>Id number</th>\n",
       "      <th>RI</th>\n",
       "      <th>Na</th>\n",
       "      <th>Mg</th>\n",
       "      <th>Al</th>\n",
       "      <th>Si</th>\n",
       "      <th>K</th>\n",
       "      <th>Ca</th>\n",
       "      <th>Ba</th>\n",
       "      <th>Fe</th>\n",
       "      <th>Type of glass</th>\n",
       "    </tr>\n",
       "  </thead>\n",
       "  <tbody>\n",
       "    <tr>\n",
       "      <td>0</td>\n",
       "      <td>1</td>\n",
       "      <td>1.52101</td>\n",
       "      <td>13.64</td>\n",
       "      <td>4.49</td>\n",
       "      <td>1.10</td>\n",
       "      <td>71.78</td>\n",
       "      <td>0.06</td>\n",
       "      <td>8.75</td>\n",
       "      <td>0.0</td>\n",
       "      <td>0.0</td>\n",
       "      <td>1</td>\n",
       "    </tr>\n",
       "    <tr>\n",
       "      <td>1</td>\n",
       "      <td>2</td>\n",
       "      <td>1.51761</td>\n",
       "      <td>13.89</td>\n",
       "      <td>3.60</td>\n",
       "      <td>1.36</td>\n",
       "      <td>72.73</td>\n",
       "      <td>0.48</td>\n",
       "      <td>7.83</td>\n",
       "      <td>0.0</td>\n",
       "      <td>0.0</td>\n",
       "      <td>1</td>\n",
       "    </tr>\n",
       "    <tr>\n",
       "      <td>2</td>\n",
       "      <td>3</td>\n",
       "      <td>1.51618</td>\n",
       "      <td>13.53</td>\n",
       "      <td>3.55</td>\n",
       "      <td>1.54</td>\n",
       "      <td>72.99</td>\n",
       "      <td>0.39</td>\n",
       "      <td>7.78</td>\n",
       "      <td>0.0</td>\n",
       "      <td>0.0</td>\n",
       "      <td>1</td>\n",
       "    </tr>\n",
       "    <tr>\n",
       "      <td>3</td>\n",
       "      <td>4</td>\n",
       "      <td>1.51766</td>\n",
       "      <td>13.21</td>\n",
       "      <td>3.69</td>\n",
       "      <td>1.29</td>\n",
       "      <td>72.61</td>\n",
       "      <td>0.57</td>\n",
       "      <td>8.22</td>\n",
       "      <td>0.0</td>\n",
       "      <td>0.0</td>\n",
       "      <td>1</td>\n",
       "    </tr>\n",
       "    <tr>\n",
       "      <td>4</td>\n",
       "      <td>5</td>\n",
       "      <td>1.51742</td>\n",
       "      <td>13.27</td>\n",
       "      <td>3.62</td>\n",
       "      <td>1.24</td>\n",
       "      <td>73.08</td>\n",
       "      <td>0.55</td>\n",
       "      <td>8.07</td>\n",
       "      <td>0.0</td>\n",
       "      <td>0.0</td>\n",
       "      <td>1</td>\n",
       "    </tr>\n",
       "  </tbody>\n",
       "</table>\n",
       "</div>"
      ],
      "text/plain": [
       "   Id number       RI     Na    Mg    Al     Si     K    Ca   Ba   Fe  \\\n",
       "0          1  1.52101  13.64  4.49  1.10  71.78  0.06  8.75  0.0  0.0   \n",
       "1          2  1.51761  13.89  3.60  1.36  72.73  0.48  7.83  0.0  0.0   \n",
       "2          3  1.51618  13.53  3.55  1.54  72.99  0.39  7.78  0.0  0.0   \n",
       "3          4  1.51766  13.21  3.69  1.29  72.61  0.57  8.22  0.0  0.0   \n",
       "4          5  1.51742  13.27  3.62  1.24  73.08  0.55  8.07  0.0  0.0   \n",
       "\n",
       "   Type of glass  \n",
       "0              1  \n",
       "1              1  \n",
       "2              1  \n",
       "3              1  \n",
       "4              1  "
      ]
     },
     "execution_count": 2,
     "metadata": {},
     "output_type": "execute_result"
    }
   ],
   "source": [
    "# load dataset\n",
    "df = pd.read_csv('glass.csv')\n",
    "print(df.shape)\n",
    "df.head()"
   ]
  },
  {
   "cell_type": "code",
   "execution_count": 3,
   "metadata": {},
   "outputs": [
    {
     "name": "stdout",
     "output_type": "stream",
     "text": [
      "(214, 9)\n"
     ]
    },
    {
     "data": {
      "text/html": [
       "<div>\n",
       "<style scoped>\n",
       "    .dataframe tbody tr th:only-of-type {\n",
       "        vertical-align: middle;\n",
       "    }\n",
       "\n",
       "    .dataframe tbody tr th {\n",
       "        vertical-align: top;\n",
       "    }\n",
       "\n",
       "    .dataframe thead th {\n",
       "        text-align: right;\n",
       "    }\n",
       "</style>\n",
       "<table border=\"1\" class=\"dataframe\">\n",
       "  <thead>\n",
       "    <tr style=\"text-align: right;\">\n",
       "      <th></th>\n",
       "      <th>RI</th>\n",
       "      <th>Na</th>\n",
       "      <th>Mg</th>\n",
       "      <th>Al</th>\n",
       "      <th>Si</th>\n",
       "      <th>K</th>\n",
       "      <th>Ca</th>\n",
       "      <th>Ba</th>\n",
       "      <th>Fe</th>\n",
       "    </tr>\n",
       "  </thead>\n",
       "  <tbody>\n",
       "    <tr>\n",
       "      <td>0</td>\n",
       "      <td>1.52101</td>\n",
       "      <td>13.64</td>\n",
       "      <td>4.49</td>\n",
       "      <td>1.10</td>\n",
       "      <td>71.78</td>\n",
       "      <td>0.06</td>\n",
       "      <td>8.75</td>\n",
       "      <td>0.0</td>\n",
       "      <td>0.0</td>\n",
       "    </tr>\n",
       "    <tr>\n",
       "      <td>1</td>\n",
       "      <td>1.51761</td>\n",
       "      <td>13.89</td>\n",
       "      <td>3.60</td>\n",
       "      <td>1.36</td>\n",
       "      <td>72.73</td>\n",
       "      <td>0.48</td>\n",
       "      <td>7.83</td>\n",
       "      <td>0.0</td>\n",
       "      <td>0.0</td>\n",
       "    </tr>\n",
       "    <tr>\n",
       "      <td>2</td>\n",
       "      <td>1.51618</td>\n",
       "      <td>13.53</td>\n",
       "      <td>3.55</td>\n",
       "      <td>1.54</td>\n",
       "      <td>72.99</td>\n",
       "      <td>0.39</td>\n",
       "      <td>7.78</td>\n",
       "      <td>0.0</td>\n",
       "      <td>0.0</td>\n",
       "    </tr>\n",
       "    <tr>\n",
       "      <td>3</td>\n",
       "      <td>1.51766</td>\n",
       "      <td>13.21</td>\n",
       "      <td>3.69</td>\n",
       "      <td>1.29</td>\n",
       "      <td>72.61</td>\n",
       "      <td>0.57</td>\n",
       "      <td>8.22</td>\n",
       "      <td>0.0</td>\n",
       "      <td>0.0</td>\n",
       "    </tr>\n",
       "    <tr>\n",
       "      <td>4</td>\n",
       "      <td>1.51742</td>\n",
       "      <td>13.27</td>\n",
       "      <td>3.62</td>\n",
       "      <td>1.24</td>\n",
       "      <td>73.08</td>\n",
       "      <td>0.55</td>\n",
       "      <td>8.07</td>\n",
       "      <td>0.0</td>\n",
       "      <td>0.0</td>\n",
       "    </tr>\n",
       "  </tbody>\n",
       "</table>\n",
       "</div>"
      ],
      "text/plain": [
       "        RI     Na    Mg    Al     Si     K    Ca   Ba   Fe\n",
       "0  1.52101  13.64  4.49  1.10  71.78  0.06  8.75  0.0  0.0\n",
       "1  1.51761  13.89  3.60  1.36  72.73  0.48  7.83  0.0  0.0\n",
       "2  1.51618  13.53  3.55  1.54  72.99  0.39  7.78  0.0  0.0\n",
       "3  1.51766  13.21  3.69  1.29  72.61  0.57  8.22  0.0  0.0\n",
       "4  1.51742  13.27  3.62  1.24  73.08  0.55  8.07  0.0  0.0"
      ]
     },
     "execution_count": 3,
     "metadata": {},
     "output_type": "execute_result"
    }
   ],
   "source": [
    "df_test = df.drop(df.columns[[0, 10]], axis=1)\n",
    "print(df_test.shape)\n",
    "df_test.head()"
   ]
  },
  {
   "cell_type": "code",
   "execution_count": 4,
   "metadata": {},
   "outputs": [],
   "source": [
    "X = df_test.iloc[:, 1:]\n",
    "y = df_test.iloc[:, :1]"
   ]
  },
  {
   "cell_type": "code",
   "execution_count": 5,
   "metadata": {},
   "outputs": [
    {
     "name": "stdout",
     "output_type": "stream",
     "text": [
      "(214, 8)\n"
     ]
    },
    {
     "data": {
      "text/html": [
       "<div>\n",
       "<style scoped>\n",
       "    .dataframe tbody tr th:only-of-type {\n",
       "        vertical-align: middle;\n",
       "    }\n",
       "\n",
       "    .dataframe tbody tr th {\n",
       "        vertical-align: top;\n",
       "    }\n",
       "\n",
       "    .dataframe thead th {\n",
       "        text-align: right;\n",
       "    }\n",
       "</style>\n",
       "<table border=\"1\" class=\"dataframe\">\n",
       "  <thead>\n",
       "    <tr style=\"text-align: right;\">\n",
       "      <th></th>\n",
       "      <th>Na</th>\n",
       "      <th>Mg</th>\n",
       "      <th>Al</th>\n",
       "      <th>Si</th>\n",
       "      <th>K</th>\n",
       "      <th>Ca</th>\n",
       "      <th>Ba</th>\n",
       "      <th>Fe</th>\n",
       "    </tr>\n",
       "  </thead>\n",
       "  <tbody>\n",
       "    <tr>\n",
       "      <td>0</td>\n",
       "      <td>13.64</td>\n",
       "      <td>4.49</td>\n",
       "      <td>1.10</td>\n",
       "      <td>71.78</td>\n",
       "      <td>0.06</td>\n",
       "      <td>8.75</td>\n",
       "      <td>0.0</td>\n",
       "      <td>0.0</td>\n",
       "    </tr>\n",
       "    <tr>\n",
       "      <td>1</td>\n",
       "      <td>13.89</td>\n",
       "      <td>3.60</td>\n",
       "      <td>1.36</td>\n",
       "      <td>72.73</td>\n",
       "      <td>0.48</td>\n",
       "      <td>7.83</td>\n",
       "      <td>0.0</td>\n",
       "      <td>0.0</td>\n",
       "    </tr>\n",
       "    <tr>\n",
       "      <td>2</td>\n",
       "      <td>13.53</td>\n",
       "      <td>3.55</td>\n",
       "      <td>1.54</td>\n",
       "      <td>72.99</td>\n",
       "      <td>0.39</td>\n",
       "      <td>7.78</td>\n",
       "      <td>0.0</td>\n",
       "      <td>0.0</td>\n",
       "    </tr>\n",
       "    <tr>\n",
       "      <td>3</td>\n",
       "      <td>13.21</td>\n",
       "      <td>3.69</td>\n",
       "      <td>1.29</td>\n",
       "      <td>72.61</td>\n",
       "      <td>0.57</td>\n",
       "      <td>8.22</td>\n",
       "      <td>0.0</td>\n",
       "      <td>0.0</td>\n",
       "    </tr>\n",
       "    <tr>\n",
       "      <td>4</td>\n",
       "      <td>13.27</td>\n",
       "      <td>3.62</td>\n",
       "      <td>1.24</td>\n",
       "      <td>73.08</td>\n",
       "      <td>0.55</td>\n",
       "      <td>8.07</td>\n",
       "      <td>0.0</td>\n",
       "      <td>0.0</td>\n",
       "    </tr>\n",
       "  </tbody>\n",
       "</table>\n",
       "</div>"
      ],
      "text/plain": [
       "      Na    Mg    Al     Si     K    Ca   Ba   Fe\n",
       "0  13.64  4.49  1.10  71.78  0.06  8.75  0.0  0.0\n",
       "1  13.89  3.60  1.36  72.73  0.48  7.83  0.0  0.0\n",
       "2  13.53  3.55  1.54  72.99  0.39  7.78  0.0  0.0\n",
       "3  13.21  3.69  1.29  72.61  0.57  8.22  0.0  0.0\n",
       "4  13.27  3.62  1.24  73.08  0.55  8.07  0.0  0.0"
      ]
     },
     "execution_count": 5,
     "metadata": {},
     "output_type": "execute_result"
    }
   ],
   "source": [
    "print(X.shape)\n",
    "X.head()"
   ]
  },
  {
   "cell_type": "code",
   "execution_count": 6,
   "metadata": {},
   "outputs": [
    {
     "name": "stdout",
     "output_type": "stream",
     "text": [
      "(214, 1)\n"
     ]
    },
    {
     "data": {
      "text/html": [
       "<div>\n",
       "<style scoped>\n",
       "    .dataframe tbody tr th:only-of-type {\n",
       "        vertical-align: middle;\n",
       "    }\n",
       "\n",
       "    .dataframe tbody tr th {\n",
       "        vertical-align: top;\n",
       "    }\n",
       "\n",
       "    .dataframe thead th {\n",
       "        text-align: right;\n",
       "    }\n",
       "</style>\n",
       "<table border=\"1\" class=\"dataframe\">\n",
       "  <thead>\n",
       "    <tr style=\"text-align: right;\">\n",
       "      <th></th>\n",
       "      <th>RI</th>\n",
       "    </tr>\n",
       "  </thead>\n",
       "  <tbody>\n",
       "    <tr>\n",
       "      <td>0</td>\n",
       "      <td>1.52101</td>\n",
       "    </tr>\n",
       "    <tr>\n",
       "      <td>1</td>\n",
       "      <td>1.51761</td>\n",
       "    </tr>\n",
       "    <tr>\n",
       "      <td>2</td>\n",
       "      <td>1.51618</td>\n",
       "    </tr>\n",
       "    <tr>\n",
       "      <td>3</td>\n",
       "      <td>1.51766</td>\n",
       "    </tr>\n",
       "    <tr>\n",
       "      <td>4</td>\n",
       "      <td>1.51742</td>\n",
       "    </tr>\n",
       "  </tbody>\n",
       "</table>\n",
       "</div>"
      ],
      "text/plain": [
       "        RI\n",
       "0  1.52101\n",
       "1  1.51761\n",
       "2  1.51618\n",
       "3  1.51766\n",
       "4  1.51742"
      ]
     },
     "execution_count": 6,
     "metadata": {},
     "output_type": "execute_result"
    }
   ],
   "source": [
    "print(y.shape)\n",
    "y.head()"
   ]
  },
  {
   "cell_type": "code",
   "execution_count": 7,
   "metadata": {},
   "outputs": [],
   "source": [
    "# Load model - random forest\n",
    "with open('best_RF_sklearn.pickle', mode='rb') as f:\n",
    "    best_rfr = pickle.load(f)"
   ]
  },
  {
   "cell_type": "code",
   "execution_count": 8,
   "metadata": {},
   "outputs": [],
   "source": [
    "# Load models - Ridge\n",
    "with open('best_Ridge_sklearn.pickle', mode='rb') as f:\n",
    "    best_rgr = pickle.load(f)"
   ]
  },
  {
   "cell_type": "code",
   "execution_count": 9,
   "metadata": {},
   "outputs": [
    {
     "name": "stdout",
     "output_type": "stream",
     "text": [
      "[[1.52053058]\n",
      " [1.51755252]\n",
      " [1.51634003]\n",
      " [1.51787683]\n",
      " [1.51752972]]\n",
      "[[1.52002012]\n",
      " [1.51663008]\n",
      " [1.51602959]\n",
      " [1.51764536]\n",
      " [1.5167603 ]]\n"
     ]
    }
   ],
   "source": [
    "# Check predictions by 2 models\n",
    "pred_rfr = best_rfr.predict(X).reshape(-1, 1)\n",
    "pred_rgr = best_rgr.predict(X)\n",
    "\n",
    "print(pred_rfr[:5])\n",
    "print(pred_rgr[:5])"
   ]
  },
  {
   "cell_type": "code",
   "execution_count": 10,
   "metadata": {},
   "outputs": [
    {
     "name": "stdout",
     "output_type": "stream",
     "text": [
      "R2 score random forest =  0.9364191811871309\n",
      "R2 score Ridge         =  0.8887624427238439\n"
     ]
    }
   ],
   "source": [
    "# Check R2 scores by 2 models\n",
    "print('R2 score random forest = ', r2_score(y, pred_rfr))\n",
    "print('R2 score Ridge         = ', r2_score(y, pred_rgr))"
   ]
  },
  {
   "cell_type": "markdown",
   "metadata": {},
   "source": [
    "### Concatenate test predictions to get test meta-features"
   ]
  },
  {
   "cell_type": "code",
   "execution_count": 11,
   "metadata": {},
   "outputs": [
    {
     "name": "stdout",
     "output_type": "stream",
     "text": [
      "(214, 2)\n"
     ]
    },
    {
     "data": {
      "text/plain": [
       "array([[1.52053058, 1.52002012],\n",
       "       [1.51755252, 1.51663008],\n",
       "       [1.51634003, 1.51602959],\n",
       "       [1.51787683, 1.51764536],\n",
       "       [1.51752972, 1.5167603 ]])"
      ]
     },
     "execution_count": 11,
     "metadata": {},
     "output_type": "execute_result"
    }
   ],
   "source": [
    "# Concatnate 2 predictions\n",
    "X_train_level2 = np.c_[pred_rfr, pred_rgr] \n",
    "\n",
    "print(X_train_level2.shape)\n",
    "X_train_level2[:5]"
   ]
  },
  {
   "cell_type": "code",
   "execution_count": 12,
   "metadata": {},
   "outputs": [
    {
     "data": {
      "image/png": "[encoded data removed]",
      "text/plain": [
       "<Figure size 288x288 with 1 Axes>"
      ]
     },
     "metadata": {
      "needs_background": "light"
     },
     "output_type": "display_data"
    }
   ],
   "source": [
    "# Check diversity\n",
    "plt.figure(figsize = (4, 4))\n",
    "plt.scatter(X_train_level2[:, 0], X_train_level2[:, 1], marker = 'o', c = 'r', alpha = 0.3)\n",
    "plt.title('Diversity of the two meta-features')\n",
    "plt.xlabel('RF')\n",
    "plt.ylabel('Ridge')\n",
    "plt.show()"
   ]
  },
  {
   "cell_type": "markdown",
   "metadata": {},
   "source": [
    "### Ensembling\n",
    "Use simple linear convex mix:\n",
    "$$\n",
    "𝑚𝑖𝑥 = 𝛼⋅RF prediction + (1 − 𝛼)⋅Ridge prediction\n",
    "$$"
   ]
  },
  {
   "cell_type": "code",
   "execution_count": 13,
   "metadata": {},
   "outputs": [
    {
     "name": "stdout",
     "output_type": "stream",
     "text": [
      "Best alpha =  0.802\n"
     ]
    }
   ],
   "source": [
    "# Find alpha\n",
    "alphas_to_try = np.linspace(0, 1, 1001)\n",
    "\n",
    "best_alpha = 0\n",
    "r2_train_simple_mix = 0\n",
    "\n",
    "for alpha in alphas_to_try :\n",
    "    mix = alpha * X_train_level2[:, 0] + (1 - alpha) * X_train_level2[:, 1]\n",
    "    r2 = r2_score(y, mix)\n",
    "    \n",
    "    if r2 > r2_train_simple_mix :\n",
    "        best_alpha = alpha\n",
    "        r2_train_simple_mix = r2\n",
    "\n",
    "print('Best alpha = ', best_alpha)"
   ]
  },
  {
   "cell_type": "code",
   "execution_count": 14,
   "metadata": {},
   "outputs": [],
   "source": [
    "# Make the level2 target\n",
    "y_train_level2 = best_alpha * X_train_level2[:, 0] + (1 - best_alpha) * X_train_level2[:, 1]"
   ]
  },
  {
   "cell_type": "code",
   "execution_count": 15,
   "metadata": {},
   "outputs": [
    {
     "data": {
      "text/plain": [
       "array([1.52042951, 1.51736988, 1.51627856, 1.517831  , 1.51737738])"
      ]
     },
     "execution_count": 15,
     "metadata": {},
     "output_type": "execute_result"
    }
   ],
   "source": [
    "y_train_level2[:5]"
   ]
  },
  {
   "cell_type": "markdown",
   "metadata": {},
   "source": [
    "### Stacking"
   ]
  },
  {
   "cell_type": "code",
   "execution_count": 16,
   "metadata": {},
   "outputs": [],
   "source": [
    "# Train the new RF regression using the level2 target\n",
    "\n",
    "bounds_rfr = [\n",
    "    {'name': 'n_estimators', 'type': 'discrete', 'domain': (5, 500)},\n",
    "    {'name': 'max_depth', 'type': 'discrete', 'domain': (1, 100)},\n",
    "    {'name': 'min_sample_split', 'type': 'discrete', 'domain': (2, 10)},\n",
    "    {'name': 'min_samples_leaf', 'type': 'discrete', 'domain': (1, 5)}\n",
    "]\n",
    "\n",
    "# Optimization objective function\n",
    "\n",
    "def rmse_rfr(*args):\n",
    "    params = args[0]\n",
    "    \n",
    "    rfr = RandomForestRegressor(n_estimators = int(params[0][0]),\n",
    "                                max_depth = int(params[0][1]),\n",
    "                                min_samples_split = int(params[0][2]),\n",
    "                                min_samples_leaf = int(params[0][3]),\n",
    "                                bootstrap = True,\n",
    "                                random_state = 0,\n",
    "                                criterion = 'mse')\n",
    "                \n",
    "    rfr.fit(X_train, y_train)\n",
    "    \n",
    "    pred_rfr = rfr.predict(X_test)\n",
    "    RMSE = np.sqrt(mean_squared_error(pred_rfr, y_test))\n",
    "    \n",
    "    return RMSE"
   ]
  },
  {
   "cell_type": "code",
   "execution_count": 17,
   "metadata": {},
   "outputs": [],
   "source": [
    "X_train, y_train = X, y_train_level2\n",
    "X_test, y_test = X, y"
   ]
  },
  {
   "cell_type": "code",
   "execution_count": 18,
   "metadata": {},
   "outputs": [
    {
     "name": "stdout",
     "output_type": "stream",
     "text": [
      "Wall time: 5.91 s\n"
     ]
    }
   ],
   "source": [
    "%%time\n",
    "\n",
    "optimizer = BayesianOptimization(f = rmse_rfr, domain = bounds_rfr)\n",
    "optimizer.run_optimization(max_iter = 50)"
   ]
  },
  {
   "cell_type": "code",
   "execution_count": 19,
   "metadata": {},
   "outputs": [
    {
     "data": {
      "text/plain": [
       "array([500., 100.,   2.,   1.])"
      ]
     },
     "execution_count": 19,
     "metadata": {},
     "output_type": "execute_result"
    }
   ],
   "source": [
    "optimizer.x_opt"
   ]
  },
  {
   "cell_type": "code",
   "execution_count": 20,
   "metadata": {
    "scrolled": true
   },
   "outputs": [
    {
     "data": {
      "image/png": "[encoded data removed]",
      "text/plain": [
       "<Figure size 720x360 with 2 Axes>"
      ]
     },
     "metadata": {
      "needs_background": "light"
     },
     "output_type": "display_data"
    }
   ],
   "source": [
    "optimizer.plot_convergence()"
   ]
  },
  {
   "cell_type": "markdown",
   "metadata": {},
   "source": [
    "### Check model performance by CV"
   ]
  },
  {
   "cell_type": "code",
   "execution_count": 21,
   "metadata": {},
   "outputs": [
    {
     "name": "stdout",
     "output_type": "stream",
     "text": [
      "R2 =   0.9677\n"
     ]
    },
    {
     "data": {
      "image/png": "[encoded data removed]",
      "text/plain": [
       "<Figure size 288x288 with 1 Axes>"
      ]
     },
     "metadata": {
      "needs_background": "light"
     },
     "output_type": "display_data"
    }
   ],
   "source": [
    "# Use all data\n",
    "X_train, y_train = X, y\n",
    "\n",
    "rfr_level2_model = RandomForestRegressor(n_estimators = int(optimizer.x_opt[0]),\n",
    "                                         max_depth = int(optimizer.x_opt[1]),\n",
    "                                         min_samples_split = int(optimizer.x_opt[2]),\n",
    "                                         min_samples_leaf = int(optimizer.x_opt[3]),\n",
    "                                         bootstrap = True,\n",
    "                                         random_state = 0,\n",
    "                                         criterion = 'mse')\n",
    "\n",
    "rfr_level2_model.fit(X_train, y_train)\n",
    "y_pred = rfr_level2_model.predict(X_train)\n",
    "\n",
    "print('R2 = ', ' {:.4}'.format(r2_score(y, y_pred)))\n",
    "\n",
    "plt.figure(figsize = [4, 4])\n",
    "slp_1_begin = 0.99 * y.min()\n",
    "slp_1_end   = 1.01 * y.max()\n",
    "\n",
    "plt.scatter(y, y_pred, c = 'r', alpha = 0.5)\n",
    "plt.plot([slp_1_begin, slp_1_end], [slp_1_begin, slp_1_end], c = 'b')\n",
    "plt.title('Fitting check')\n",
    "plt.xlabel('Observed value')\n",
    "plt.ylabel('Predicted value')\n",
    "plt.show()"
   ]
  },
  {
   "cell_type": "code",
   "execution_count": 22,
   "metadata": {},
   "outputs": [
    {
     "name": "stdout",
     "output_type": "stream",
     "text": [
      "Check best model perfromance in the folds\n",
      " 0.9752\n",
      " 0.9665\n",
      " 0.9548\n",
      " 0.9592\n",
      " 0.9747\n"
     ]
    }
   ],
   "source": [
    "from sklearn.model_selection import cross_val_score\n",
    "from sklearn.model_selection import cross_validate\n",
    "from sklearn.model_selection import (KFold, ShuffleSplit)\n",
    "split_num = 5\n",
    "\n",
    "cv_KF = KFold(n_splits = split_num, shuffle = True, random_state = 0)\n",
    "\n",
    "print('Check best model perfromance in the folds')\n",
    "for train_index, test_index in cv_KF.split(X):\n",
    "    X_train, X_test, y_train, y_test = X.loc[train_index], X.loc[test_index], y.loc[train_index], y.loc[test_index]\n",
    "    y_pred = rfr_level2_model.predict(X_test)\n",
    "    R2_reg = r2_score(y_test, y_pred)\n",
    "    print(' {:.4}'.format(R2_reg))"
   ]
  },
  {
   "cell_type": "markdown",
   "metadata": {},
   "source": [
    "### Try another regressor"
   ]
  },
  {
   "cell_type": "code",
   "execution_count": 23,
   "metadata": {},
   "outputs": [],
   "source": [
    "# Train the new XGBoost regression using the level2 target\n",
    "import xgboost as xgb\n",
    "\n",
    "bounds_xgr = [\n",
    "    {'name': 'learning_rate', 'type': 'continuous', 'domain': (0, 1)},\n",
    "    {'name': 'gamma', 'type': 'continuous', 'domain': (0, 5)},\n",
    "    {'name': 'max_depth', 'type': 'discrete', 'domain': (1, 50)},\n",
    "    {'name': 'n_estimators', 'type': 'discrete', 'domain': (1, 300)},\n",
    "    {'name': 'min_child_weight', 'type': 'discrete', 'domain': (1, 10)}\n",
    "]\n",
    "\n",
    "# Optimization objective function\n",
    "\n",
    "def rmse_xgr(*args):\n",
    "    params = args[0]\n",
    "    \n",
    "    xgr = xgb.XGBRegressor(learning_rate = params[0][0],\n",
    "                           gamma = int(params[0][1]),\n",
    "                           max_depth = int(params[0][2]),\n",
    "                           n_estimators = int(params[0][3]),\n",
    "                           min_child_weight = params[0][4],\n",
    "                           bootstrap = True,\n",
    "                           random_state = 0,\n",
    "                           silent = True)\n",
    "                \n",
    "    xgr.fit(X_train, y_train)\n",
    "    \n",
    "    pred_xgr = xgr.predict(X_test)\n",
    "    RMSE = np.sqrt(mean_squared_error(pred_xgr, y_test))\n",
    "    \n",
    "    return RMSE"
   ]
  },
  {
   "cell_type": "code",
   "execution_count": 24,
   "metadata": {},
   "outputs": [],
   "source": [
    "X_train, y_train = X, y_train_level2\n",
    "X_test, y_test = X, y"
   ]
  },
  {
   "cell_type": "code",
   "execution_count": 25,
   "metadata": {},
   "outputs": [
    {
     "name": "stdout",
     "output_type": "stream",
     "text": [
      "Wall time: 17 s\n"
     ]
    }
   ],
   "source": [
    "%%time\n",
    "\n",
    "optimizer = BayesianOptimization(f = rmse_xgr, domain = bounds_xgr)\n",
    "optimizer.run_optimization(max_iter = 50)"
   ]
  },
  {
   "cell_type": "code",
   "execution_count": 26,
   "metadata": {},
   "outputs": [
    {
     "data": {
      "text/plain": [
       "array([  1.        ,   0.74336348,  50.        , 300.        ,\n",
       "         1.        ])"
      ]
     },
     "execution_count": 26,
     "metadata": {},
     "output_type": "execute_result"
    }
   ],
   "source": [
    "optimizer.x_opt"
   ]
  },
  {
   "cell_type": "code",
   "execution_count": 27,
   "metadata": {
    "scrolled": true
   },
   "outputs": [
    {
     "data": {
      "image/png": "[encoded data removed]",
      "text/plain": [
       "<Figure size 720x360 with 2 Axes>"
      ]
     },
     "metadata": {
      "needs_background": "light"
     },
     "output_type": "display_data"
    }
   ],
   "source": [
    "optimizer.plot_convergence()"
   ]
  },
  {
   "cell_type": "markdown",
   "metadata": {},
   "source": [
    "### Check model performance by CV again"
   ]
  },
  {
   "cell_type": "code",
   "execution_count": 28,
   "metadata": {},
   "outputs": [
    {
     "name": "stdout",
     "output_type": "stream",
     "text": [
      "R2 =   0.9736\n"
     ]
    },
    {
     "data": {
      "image/png": "[encoded data removed]",
      "text/plain": [
       "<Figure size 288x288 with 1 Axes>"
      ]
     },
     "metadata": {
      "needs_background": "light"
     },
     "output_type": "display_data"
    }
   ],
   "source": [
    "# Use all data\n",
    "X_train, y_train = X, y\n",
    "\n",
    "xgr_level2_model = xgb.XGBRegressor(learning_rate = optimizer.x_opt[0],\n",
    "                                    gamma = int(optimizer.x_opt[1]),\n",
    "                                    max_depth = int(optimizer.x_opt[2]),\n",
    "                                    n_estimators = int(optimizer.x_opt[3]),\n",
    "                                    min_child_weight = optimizer.x_opt[4],\n",
    "                                    bootstrap = True,\n",
    "                                    random_state = 0,\n",
    "                                    silent = True)\n",
    "\n",
    "xgr_level2_model.fit(X_train, y_train)\n",
    "y_pred = xgr_level2_model.predict(X_train)\n",
    "\n",
    "print('R2 = ', ' {:.4}'.format(r2_score(y, y_pred)))\n",
    "\n",
    "plt.figure(figsize = [4, 4])\n",
    "slp_1_begin = 0.99 * y.min()\n",
    "slp_1_end   = 1.01 * y.max()\n",
    "\n",
    "plt.scatter(y, y_pred, c = 'r', alpha = 0.5)\n",
    "plt.plot([slp_1_begin, slp_1_end], [slp_1_begin, slp_1_end], c = 'b')\n",
    "plt.title('Fitting check')\n",
    "plt.xlabel('Observed value')\n",
    "plt.ylabel('Predicted value')\n",
    "plt.show()"
   ]
  },
  {
   "cell_type": "code",
   "execution_count": 29,
   "metadata": {},
   "outputs": [
    {
     "name": "stdout",
     "output_type": "stream",
     "text": [
      "Check best model perfromance in the folds\n",
      " 0.9834\n",
      " 0.9825\n",
      " 0.9323\n",
      " 0.9728\n",
      " 0.9747\n"
     ]
    }
   ],
   "source": [
    "from sklearn.model_selection import cross_val_score\n",
    "from sklearn.model_selection import cross_validate\n",
    "from sklearn.model_selection import (KFold, ShuffleSplit)\n",
    "split_num = 5\n",
    "\n",
    "cv_KF = KFold(n_splits = split_num, shuffle = True, random_state = 0)\n",
    "\n",
    "print('Check best model perfromance in the folds')\n",
    "for train_index, test_index in cv_KF.split(X):\n",
    "    X_train, X_test, y_train, y_test = X.loc[train_index], X.loc[test_index], y.loc[train_index], y.loc[test_index]\n",
    "    y_pred = xgr_level2_model.predict(X_test)\n",
    "    R2_reg = r2_score(y_test, y_pred)\n",
    "    print(' {:.4}'.format(R2_reg))"
   ]
  },
  {
   "cell_type": "code",
   "execution_count": null,
   "metadata": {},
   "outputs": [],
   "source": []
  }
 ],
 "metadata": {
  "kernelspec": {
   "display_name": "Python 3",
   "language": "python",
   "name": "python3"
  },
  "language_info": {
   "codemirror_mode": {
    "name": "ipython",
    "version": 3
   },
   "file_extension": ".py",
   "mimetype": "text/x-python",
   "name": "python",
   "nbconvert_exporter": "python",
   "pygments_lexer": "ipython3",
   "version": "3.7.4"
  }
 },
 "nbformat": 4,
 "nbformat_minor": 2
}
