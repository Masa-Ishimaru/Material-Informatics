{
 "cells": [
  {
   "cell_type": "code",
   "execution_count": 4,
   "metadata": {},
   "outputs": [],
   "source": [
    "#@author: Masayuki Ishimaru"
   ]
  },
  {
   "cell_type": "markdown",
   "metadata": {},
   "source": [
    "# Gaussian process regression selecting best kernel through cross validation <br>\n",
    "Reference : <br>\n",
    "https://datachemeng.com/kernel_design_in_gpr/ <br>\n",
    "https://upura.hatenablog.com/entry/2018/12/04/224436"
   ]
  },
  {
   "cell_type": "code",
   "execution_count": 6,
   "metadata": {},
   "outputs": [],
   "source": [
    "# Import library\n",
    "\n",
    "import numpy as np\n",
    "import pandas as pd\n",
    "import matplotlib.pyplot as plt\n",
    "%matplotlib inline\n",
    "\n",
    "# GPR\n",
    "from sklearn.gaussian_process import GaussianProcessRegressor\n",
    "from sklearn.gaussian_process.kernels import RBF, Matern, DotProduct, ConstantKernel, WhiteKernel\n",
    "\n",
    "# Cross validation\n",
    "from sklearn.model_selection import ShuffleSplit\n",
    "from sklearn.metrics import mean_squared_error, r2_score"
   ]
  },
  {
   "cell_type": "code",
   "execution_count": 7,
   "metadata": {},
   "outputs": [
    {
     "name": "stdout",
     "output_type": "stream",
     "text": [
      "(214, 11)\n"
     ]
    },
    {
     "data": {
      "text/html": [
       "<div>\n",
       "<style scoped>\n",
       "    .dataframe tbody tr th:only-of-type {\n",
       "        vertical-align: middle;\n",
       "    }\n",
       "\n",
       "    .dataframe tbody tr th {\n",
       "        vertical-align: top;\n",
       "    }\n",
       "\n",
       "    .dataframe thead th {\n",
       "        text-align: right;\n",
       "    }\n",
       "</style>\n",
       "<table border=\"1\" class=\"dataframe\">\n",
       "  <thead>\n",
       "    <tr style=\"text-align: right;\">\n",
       "      <th></th>\n",
       "      <th>Id number</th>\n",
       "      <th>RI</th>\n",
       "      <th>Na</th>\n",
       "      <th>Mg</th>\n",
       "      <th>Al</th>\n",
       "      <th>Si</th>\n",
       "      <th>K</th>\n",
       "      <th>Ca</th>\n",
       "      <th>Ba</th>\n",
       "      <th>Fe</th>\n",
       "      <th>Type of glass</th>\n",
       "    </tr>\n",
       "  </thead>\n",
       "  <tbody>\n",
       "    <tr>\n",
       "      <th>0</th>\n",
       "      <td>1</td>\n",
       "      <td>1.52101</td>\n",
       "      <td>13.64</td>\n",
       "      <td>4.49</td>\n",
       "      <td>1.10</td>\n",
       "      <td>71.78</td>\n",
       "      <td>0.06</td>\n",
       "      <td>8.75</td>\n",
       "      <td>0.0</td>\n",
       "      <td>0.0</td>\n",
       "      <td>1</td>\n",
       "    </tr>\n",
       "    <tr>\n",
       "      <th>1</th>\n",
       "      <td>2</td>\n",
       "      <td>1.51761</td>\n",
       "      <td>13.89</td>\n",
       "      <td>3.60</td>\n",
       "      <td>1.36</td>\n",
       "      <td>72.73</td>\n",
       "      <td>0.48</td>\n",
       "      <td>7.83</td>\n",
       "      <td>0.0</td>\n",
       "      <td>0.0</td>\n",
       "      <td>1</td>\n",
       "    </tr>\n",
       "    <tr>\n",
       "      <th>2</th>\n",
       "      <td>3</td>\n",
       "      <td>1.51618</td>\n",
       "      <td>13.53</td>\n",
       "      <td>3.55</td>\n",
       "      <td>1.54</td>\n",
       "      <td>72.99</td>\n",
       "      <td>0.39</td>\n",
       "      <td>7.78</td>\n",
       "      <td>0.0</td>\n",
       "      <td>0.0</td>\n",
       "      <td>1</td>\n",
       "    </tr>\n",
       "    <tr>\n",
       "      <th>3</th>\n",
       "      <td>4</td>\n",
       "      <td>1.51766</td>\n",
       "      <td>13.21</td>\n",
       "      <td>3.69</td>\n",
       "      <td>1.29</td>\n",
       "      <td>72.61</td>\n",
       "      <td>0.57</td>\n",
       "      <td>8.22</td>\n",
       "      <td>0.0</td>\n",
       "      <td>0.0</td>\n",
       "      <td>1</td>\n",
       "    </tr>\n",
       "    <tr>\n",
       "      <th>4</th>\n",
       "      <td>5</td>\n",
       "      <td>1.51742</td>\n",
       "      <td>13.27</td>\n",
       "      <td>3.62</td>\n",
       "      <td>1.24</td>\n",
       "      <td>73.08</td>\n",
       "      <td>0.55</td>\n",
       "      <td>8.07</td>\n",
       "      <td>0.0</td>\n",
       "      <td>0.0</td>\n",
       "      <td>1</td>\n",
       "    </tr>\n",
       "  </tbody>\n",
       "</table>\n",
       "</div>"
      ],
      "text/plain": [
       "   Id number       RI     Na    Mg    Al     Si     K    Ca   Ba   Fe  \\\n",
       "0          1  1.52101  13.64  4.49  1.10  71.78  0.06  8.75  0.0  0.0   \n",
       "1          2  1.51761  13.89  3.60  1.36  72.73  0.48  7.83  0.0  0.0   \n",
       "2          3  1.51618  13.53  3.55  1.54  72.99  0.39  7.78  0.0  0.0   \n",
       "3          4  1.51766  13.21  3.69  1.29  72.61  0.57  8.22  0.0  0.0   \n",
       "4          5  1.51742  13.27  3.62  1.24  73.08  0.55  8.07  0.0  0.0   \n",
       "\n",
       "   Type of glass  \n",
       "0              1  \n",
       "1              1  \n",
       "2              1  \n",
       "3              1  \n",
       "4              1  "
      ]
     },
     "execution_count": 7,
     "metadata": {},
     "output_type": "execute_result"
    }
   ],
   "source": [
    "# Load dataset\n",
    "\n",
    "df = pd.read_csv('glass.csv')\n",
    "print(df.shape)\n",
    "df.head()"
   ]
  },
  {
   "cell_type": "code",
   "execution_count": 8,
   "metadata": {},
   "outputs": [
    {
     "name": "stdout",
     "output_type": "stream",
     "text": [
      "start =  2\n",
      "end   =  10\n"
     ]
    }
   ],
   "source": [
    "#　Get column number of start and end of elements\n",
    "\n",
    "start = df.columns.get_loc('Na')\n",
    "end   = df.columns.get_loc('Fe') + 1\n",
    "print('start = ', start)\n",
    "print('end   = ', end)"
   ]
  },
  {
   "cell_type": "code",
   "execution_count": 9,
   "metadata": {},
   "outputs": [],
   "source": [
    "# Definition of variables\n",
    "\n",
    "X_composition = df.iloc[:, start:end]\n",
    "y_density  = df['RI']"
   ]
  },
  {
   "cell_type": "code",
   "execution_count": 10,
   "metadata": {},
   "outputs": [
    {
     "name": "stdout",
     "output_type": "stream",
     "text": [
      "(214, 8)\n"
     ]
    },
    {
     "data": {
      "text/html": [
       "<div>\n",
       "<style scoped>\n",
       "    .dataframe tbody tr th:only-of-type {\n",
       "        vertical-align: middle;\n",
       "    }\n",
       "\n",
       "    .dataframe tbody tr th {\n",
       "        vertical-align: top;\n",
       "    }\n",
       "\n",
       "    .dataframe thead th {\n",
       "        text-align: right;\n",
       "    }\n",
       "</style>\n",
       "<table border=\"1\" class=\"dataframe\">\n",
       "  <thead>\n",
       "    <tr style=\"text-align: right;\">\n",
       "      <th></th>\n",
       "      <th>Na</th>\n",
       "      <th>Mg</th>\n",
       "      <th>Al</th>\n",
       "      <th>Si</th>\n",
       "      <th>K</th>\n",
       "      <th>Ca</th>\n",
       "      <th>Ba</th>\n",
       "      <th>Fe</th>\n",
       "    </tr>\n",
       "  </thead>\n",
       "  <tbody>\n",
       "    <tr>\n",
       "      <th>0</th>\n",
       "      <td>13.64</td>\n",
       "      <td>4.49</td>\n",
       "      <td>1.10</td>\n",
       "      <td>71.78</td>\n",
       "      <td>0.06</td>\n",
       "      <td>8.75</td>\n",
       "      <td>0.0</td>\n",
       "      <td>0.0</td>\n",
       "    </tr>\n",
       "    <tr>\n",
       "      <th>1</th>\n",
       "      <td>13.89</td>\n",
       "      <td>3.60</td>\n",
       "      <td>1.36</td>\n",
       "      <td>72.73</td>\n",
       "      <td>0.48</td>\n",
       "      <td>7.83</td>\n",
       "      <td>0.0</td>\n",
       "      <td>0.0</td>\n",
       "    </tr>\n",
       "    <tr>\n",
       "      <th>2</th>\n",
       "      <td>13.53</td>\n",
       "      <td>3.55</td>\n",
       "      <td>1.54</td>\n",
       "      <td>72.99</td>\n",
       "      <td>0.39</td>\n",
       "      <td>7.78</td>\n",
       "      <td>0.0</td>\n",
       "      <td>0.0</td>\n",
       "    </tr>\n",
       "    <tr>\n",
       "      <th>3</th>\n",
       "      <td>13.21</td>\n",
       "      <td>3.69</td>\n",
       "      <td>1.29</td>\n",
       "      <td>72.61</td>\n",
       "      <td>0.57</td>\n",
       "      <td>8.22</td>\n",
       "      <td>0.0</td>\n",
       "      <td>0.0</td>\n",
       "    </tr>\n",
       "    <tr>\n",
       "      <th>4</th>\n",
       "      <td>13.27</td>\n",
       "      <td>3.62</td>\n",
       "      <td>1.24</td>\n",
       "      <td>73.08</td>\n",
       "      <td>0.55</td>\n",
       "      <td>8.07</td>\n",
       "      <td>0.0</td>\n",
       "      <td>0.0</td>\n",
       "    </tr>\n",
       "  </tbody>\n",
       "</table>\n",
       "</div>"
      ],
      "text/plain": [
       "      Na    Mg    Al     Si     K    Ca   Ba   Fe\n",
       "0  13.64  4.49  1.10  71.78  0.06  8.75  0.0  0.0\n",
       "1  13.89  3.60  1.36  72.73  0.48  7.83  0.0  0.0\n",
       "2  13.53  3.55  1.54  72.99  0.39  7.78  0.0  0.0\n",
       "3  13.21  3.69  1.29  72.61  0.57  8.22  0.0  0.0\n",
       "4  13.27  3.62  1.24  73.08  0.55  8.07  0.0  0.0"
      ]
     },
     "execution_count": 10,
     "metadata": {},
     "output_type": "execute_result"
    }
   ],
   "source": [
    "print(X_composition.shape)\n",
    "X_composition.head()"
   ]
  },
  {
   "cell_type": "code",
   "execution_count": 11,
   "metadata": {},
   "outputs": [
    {
     "name": "stdout",
     "output_type": "stream",
     "text": [
      "(214,)\n"
     ]
    },
    {
     "data": {
      "text/plain": [
       "0    1.52101\n",
       "1    1.51761\n",
       "2    1.51618\n",
       "3    1.51766\n",
       "4    1.51742\n",
       "Name: RI, dtype: float64"
      ]
     },
     "execution_count": 11,
     "metadata": {},
     "output_type": "execute_result"
    }
   ],
   "source": [
    "print(y_density.shape)\n",
    "y_density.head()"
   ]
  },
  {
   "cell_type": "markdown",
   "metadata": {},
   "source": [
    "# Split train, veridation, and test set"
   ]
  },
  {
   "cell_type": "code",
   "execution_count": 36,
   "metadata": {},
   "outputs": [],
   "source": [
    "from sklearn.model_selection import train_test_split\n",
    "\n",
    "X_train, X_test, y_train, y_test = train_test_split(X_composition, y_density, test_size = 0.1, random_state = 1)\n",
    "\n",
    "X_train_ridx = X_train.reset_index(drop = True)                 # assign new index number for cross-validation\n",
    "X_test_ridx  = X_test.reset_index(drop = True)\n",
    "y_train_ridx = y_train.reset_index(drop = True)\n",
    "y_test  = y_test.reset_index(drop = True)"
   ]
  },
  {
   "cell_type": "code",
   "execution_count": 37,
   "metadata": {},
   "outputs": [],
   "source": [
    "# scaling\n",
    "\n",
    "def standardize_dataframe(X, X_base):\n",
    "    X_scaled = (X - X_base.mean(axis = 0)) / X_base.std(axis = 0)\n",
    "    \n",
    "    return X_scaled\n",
    "\n",
    "def standardize_series(y):\n",
    "    y_scaled = (y - y.mean()) / y.std()\n",
    "    \n",
    "    return y_scaled"
   ]
  },
  {
   "cell_type": "code",
   "execution_count": 38,
   "metadata": {},
   "outputs": [
    {
     "name": "stdout",
     "output_type": "stream",
     "text": [
      "(192, 8)\n"
     ]
    },
    {
     "data": {
      "text/html": [
       "<div>\n",
       "<style scoped>\n",
       "    .dataframe tbody tr th:only-of-type {\n",
       "        vertical-align: middle;\n",
       "    }\n",
       "\n",
       "    .dataframe tbody tr th {\n",
       "        vertical-align: top;\n",
       "    }\n",
       "\n",
       "    .dataframe thead th {\n",
       "        text-align: right;\n",
       "    }\n",
       "</style>\n",
       "<table border=\"1\" class=\"dataframe\">\n",
       "  <thead>\n",
       "    <tr style=\"text-align: right;\">\n",
       "      <th></th>\n",
       "      <th>Na</th>\n",
       "      <th>Mg</th>\n",
       "      <th>Al</th>\n",
       "      <th>Si</th>\n",
       "      <th>K</th>\n",
       "      <th>Ca</th>\n",
       "      <th>Ba</th>\n",
       "      <th>Fe</th>\n",
       "    </tr>\n",
       "  </thead>\n",
       "  <tbody>\n",
       "    <tr>\n",
       "      <th>0</th>\n",
       "      <td>1.045685</td>\n",
       "      <td>0.276800</td>\n",
       "      <td>1.225641</td>\n",
       "      <td>-0.526558</td>\n",
       "      <td>0.857981</td>\n",
       "      <td>-1.391522</td>\n",
       "      <td>-0.358855</td>\n",
       "      <td>-0.562001</td>\n",
       "    </tr>\n",
       "    <tr>\n",
       "      <th>1</th>\n",
       "      <td>0.605645</td>\n",
       "      <td>0.726295</td>\n",
       "      <td>-0.598569</td>\n",
       "      <td>-0.741406</td>\n",
       "      <td>-0.670585</td>\n",
       "      <td>0.015630</td>\n",
       "      <td>-0.358855</td>\n",
       "      <td>-0.562001</td>\n",
       "    </tr>\n",
       "    <tr>\n",
       "      <th>2</th>\n",
       "      <td>0.140459</td>\n",
       "      <td>0.501548</td>\n",
       "      <td>0.090577</td>\n",
       "      <td>-0.848830</td>\n",
       "      <td>0.093698</td>\n",
       "      <td>-0.062114</td>\n",
       "      <td>-0.358855</td>\n",
       "      <td>-0.562001</td>\n",
       "    </tr>\n",
       "    <tr>\n",
       "      <th>3</th>\n",
       "      <td>-0.161283</td>\n",
       "      <td>0.529641</td>\n",
       "      <td>-0.537762</td>\n",
       "      <td>0.091128</td>\n",
       "      <td>0.064303</td>\n",
       "      <td>-0.233149</td>\n",
       "      <td>-0.358855</td>\n",
       "      <td>-0.562001</td>\n",
       "    </tr>\n",
       "    <tr>\n",
       "      <th>4</th>\n",
       "      <td>-0.098420</td>\n",
       "      <td>0.613921</td>\n",
       "      <td>0.191922</td>\n",
       "      <td>0.265692</td>\n",
       "      <td>0.137791</td>\n",
       "      <td>-0.761802</td>\n",
       "      <td>-0.358855</td>\n",
       "      <td>-0.562001</td>\n",
       "    </tr>\n",
       "  </tbody>\n",
       "</table>\n",
       "</div>"
      ],
      "text/plain": [
       "         Na        Mg        Al        Si         K        Ca        Ba  \\\n",
       "0  1.045685  0.276800  1.225641 -0.526558  0.857981 -1.391522 -0.358855   \n",
       "1  0.605645  0.726295 -0.598569 -0.741406 -0.670585  0.015630 -0.358855   \n",
       "2  0.140459  0.501548  0.090577 -0.848830  0.093698 -0.062114 -0.358855   \n",
       "3 -0.161283  0.529641 -0.537762  0.091128  0.064303 -0.233149 -0.358855   \n",
       "4 -0.098420  0.613921  0.191922  0.265692  0.137791 -0.761802 -0.358855   \n",
       "\n",
       "         Fe  \n",
       "0 -0.562001  \n",
       "1 -0.562001  \n",
       "2 -0.562001  \n",
       "3 -0.562001  \n",
       "4 -0.562001  "
      ]
     },
     "execution_count": 38,
     "metadata": {},
     "output_type": "execute_result"
    }
   ],
   "source": [
    "X_train = standardize_dataframe(X_train_ridx, X_train_ridx)\n",
    "X_test  = standardize_dataframe(X_test_ridx, X_train_ridx)\n",
    "y_train = standardize_series(y_train_ridx)\n",
    "\n",
    "print(X_train.shape)\n",
    "X_train.head()"
   ]
  },
  {
   "cell_type": "code",
   "execution_count": 39,
   "metadata": {},
   "outputs": [
    {
     "name": "stdout",
     "output_type": "stream",
     "text": [
      "(192,)\n"
     ]
    },
    {
     "data": {
      "text/plain": [
       "0   -1.525416\n",
       "1    0.361634\n",
       "2   -0.145840\n",
       "3   -0.931484\n",
       "4   -0.690904\n",
       "Name: RI, dtype: float64"
      ]
     },
     "execution_count": 39,
     "metadata": {},
     "output_type": "execute_result"
    }
   ],
   "source": [
    "print(y_train.shape)\n",
    "y_train.head()"
   ]
  },
  {
   "cell_type": "markdown",
   "metadata": {},
   "source": [
    "# Train the models"
   ]
  },
  {
   "cell_type": "code",
   "execution_count": 40,
   "metadata": {},
   "outputs": [],
   "source": [
    "# Definition of Gaussian kernels\n",
    "\n",
    "n_features = len(X_train.columns)\n",
    "\n",
    "kernel_dict = {0:ConstantKernel() * DotProduct() + WhiteKernel(),\n",
    "               1:ConstantKernel() * RBF() + WhiteKernel(),\n",
    "               2:ConstantKernel() * RBF() + WhiteKernel() + ConstantKernel() * DotProduct(),\n",
    "               3:ConstantKernel() * RBF(np.ones(n_features)) + WhiteKernel(),\n",
    "               4:ConstantKernel() * RBF(np.ones(n_features)) + WhiteKernel() + ConstantKernel() * DotProduct(),\n",
    "               5:ConstantKernel() * Matern(nu=1.5) + WhiteKernel(),\n",
    "               6:ConstantKernel() * Matern(nu=1.5) + WhiteKernel() + ConstantKernel() * DotProduct(),\n",
    "               7:ConstantKernel() * Matern(nu=0.5) + WhiteKernel(),\n",
    "               8:ConstantKernel() * Matern(nu=0.5) + WhiteKernel() + ConstantKernel() * DotProduct(),\n",
    "               9:ConstantKernel() * Matern(nu=2.5) + WhiteKernel(),\n",
    "               10:ConstantKernel() * Matern(nu=2.5) + WhiteKernel() + ConstantKernel() * DotProduct()}"
   ]
  },
  {
   "cell_type": "code",
   "execution_count": 41,
   "metadata": {},
   "outputs": [],
   "source": [
    "def Make_Model(X, y):\n",
    "    with np.errstate(invalid = 'ignore'):\n",
    "        \n",
    "        score_mean_SS = []\n",
    "        split_num = 5\n",
    "        \n",
    "        for i in kernel_dict.keys():\n",
    "            kern = kernel_dict[i]\n",
    "            cv_SS = ShuffleSplit(n_splits = split_num, random_state = 1, test_size = 0.2, train_size = None)\n",
    "            score_temp_SS = []\n",
    "\n",
    "            for train_index, test_index in cv_SS.split(X):\n",
    "                X_train, X_test, y_train, y_test = X.loc[train_index], X.loc[test_index], y.loc[train_index], y.loc[test_index]\n",
    "                gaussr = GaussianProcessRegressor(kernel = kern).fit(X_train, y_train)\n",
    "\n",
    "                y_pred = gaussr.predict(X_test)\n",
    "                R2_gauss = r2_score(y_test, y_pred)\n",
    "                score_temp_SS.append(R2_gauss)\n",
    "            score_mean_SS.append(np.mean(score_temp_SS))\n",
    "            print('kernel = ', i, '  R2 mean = {:.4}'.format(np.mean(score_temp_SS)))\n",
    "            \n",
    "    plt.bar(kernel_dict.keys(), score_mean_SS)\n",
    "    plt.title('Cross validation R2 comparison by kernel')\n",
    "    plt.xlabel('Gaussian kernel index number')\n",
    "    plt.ylabel('R2')\n",
    "    plt.show()\n",
    "    \n",
    "    best_kernel_index = score_mean_SS.index(np.max(score_mean_SS))\n",
    "    \n",
    "    return best_kernel_index"
   ]
  },
  {
   "cell_type": "code",
   "execution_count": 42,
   "metadata": {},
   "outputs": [],
   "source": [
    "import warnings\n",
    "warnings.filterwarnings('ignore')"
   ]
  },
  {
   "cell_type": "code",
   "execution_count": 43,
   "metadata": {},
   "outputs": [
    {
     "name": "stdout",
     "output_type": "stream",
     "text": [
      "kernel =  0   R2 mean = 0.776\n",
      "kernel =  1   R2 mean = 0.7569\n",
      "kernel =  2   R2 mean = 0.7619\n",
      "kernel =  3   R2 mean = 0.6642\n",
      "kernel =  4   R2 mean = 0.7526\n",
      "kernel =  5   R2 mean = 0.7565\n",
      "kernel =  6   R2 mean = 0.7659\n",
      "kernel =  7   R2 mean = 0.7197\n",
      "kernel =  8   R2 mean = 0.7729\n",
      "kernel =  9   R2 mean = 0.7578\n",
      "kernel =  10   R2 mean = 0.7639\n"
     ]
    },
    {
     "data": {
      "image/png": "[encoded data removed]",
      "text/plain": [
       "<Figure size 432x288 with 1 Axes>"
      ]
     },
     "metadata": {
      "needs_background": "light"
     },
     "output_type": "display_data"
    },
    {
     "name": "stdout",
     "output_type": "stream",
     "text": [
      "Best kernel index (highest R2) =  0\n"
     ]
    }
   ],
   "source": [
    "best_kernel_index = Make_Model(X_train, y_train)\n",
    "print('Best kernel index (highest R2) = ', best_kernel_index)"
   ]
  },
  {
   "cell_type": "code",
   "execution_count": 44,
   "metadata": {},
   "outputs": [],
   "source": [
    "# Make best kernel model within training and velidation sets\n",
    "\n",
    "with np.errstate(invalid = 'ignore'):\n",
    "    best_gaussr = GaussianProcessRegressor(kernel = kernel_dict[best_kernel_index]).fit(X_train, y_train)"
   ]
  },
  {
   "cell_type": "code",
   "execution_count": 46,
   "metadata": {},
   "outputs": [
    {
     "name": "stdout",
     "output_type": "stream",
     "text": [
      "R2 =   0.985\n"
     ]
    },
    {
     "data": {
      "image/png": "[encoded data removed]",
      "text/plain": [
       "<Figure size 288x288 with 1 Axes>"
      ]
     },
     "metadata": {
      "needs_background": "light"
     },
     "output_type": "display_data"
    }
   ],
   "source": [
    "# test the model\n",
    "\n",
    "y_pred = best_gaussr.predict(X_test) * y_train_ridx.std() + y_train_ridx.mean()\n",
    "\n",
    "print('R2 = ', ' {:.4}'.format(r2_score(y_test, y_pred)))\n",
    "\n",
    "plt.figure(figsize = [4, 4])\n",
    "slp_1_begin = 0.999 * y_train_ridx.min()\n",
    "slp_1_end   = 1.005 * y_train_ridx.max()\n",
    "\n",
    "plt.scatter(y_test, y_pred, c = 'r', alpha = 0.3)\n",
    "plt.plot([slp_1_begin, slp_1_end], [slp_1_begin, slp_1_end], c = 'b')\n",
    "plt.title('Fitting check')\n",
    "plt.xlabel('Observed value')\n",
    "plt.ylabel('Predicted value')\n",
    "plt.show()"
   ]
  },
  {
   "cell_type": "code",
   "execution_count": 47,
   "metadata": {},
   "outputs": [],
   "source": [
    "# looks good then finalize the model using all data\n",
    "\n",
    "X_train_final = standardize_dataframe(X_composition, X_composition)\n",
    "y_train_final = standardize_series(y_density)\n",
    "\n",
    "with np.errstate(invalid = 'ignore'):\n",
    "    best_gaussr_final = GaussianProcessRegressor(kernel = kernel_dict[best_kernel_index]).fit(X_train_final, y_train_final)"
   ]
  },
  {
   "cell_type": "code",
   "execution_count": 50,
   "metadata": {},
   "outputs": [
    {
     "name": "stdout",
     "output_type": "stream",
     "text": [
      "R2 =   0.8925\n"
     ]
    },
    {
     "data": {
      "image/png": "[encoded data removed]",
      "text/plain": [
       "<Figure size 288x288 with 1 Axes>"
      ]
     },
     "metadata": {
      "needs_background": "light"
     },
     "output_type": "display_data"
    }
   ],
   "source": [
    "y_pred = best_gaussr_final.predict(X_train_final) * y_density.std() + y_density.mean()\n",
    "\n",
    "print('R2 = ', ' {:.4}'.format(r2_score(y_density, y_pred)))\n",
    "\n",
    "plt.figure(figsize = [4, 4])\n",
    "slp_1_begin = 0.995 * y_density.min()\n",
    "slp_1_end   = 1.005 * y_density.max()\n",
    "\n",
    "plt.scatter(y_density, y_pred, c = 'r', alpha = 0.3)\n",
    "plt.plot([slp_1_begin, slp_1_end], [slp_1_begin, slp_1_end], c = 'b')\n",
    "plt.title('Fitting check using all data')\n",
    "plt.xlabel('Observed value')\n",
    "plt.ylabel('Predicted value')\n",
    "plt.show()"
   ]
  },
  {
   "cell_type": "code",
   "execution_count": 52,
   "metadata": {},
   "outputs": [
    {
     "name": "stdout",
     "output_type": "stream",
     "text": [
      "[1.51836542 0.00303686]\n"
     ]
    }
   ],
   "source": [
    "# Save the model, mean, and standard deviation\n",
    "\n",
    "import pickle\n",
    "with open('best_gaussr_RI.pickle', mode='wb') as f:\n",
    "    pickle.dump(best_gaussr_final, f)\n",
    "    \n",
    "y_density_mean_std = np.array([y_density.mean(), y_density.std()])\n",
    "print(y_density_mean_std)\n",
    "\n",
    "np.save('density_mean_std_GPR', y_density_mean_std)"
   ]
  },
  {
   "cell_type": "code",
   "execution_count": null,
   "metadata": {},
   "outputs": [],
   "source": []
  }
 ],
 "metadata": {
  "kernelspec": {
   "display_name": "Python 3",
   "language": "python",
   "name": "python3"
  },
  "language_info": {
   "codemirror_mode": {
    "name": "ipython",
    "version": 3
   },
   "file_extension": ".py",
   "mimetype": "text/x-python",
   "name": "python",
   "nbconvert_exporter": "python",
   "pygments_lexer": "ipython3",
   "version": "3.7.4"
  }
 },
 "nbformat": 4,
 "nbformat_minor": 2
}
