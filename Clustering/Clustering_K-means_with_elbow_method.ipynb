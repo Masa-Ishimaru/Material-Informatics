{
 "cells": [
  {
   "cell_type": "markdown",
   "metadata": {
    "colab_type": "text",
    "id": "dF3MPqWYkNNd"
   },
   "source": [
    "# Clustering - K-means\n",
    "Reference: <br>\n",
    "Reference:\n",
    "Clustering: https://qiita.com/maskot1977/items/34158d044711231c4292 <br>\n",
    "Choose cluster number: https://qiita.com/deaikei/items/11a10fde5bb47a2cf2c2"
   ]
  },
  {
   "cell_type": "code",
   "execution_count": 17,
   "metadata": {
    "colab": {},
    "colab_type": "code",
    "id": "wBW_XbZxuitX"
   },
   "outputs": [],
   "source": [
    "import sys\n",
    "import numpy as np\n",
    "import pandas as pd\n",
    "import matplotlib.pyplot as plt\n",
    "import seaborn as sns\n",
    "\n",
    "from sklearn.cluster import KMeans\n",
    "\n",
    "%matplotlib inline"
   ]
  },
  {
   "cell_type": "code",
   "execution_count": 18,
   "metadata": {
    "colab": {},
    "colab_type": "code",
    "id": "drr6dH7sz-OS",
    "scrolled": true
   },
   "outputs": [
    {
     "name": "stdout",
     "output_type": "stream",
     "text": [
      "(383, 7)\n"
     ]
    },
    {
     "data": {
      "text/html": [
       "<div>\n",
       "<style scoped>\n",
       "    .dataframe tbody tr th:only-of-type {\n",
       "        vertical-align: middle;\n",
       "    }\n",
       "\n",
       "    .dataframe tbody tr th {\n",
       "        vertical-align: top;\n",
       "    }\n",
       "\n",
       "    .dataframe thead th {\n",
       "        text-align: right;\n",
       "    }\n",
       "</style>\n",
       "<table border=\"1\" class=\"dataframe\">\n",
       "  <thead>\n",
       "    <tr style=\"text-align: right;\">\n",
       "      <th></th>\n",
       "      <th>car name</th>\n",
       "      <th>mpg</th>\n",
       "      <th>cylinders</th>\n",
       "      <th>displacement</th>\n",
       "      <th>horsepower</th>\n",
       "      <th>weight</th>\n",
       "      <th>acceleration</th>\n",
       "    </tr>\n",
       "  </thead>\n",
       "  <tbody>\n",
       "    <tr>\n",
       "      <td>0</td>\n",
       "      <td>chevrolet chevelle malibu</td>\n",
       "      <td>18.0</td>\n",
       "      <td>8.0</td>\n",
       "      <td>307.0</td>\n",
       "      <td>130.0</td>\n",
       "      <td>3504.0</td>\n",
       "      <td>12.0</td>\n",
       "    </tr>\n",
       "    <tr>\n",
       "      <td>1</td>\n",
       "      <td>buick skylark 320</td>\n",
       "      <td>15.0</td>\n",
       "      <td>8.0</td>\n",
       "      <td>350.0</td>\n",
       "      <td>165.0</td>\n",
       "      <td>3693.0</td>\n",
       "      <td>11.5</td>\n",
       "    </tr>\n",
       "    <tr>\n",
       "      <td>2</td>\n",
       "      <td>plymouth satellite</td>\n",
       "      <td>18.0</td>\n",
       "      <td>8.0</td>\n",
       "      <td>318.0</td>\n",
       "      <td>150.0</td>\n",
       "      <td>3436.0</td>\n",
       "      <td>11.0</td>\n",
       "    </tr>\n",
       "    <tr>\n",
       "      <td>3</td>\n",
       "      <td>amc rebel sst</td>\n",
       "      <td>16.0</td>\n",
       "      <td>8.0</td>\n",
       "      <td>304.0</td>\n",
       "      <td>150.0</td>\n",
       "      <td>3433.0</td>\n",
       "      <td>12.0</td>\n",
       "    </tr>\n",
       "    <tr>\n",
       "      <td>4</td>\n",
       "      <td>ford torino</td>\n",
       "      <td>17.0</td>\n",
       "      <td>8.0</td>\n",
       "      <td>302.0</td>\n",
       "      <td>140.0</td>\n",
       "      <td>3449.0</td>\n",
       "      <td>10.5</td>\n",
       "    </tr>\n",
       "  </tbody>\n",
       "</table>\n",
       "</div>"
      ],
      "text/plain": [
       "                    car name   mpg  cylinders  displacement  horsepower  \\\n",
       "0  chevrolet chevelle malibu  18.0        8.0         307.0       130.0   \n",
       "1          buick skylark 320  15.0        8.0         350.0       165.0   \n",
       "2         plymouth satellite  18.0        8.0         318.0       150.0   \n",
       "3              amc rebel sst  16.0        8.0         304.0       150.0   \n",
       "4                ford torino  17.0        8.0         302.0       140.0   \n",
       "\n",
       "   weight  acceleration  \n",
       "0  3504.0          12.0  \n",
       "1  3693.0          11.5  \n",
       "2  3436.0          11.0  \n",
       "3  3433.0          12.0  \n",
       "4  3449.0          10.5  "
      ]
     },
     "execution_count": 18,
     "metadata": {},
     "output_type": "execute_result"
    }
   ],
   "source": [
    "# Import dataset\n",
    "df = pd.read_csv('auto-mpg_clean.csv')\n",
    "print(df.shape)\n",
    "df.head()"
   ]
  },
  {
   "cell_type": "markdown",
   "metadata": {
    "colab_type": "text",
    "id": "l9cOnZrBkTN1"
   },
   "source": [
    "### Elbow method"
   ]
  },
  {
   "cell_type": "code",
   "execution_count": 19,
   "metadata": {
    "colab": {
     "base_uri": "https://localhost:8080/",
     "height": 283
    },
    "colab_type": "code",
    "executionInfo": {
     "elapsed": 2007,
     "status": "ok",
     "timestamp": 1564379419775,
     "user": {
      "displayName": "DP3 Merill",
      "photoUrl": "",
      "userId": "16635738950127380978"
     },
     "user_tz": -540
    },
    "id": "sYSEAm5ahpzS",
    "outputId": "a7f8b230-ac29-4a14-f626-f1caefbe60fc"
   },
   "outputs": [
    {
     "data": {
      "image/png": "[encoded data removed]",
      "text/plain": [
       "<Figure size 576x288 with 1 Axes>"
      ]
     },
     "metadata": {
      "needs_background": "light"
     },
     "output_type": "display_data"
    }
   ],
   "source": [
    "# Check the good number of clusters\n",
    "sse = list()\n",
    "\n",
    "for i  in range(1,16):                                             # test upto 15 clusters \n",
    "    km = KMeans(n_clusters=i, random_state=1).fit(df.iloc[:, 1:7])\n",
    "    sse.append(km.inertia_)                                        # .inertia_ = sum of square error\n",
    "\n",
    "plt.figure(figsize=(8, 4))\n",
    "plt.plot(range(1,16), sse, c='r', marker='o', alpha = 0.7)\n",
    "plt.xlabel('Number of clusters')\n",
    "plt.ylabel('Sum of Square Error (SSE)')\n",
    "plt.show()"
   ]
  },
  {
   "cell_type": "markdown",
   "metadata": {},
   "source": [
    "### Determine cluster number for K-means"
   ]
  },
  {
   "cell_type": "code",
   "execution_count": 20,
   "metadata": {
    "colab": {},
    "colab_type": "code",
    "id": "fzKQ4BK4GHcP"
   },
   "outputs": [
    {
     "name": "stdout",
     "output_type": "stream",
     "text": [
      "Input number of clusters you want to make : 3\n"
     ]
    }
   ],
   "source": [
    "# Choose numbers of clusters you want to make (max = 10 due to color constraint in the plots)\n",
    "num = input('Input number of clusters you want to make : ')"
   ]
  },
  {
   "cell_type": "code",
   "execution_count": 21,
   "metadata": {
    "colab": {},
    "colab_type": "code",
    "id": "Cb8_6qUwiR-x"
   },
   "outputs": [],
   "source": [
    "# Make a model\n",
    "kmeans_model = KMeans(n_clusters=int(num), random_state=1).fit(df.iloc[:, 1:7])"
   ]
  },
  {
   "cell_type": "code",
   "execution_count": 22,
   "metadata": {
    "colab": {
     "base_uri": "https://localhost:8080/",
     "height": 357
    },
    "colab_type": "code",
    "executionInfo": {
     "elapsed": 671,
     "status": "ok",
     "timestamp": 1564379424215,
     "user": {
      "displayName": "DP3 Merill",
      "photoUrl": "",
      "userId": "16635738950127380978"
     },
     "user_tz": -540
    },
    "id": "et7-6NeTkcjd",
    "outputId": "e4a65a09-6966-407c-d587-a66d74cc2587"
   },
   "outputs": [
    {
     "name": "stdout",
     "output_type": "stream",
     "text": [
      "labels =  [2 2 2 2 2 0 0 0 0 0 2 2 0 2 1 2 2 1 1 1 1 1 1 1 0 0 0 0 1 1 1 1 2 2 2 2 0\n",
      " 0 0 0 0 0 0 2 1 2 2 1 1 1 1 1 1 1 1 1 1 1 1 1 0 0 0 0 2 0 0 0 0 1 0 0 0 0\n",
      " 2 1 2 1 1 1 1 1 1 0 2 0 0 0 0 0 0 0 0 0 0 2 2 2 2 1 0 0 0 0 2 1 1 1 1 1 1\n",
      " 0 0 1 1 1 2 2 1 2 2 2 2 2 1 1 1 0 2 2 0 0 0 0 0 1 1 1 1 1 1 1 1 1 1 1 2 2\n",
      " 2 0 0 0 0 0 0 2 0 2 2 2 1 2 1 1 1 1 1 2 1 2 2 1 1 1 1 1 1 1 0 0 0 0 2 2 2\n",
      " 1 1 1 1 2 2 2 2 1 1 1 2 0 2 2 0 0 0 0 0 1 1 1 1 1 0 0 0 0 2 2 2 2 0 0 0 0\n",
      " 1 2 1 2 1 1 1 1 2 1 1 1 1 1 1 1 2 2 2 2 2 2 1 2 2 2 2 2 2 2 2 2 0 1 1 1 1\n",
      " 1 2 2 1 2 2 2 2 1 1 2 2 2 2 2 0 2 0 0 0 0 2 0 1 1 1 1 2 0 2 2 1 1 1 1 1 1\n",
      " 1 1 1 1 1 1 1 2 2 2 1 1 1 1 1 1 2 1 1 1 2 2 1 1 1 2 1 1 1 1 1 1 2 1 1 1 1\n",
      " 1 1 1 1 1 1 1 1 1 1 1 1 2 2 2 2 2 2 2 2 1 1 1 1 1 2 2 1 1 1 1 1 1 1 1 1 1\n",
      " 1 2 2 1 2 1 1 2 2 1 1 1 1]\n",
      "Number of labels =  383\n",
      "Number of data   =  383\n"
     ]
    }
   ],
   "source": [
    "# Get labels\n",
    "labels = kmeans_model.labels_\n",
    "print('labels = ', labels)\n",
    "\n",
    "# Check labels\n",
    "print('Number of labels = ', len(labels))\n",
    "print('Number of data   = ', len(df))"
   ]
  },
  {
   "cell_type": "code",
   "execution_count": 23,
   "metadata": {},
   "outputs": [
    {
     "name": "stdout",
     "output_type": "stream",
     "text": [
      "(383, 8)\n"
     ]
    },
    {
     "data": {
      "text/html": [
       "<div>\n",
       "<style scoped>\n",
       "    .dataframe tbody tr th:only-of-type {\n",
       "        vertical-align: middle;\n",
       "    }\n",
       "\n",
       "    .dataframe tbody tr th {\n",
       "        vertical-align: top;\n",
       "    }\n",
       "\n",
       "    .dataframe thead th {\n",
       "        text-align: right;\n",
       "    }\n",
       "</style>\n",
       "<table border=\"1\" class=\"dataframe\">\n",
       "  <thead>\n",
       "    <tr style=\"text-align: right;\">\n",
       "      <th></th>\n",
       "      <th>car name</th>\n",
       "      <th>mpg</th>\n",
       "      <th>cylinders</th>\n",
       "      <th>displacement</th>\n",
       "      <th>horsepower</th>\n",
       "      <th>weight</th>\n",
       "      <th>acceleration</th>\n",
       "      <th>CLS_label</th>\n",
       "    </tr>\n",
       "  </thead>\n",
       "  <tbody>\n",
       "    <tr>\n",
       "      <td>0</td>\n",
       "      <td>chevrolet chevelle malibu</td>\n",
       "      <td>18.0</td>\n",
       "      <td>8.0</td>\n",
       "      <td>307.0</td>\n",
       "      <td>130.0</td>\n",
       "      <td>3504.0</td>\n",
       "      <td>12.0</td>\n",
       "      <td>2</td>\n",
       "    </tr>\n",
       "    <tr>\n",
       "      <td>1</td>\n",
       "      <td>buick skylark 320</td>\n",
       "      <td>15.0</td>\n",
       "      <td>8.0</td>\n",
       "      <td>350.0</td>\n",
       "      <td>165.0</td>\n",
       "      <td>3693.0</td>\n",
       "      <td>11.5</td>\n",
       "      <td>2</td>\n",
       "    </tr>\n",
       "    <tr>\n",
       "      <td>2</td>\n",
       "      <td>plymouth satellite</td>\n",
       "      <td>18.0</td>\n",
       "      <td>8.0</td>\n",
       "      <td>318.0</td>\n",
       "      <td>150.0</td>\n",
       "      <td>3436.0</td>\n",
       "      <td>11.0</td>\n",
       "      <td>2</td>\n",
       "    </tr>\n",
       "    <tr>\n",
       "      <td>3</td>\n",
       "      <td>amc rebel sst</td>\n",
       "      <td>16.0</td>\n",
       "      <td>8.0</td>\n",
       "      <td>304.0</td>\n",
       "      <td>150.0</td>\n",
       "      <td>3433.0</td>\n",
       "      <td>12.0</td>\n",
       "      <td>2</td>\n",
       "    </tr>\n",
       "    <tr>\n",
       "      <td>4</td>\n",
       "      <td>ford torino</td>\n",
       "      <td>17.0</td>\n",
       "      <td>8.0</td>\n",
       "      <td>302.0</td>\n",
       "      <td>140.0</td>\n",
       "      <td>3449.0</td>\n",
       "      <td>10.5</td>\n",
       "      <td>2</td>\n",
       "    </tr>\n",
       "  </tbody>\n",
       "</table>\n",
       "</div>"
      ],
      "text/plain": [
       "                    car name   mpg  cylinders  displacement  horsepower  \\\n",
       "0  chevrolet chevelle malibu  18.0        8.0         307.0       130.0   \n",
       "1          buick skylark 320  15.0        8.0         350.0       165.0   \n",
       "2         plymouth satellite  18.0        8.0         318.0       150.0   \n",
       "3              amc rebel sst  16.0        8.0         304.0       150.0   \n",
       "4                ford torino  17.0        8.0         302.0       140.0   \n",
       "\n",
       "   weight  acceleration  CLS_label  \n",
       "0  3504.0          12.0          2  \n",
       "1  3693.0          11.5          2  \n",
       "2  3436.0          11.0          2  \n",
       "3  3433.0          12.0          2  \n",
       "4  3449.0          10.5          2  "
      ]
     },
     "execution_count": 23,
     "metadata": {},
     "output_type": "execute_result"
    }
   ],
   "source": [
    "# Add culumn 'CLS_label' as clustering label\n",
    "df['CLS_label'] = labels\n",
    "print(df.shape)\n",
    "df.head()"
   ]
  },
  {
   "cell_type": "markdown",
   "metadata": {},
   "source": [
    "### Scatter plot of clusters"
   ]
  },
  {
   "cell_type": "code",
   "execution_count": 24,
   "metadata": {},
   "outputs": [],
   "source": [
    "# Make list of colors to draw scatter plot in different colors by cluster \n",
    "color_codes = {0:'red',\n",
    "               1:'green',\n",
    "               2:'blue',\n",
    "               3:'yellow',\n",
    "               4:'magenta',\n",
    "               5:'cyan',\n",
    "               6:'black',\n",
    "               7:'brown',\n",
    "               8:'orange',\n",
    "               9:'pink'}\n",
    "\n",
    "colors = list()\n",
    "for i in range(len(labels)) :\n",
    "    colors.append(color_codes[labels[i]])"
   ]
  },
  {
   "cell_type": "code",
   "execution_count": 25,
   "metadata": {
    "colab": {
     "base_uri": "https://localhost:8080/",
     "height": 85
    },
    "colab_type": "code",
    "executionInfo": {
     "elapsed": 55727,
     "status": "ok",
     "timestamp": 1564378298693,
     "user": {
      "displayName": "DP3 Merill",
      "photoUrl": "",
      "userId": "16635738950127380978"
     },
     "user_tz": -540
    },
    "id": "HEgwSsMiCgHd",
    "outputId": "e2903ae4-6408-4fa9-aefc-81832dcf17c6"
   },
   "outputs": [
    {
     "name": "stdout",
     "output_type": "stream",
     "text": [
      "data size of CLS label \t0\tcolor:\tred\t = \t85\n",
      "data size of CLS label \t1\tcolor:\tgreen\t = \t181\n",
      "data size of CLS label \t2\tcolor:\tblue\t = \t117\n"
     ]
    }
   ],
   "source": [
    "# Save files and print data size by label\n",
    "for i in range(int(num)) :\n",
    "  label_num = i\n",
    "  df_new = df[df['CLS_label'] == label_num]\n",
    "  print('data size of CLS label ', label_num, 'color:', color_codes.get(i), ' = ', len(df_new), sep = '\\t')\n",
    "  df_new.to_csv('K-means_cluster_' + str(label_num) + '.csv')"
   ]
  },
  {
   "cell_type": "code",
   "execution_count": 26,
   "metadata": {},
   "outputs": [
    {
     "data": {
      "image/png": "[encoded data removed]",
      "text/plain": [
       "<Figure size 1080x1080 with 5 Axes>"
      ]
     },
     "metadata": {
      "needs_background": "light"
     },
     "output_type": "display_data"
    }
   ],
   "source": [
    "# Draw scatter plots by clusters\n",
    "horz = 5                     # horizontal number of graph\n",
    "vert = 5                     # vertical number of graph\n",
    "graph_num = horz * vert      # maximum number of graphs\n",
    "\n",
    "axes = list()\n",
    "fig = plt.figure(figsize=(15, 15))\n",
    "\n",
    "for i in range(1, len(df.columns) - 2):\n",
    "    axes.append(fig.add_subplot(vert, horz, i))\n",
    "    for j in range(len(df)) :\n",
    "        x = df.iloc[j, i+1]\n",
    "        y = df.iloc[j, 1]\n",
    "        axes[i-1].scatter(x, y, marker='.', c = colors[j], alpha = 0.8)\n",
    "    axes[i-1].set_xlabel(df.columns[i+1], size = 12)\n",
    "    axes[i-1].set_ylabel(df.columns[1], size = 12)\n",
    "\n",
    "plt.subplots_adjust(wspace=0.4, hspace=0.4)\n",
    "plt.savefig('K-means visualization.png')\n",
    "plt.show()"
   ]
  },
  {
   "cell_type": "code",
   "execution_count": null,
   "metadata": {},
   "outputs": [],
   "source": []
  }
 ],
 "metadata": {
  "colab": {
   "collapsed_sections": [],
   "name": "20190729_data_cleaning_clustering_INTERGLAD_low_Sp.ipynb",
   "provenance": [],
   "toc_visible": true,
   "version": "0.3.2"
  },
  "kernelspec": {
   "display_name": "Python 3",
   "language": "python",
   "name": "python3"
  },
  "language_info": {
   "codemirror_mode": {
    "name": "ipython",
    "version": 3
   },
   "file_extension": ".py",
   "mimetype": "text/x-python",
   "name": "python",
   "nbconvert_exporter": "python",
   "pygments_lexer": "ipython3",
   "version": "3.7.4"
  }
 },
 "nbformat": 4,
 "nbformat_minor": 1
}
