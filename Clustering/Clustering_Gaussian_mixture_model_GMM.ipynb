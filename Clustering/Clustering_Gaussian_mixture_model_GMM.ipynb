{
 "cells": [
  {
   "cell_type": "markdown",
   "metadata": {
    "colab_type": "text",
    "id": "dF3MPqWYkNNd"
   },
   "source": [
    "# Clustering - Gaussian mixtre model\n",
    "Reference: https://datachemeng.com/gaussianmixturemodel/"
   ]
  },
  {
   "cell_type": "code",
   "execution_count": 1,
   "metadata": {
    "colab": {},
    "colab_type": "code",
    "id": "wBW_XbZxuitX"
   },
   "outputs": [],
   "source": [
    "import sys\n",
    "import numpy as np\n",
    "import pandas as pd\n",
    "import matplotlib.pyplot as plt\n",
    "import seaborn as sns\n",
    "\n",
    "from sklearn.mixture import GaussianMixture        # GMM\n",
    "\n",
    "%matplotlib inline"
   ]
  },
  {
   "cell_type": "code",
   "execution_count": 2,
   "metadata": {
    "colab": {
     "base_uri": "https://localhost:8080/",
     "height": 332
    },
    "colab_type": "code",
    "executionInfo": {
     "elapsed": 812,
     "status": "ok",
     "timestamp": 1564379413569,
     "user": {
      "displayName": "DP3 Merill",
      "photoUrl": "",
      "userId": "16635738950127380978"
     },
     "user_tz": -540
    },
    "id": "f39bFWBBaghu",
    "outputId": "6ca8e446-8929-4755-bd43-a963a56ce0d2"
   },
   "outputs": [
    {
     "data": {
      "text/html": [
       "<div>\n",
       "<style scoped>\n",
       "    .dataframe tbody tr th:only-of-type {\n",
       "        vertical-align: middle;\n",
       "    }\n",
       "\n",
       "    .dataframe tbody tr th {\n",
       "        vertical-align: top;\n",
       "    }\n",
       "\n",
       "    .dataframe thead th {\n",
       "        text-align: right;\n",
       "    }\n",
       "</style>\n",
       "<table border=\"1\" class=\"dataframe\">\n",
       "  <thead>\n",
       "    <tr style=\"text-align: right;\">\n",
       "      <th></th>\n",
       "      <th>car name</th>\n",
       "      <th>mpg</th>\n",
       "      <th>cylinders</th>\n",
       "      <th>displacement</th>\n",
       "      <th>horsepower</th>\n",
       "      <th>weight</th>\n",
       "      <th>acceleration</th>\n",
       "    </tr>\n",
       "  </thead>\n",
       "  <tbody>\n",
       "    <tr>\n",
       "      <td>0</td>\n",
       "      <td>chevrolet chevelle malibu</td>\n",
       "      <td>18.0</td>\n",
       "      <td>8.0</td>\n",
       "      <td>307.0</td>\n",
       "      <td>130.0</td>\n",
       "      <td>3504.0</td>\n",
       "      <td>12.0</td>\n",
       "    </tr>\n",
       "    <tr>\n",
       "      <td>1</td>\n",
       "      <td>buick skylark 320</td>\n",
       "      <td>15.0</td>\n",
       "      <td>8.0</td>\n",
       "      <td>350.0</td>\n",
       "      <td>165.0</td>\n",
       "      <td>3693.0</td>\n",
       "      <td>11.5</td>\n",
       "    </tr>\n",
       "    <tr>\n",
       "      <td>2</td>\n",
       "      <td>plymouth satellite</td>\n",
       "      <td>18.0</td>\n",
       "      <td>8.0</td>\n",
       "      <td>318.0</td>\n",
       "      <td>150.0</td>\n",
       "      <td>3436.0</td>\n",
       "      <td>11.0</td>\n",
       "    </tr>\n",
       "    <tr>\n",
       "      <td>3</td>\n",
       "      <td>amc rebel sst</td>\n",
       "      <td>16.0</td>\n",
       "      <td>8.0</td>\n",
       "      <td>304.0</td>\n",
       "      <td>150.0</td>\n",
       "      <td>3433.0</td>\n",
       "      <td>12.0</td>\n",
       "    </tr>\n",
       "    <tr>\n",
       "      <td>4</td>\n",
       "      <td>ford torino</td>\n",
       "      <td>17.0</td>\n",
       "      <td>8.0</td>\n",
       "      <td>302.0</td>\n",
       "      <td>140.0</td>\n",
       "      <td>3449.0</td>\n",
       "      <td>10.5</td>\n",
       "    </tr>\n",
       "  </tbody>\n",
       "</table>\n",
       "</div>"
      ],
      "text/plain": [
       "                    car name   mpg  cylinders  displacement  horsepower  \\\n",
       "0  chevrolet chevelle malibu  18.0        8.0         307.0       130.0   \n",
       "1          buick skylark 320  15.0        8.0         350.0       165.0   \n",
       "2         plymouth satellite  18.0        8.0         318.0       150.0   \n",
       "3              amc rebel sst  16.0        8.0         304.0       150.0   \n",
       "4                ford torino  17.0        8.0         302.0       140.0   \n",
       "\n",
       "   weight  acceleration  \n",
       "0  3504.0          12.0  \n",
       "1  3693.0          11.5  \n",
       "2  3436.0          11.0  \n",
       "3  3433.0          12.0  \n",
       "4  3449.0          10.5  "
      ]
     },
     "execution_count": 2,
     "metadata": {},
     "output_type": "execute_result"
    }
   ],
   "source": [
    "# Import dataset\n",
    "df = pd.read_csv('auto-mpg_clean.csv')\n",
    "df.head()"
   ]
  },
  {
   "cell_type": "code",
   "execution_count": 3,
   "metadata": {},
   "outputs": [
    {
     "data": {
      "text/html": [
       "<div>\n",
       "<style scoped>\n",
       "    .dataframe tbody tr th:only-of-type {\n",
       "        vertical-align: middle;\n",
       "    }\n",
       "\n",
       "    .dataframe tbody tr th {\n",
       "        vertical-align: top;\n",
       "    }\n",
       "\n",
       "    .dataframe thead th {\n",
       "        text-align: right;\n",
       "    }\n",
       "</style>\n",
       "<table border=\"1\" class=\"dataframe\">\n",
       "  <thead>\n",
       "    <tr style=\"text-align: right;\">\n",
       "      <th></th>\n",
       "      <th>mpg</th>\n",
       "      <th>cylinders</th>\n",
       "      <th>displacement</th>\n",
       "      <th>horsepower</th>\n",
       "      <th>weight</th>\n",
       "      <th>acceleration</th>\n",
       "    </tr>\n",
       "  </thead>\n",
       "  <tbody>\n",
       "    <tr>\n",
       "      <td>0</td>\n",
       "      <td>18.0</td>\n",
       "      <td>8.0</td>\n",
       "      <td>307.0</td>\n",
       "      <td>130.0</td>\n",
       "      <td>3504.0</td>\n",
       "      <td>12.0</td>\n",
       "    </tr>\n",
       "    <tr>\n",
       "      <td>1</td>\n",
       "      <td>15.0</td>\n",
       "      <td>8.0</td>\n",
       "      <td>350.0</td>\n",
       "      <td>165.0</td>\n",
       "      <td>3693.0</td>\n",
       "      <td>11.5</td>\n",
       "    </tr>\n",
       "    <tr>\n",
       "      <td>2</td>\n",
       "      <td>18.0</td>\n",
       "      <td>8.0</td>\n",
       "      <td>318.0</td>\n",
       "      <td>150.0</td>\n",
       "      <td>3436.0</td>\n",
       "      <td>11.0</td>\n",
       "    </tr>\n",
       "    <tr>\n",
       "      <td>3</td>\n",
       "      <td>16.0</td>\n",
       "      <td>8.0</td>\n",
       "      <td>304.0</td>\n",
       "      <td>150.0</td>\n",
       "      <td>3433.0</td>\n",
       "      <td>12.0</td>\n",
       "    </tr>\n",
       "    <tr>\n",
       "      <td>4</td>\n",
       "      <td>17.0</td>\n",
       "      <td>8.0</td>\n",
       "      <td>302.0</td>\n",
       "      <td>140.0</td>\n",
       "      <td>3449.0</td>\n",
       "      <td>10.5</td>\n",
       "    </tr>\n",
       "  </tbody>\n",
       "</table>\n",
       "</div>"
      ],
      "text/plain": [
       "    mpg  cylinders  displacement  horsepower  weight  acceleration\n",
       "0  18.0        8.0         307.0       130.0  3504.0          12.0\n",
       "1  15.0        8.0         350.0       165.0  3693.0          11.5\n",
       "2  18.0        8.0         318.0       150.0  3436.0          11.0\n",
       "3  16.0        8.0         304.0       150.0  3433.0          12.0\n",
       "4  17.0        8.0         302.0       140.0  3449.0          10.5"
      ]
     },
     "execution_count": 3,
     "metadata": {},
     "output_type": "execute_result"
    }
   ],
   "source": [
    "# Remove unnecessary columns\n",
    "X = df.iloc[:, 1:]\n",
    "X.head()"
   ]
  },
  {
   "cell_type": "code",
   "execution_count": 4,
   "metadata": {},
   "outputs": [
    {
     "data": {
      "image/png": "[encoded data removed]",
      "text/plain": [
       "<Figure size 1080x1080 with 5 Axes>"
      ]
     },
     "metadata": {
      "needs_background": "light"
     },
     "output_type": "display_data"
    }
   ],
   "source": [
    "# Draw scatter plots to check outliers\n",
    "horz = 5                     # horizontal number of graph\n",
    "vert = 5                     # vertical number of graph\n",
    "graph_num = horz * vert      # maximum number of graphs\n",
    "axes = list()\n",
    "\n",
    "fig = plt.figure(figsize=(15, 15))\n",
    "\n",
    "for i in range(1, len(X.columns)):\n",
    "    axes.append(fig.add_subplot(vert, horz, i))\n",
    "    for j in range(len(X)) :\n",
    "        x = X.iloc[j, i]\n",
    "        y = X.iloc[j, 0]\n",
    "        axes[i-1].scatter(x, y, marker='.', c = 'r', alpha = 0.8)\n",
    "    axes[i-1].set_xlabel(X.columns[i], size = 12)\n",
    "    axes[i-1].set_ylabel(X.columns[0], size = 12)\n",
    "\n",
    "plt.subplots_adjust(wspace=0.4, hspace=0.4)\n",
    "plt.show()"
   ]
  },
  {
   "cell_type": "markdown",
   "metadata": {
    "colab_type": "text",
    "id": "l9cOnZrBkTN1"
   },
   "source": [
    "## Gaussian mixture model"
   ]
  },
  {
   "cell_type": "markdown",
   "metadata": {},
   "source": [
    "### Bayesian information criterion (BIC)"
   ]
  },
  {
   "cell_type": "code",
   "execution_count": 5,
   "metadata": {},
   "outputs": [],
   "source": [
    "max_number_of_components = 10\n",
    "covariance_types = ['full', 'diag', 'tied', 'spherical']"
   ]
  },
  {
   "cell_type": "code",
   "execution_count": 6,
   "metadata": {},
   "outputs": [
    {
     "data": {
      "text/plain": [
       "(10, 4)"
      ]
     },
     "execution_count": 6,
     "metadata": {},
     "output_type": "execute_result"
    }
   ],
   "source": [
    "bic_values = np.empty([max_number_of_components, len(covariance_types)])\n",
    "bic_values.shape"
   ]
  },
  {
   "cell_type": "code",
   "execution_count": 7,
   "metadata": {},
   "outputs": [],
   "source": [
    "from sklearn.mixture import GaussianMixture\n",
    "\n",
    "# Grid search using BIC\n",
    "for covariance_type_index, covariance_type in enumerate(covariance_types):\n",
    "    for number_of_components in range(max_number_of_components):\n",
    "        gmm_model = GaussianMixture(n_components = number_of_components + 1, covariance_type = covariance_type)\n",
    "        gmm_model.fit(X)\n",
    "        bic_values[number_of_components, covariance_type_index] = gmm_model.bic(X)"
   ]
  },
  {
   "cell_type": "code",
   "execution_count": 8,
   "metadata": {},
   "outputs": [
    {
     "data": {
      "image/png": "[encoded data removed]",
      "text/plain": [
       "<Figure size 432x288 with 1 Axes>"
      ]
     },
     "metadata": {
      "needs_background": "light"
     },
     "output_type": "display_data"
    }
   ],
   "source": [
    "# Plot\n",
    "plt.rcParams[\"font.size\"] = 12\n",
    "plt.figure()\n",
    "\n",
    "plt.plot(bic_values[:, 0], 'b-', label='full')\n",
    "plt.plot(bic_values[:, 1], 'g-', label='diag')\n",
    "plt.plot(bic_values[:, 2], 'k-', label='tied')\n",
    "plt.plot(bic_values[:, 3], 'r-', label='spherical')\n",
    "\n",
    "plt.xlabel('Number of components')\n",
    "plt.ylabel('BIC values')\n",
    "plt.legend(bbox_to_anchor=(0.88, 0.9, 0.5, 0.001), borderaxespad=0., )\n",
    "plt.show()"
   ]
  },
  {
   "cell_type": "code",
   "execution_count": 9,
   "metadata": {},
   "outputs": [
    {
     "name": "stdout",
     "output_type": "stream",
     "text": [
      "(array([6], dtype=int64), array([0], dtype=int64))\n",
      "7\n",
      "full\n"
     ]
    }
   ],
   "source": [
    "# Optimal parameters\n",
    "optimal_index = np.where(bic_values == bic_values.min())\n",
    "optimal_number_of_components = optimal_index[0][0] + 1\n",
    "optimal_covariance_type = covariance_types[optimal_index[1][0]]\n",
    "\n",
    "print(optimal_index)\n",
    "print(optimal_number_of_components)\n",
    "print(optimal_covariance_type)"
   ]
  },
  {
   "cell_type": "code",
   "execution_count": 10,
   "metadata": {},
   "outputs": [
    {
     "data": {
      "text/plain": [
       "GaussianMixture(covariance_type='full', init_params='kmeans', max_iter=100,\n",
       "                means_init=None, n_components=7, n_init=1, precisions_init=None,\n",
       "                random_state=None, reg_covar=1e-06, tol=0.001, verbose=0,\n",
       "                verbose_interval=10, warm_start=False, weights_init=None)"
      ]
     },
     "execution_count": 10,
     "metadata": {},
     "output_type": "execute_result"
    }
   ],
   "source": [
    "# GMM\n",
    "gmm = GaussianMixture(n_components = optimal_number_of_components, covariance_type = optimal_covariance_type)\n",
    "gmm.fit(X)"
   ]
  },
  {
   "cell_type": "code",
   "execution_count": 11,
   "metadata": {},
   "outputs": [],
   "source": [
    "# mean and covariance\n",
    "means = gmm.means_\n",
    "if gmm.covariance_type == 'full':\n",
    "    all_covariances = gmm.covariances_\n",
    "elif gmm.covariance_type == 'diag':\n",
    "    all_covariances = np.empty(\n",
    "        [gmm.n_components, gmm.covariances_.shape[1], gmm.covariances_.shape[1]])\n",
    "    for component_number in range(gmm.n_components):\n",
    "        all_covariances[component_number, :, :] = np.diag(gmm.covariances_[component_number, :])\n",
    "elif gmm.covariance_type == 'tied':\n",
    "    all_covariances = np.tile(gmm.covariances_, (gmm.n_components, 1, 1))\n",
    "elif gmm.covariance_type == 'spherical':\n",
    "    all_covariances = np.empty([gmm.n_components, gmm.means_.shape[1], gmm.means_.shape[1]])\n",
    "    for component_number in range(gmm.n_components):\n",
    "        all_covariances[component_number, :, :] = np.diag(\n",
    "            gmm.covariances_[component_number] * np.ones(gmm.means_.shape[1]))"
   ]
  },
  {
   "cell_type": "code",
   "execution_count": 12,
   "metadata": {},
   "outputs": [
    {
     "data": {
      "text/plain": [
       "array([1, 1, 1, 1, 1, 1, 1, 1, 1, 1, 1, 1, 1, 3, 6, 5, 5, 2, 2, 2, 2, 2,\n",
       "       6, 5, 4, 4, 4, 4, 2, 6, 6, 5, 5, 5, 5, 5, 1, 1, 1, 1, 4, 4, 4, 5,\n",
       "       6, 5, 5, 6, 6, 2, 2, 2, 2, 2, 2, 6, 2, 2, 6, 6, 1, 1, 1, 1, 1, 1,\n",
       "       1, 1, 1, 0, 1, 1, 1, 1, 2, 6, 2, 2, 6, 2, 6, 2, 2, 1, 1, 1, 1, 1,\n",
       "       1, 4, 1, 1, 1, 1, 1, 5, 5, 5, 5, 2, 4, 4, 1, 4, 5, 2, 6, 2, 0, 0,\n",
       "       2, 1, 1, 2, 6, 2, 2, 1, 2, 0, 1, 5, 5, 5, 2, 2, 6, 5, 5, 5, 1, 1,\n",
       "       1, 1, 1, 2, 2, 2, 2, 2, 2, 2, 2, 6, 2, 2, 5, 5, 5, 1, 1, 1, 1, 5,\n",
       "       5, 5, 5, 5, 1, 1, 2, 5, 6, 6, 2, 2, 2, 5, 2, 2, 2, 2, 2, 2, 6, 6,\n",
       "       2, 2, 1, 1, 1, 1, 5, 5, 5, 2, 2, 2, 2, 5, 5, 5, 5, 2, 2, 2, 2, 1,\n",
       "       2, 0, 5, 1, 1, 1, 1, 2, 2, 2, 6, 2, 1, 1, 1, 1, 5, 5, 5, 5, 1, 1,\n",
       "       1, 1, 2, 6, 2, 6, 2, 2, 2, 2, 0, 2, 0, 2, 2, 2, 2, 2, 1, 1, 1, 5,\n",
       "       5, 5, 6, 5, 5, 5, 5, 5, 5, 1, 5, 1, 1, 2, 6, 6, 2, 6, 6, 6, 6, 0,\n",
       "       0, 2, 0, 2, 2, 5, 5, 6, 5, 5, 1, 1, 1, 1, 1, 1, 1, 1, 2, 2, 2, 2,\n",
       "       3, 5, 2, 5, 2, 2, 2, 2, 6, 0, 0, 6, 2, 2, 2, 2, 6, 6, 6, 5, 2, 6,\n",
       "       2, 2, 2, 2, 6, 2, 2, 2, 3, 2, 2, 2, 2, 0, 0, 2, 2, 6, 6, 6, 0, 6,\n",
       "       2, 2, 2, 2, 2, 2, 2, 2, 2, 2, 2, 2, 2, 2, 2, 2, 3, 0, 0, 5, 5, 5,\n",
       "       5, 2, 2, 2, 2, 6, 6, 6, 2, 2, 2, 2, 2, 2, 2, 2, 2, 2, 2, 3, 3, 6,\n",
       "       5, 6, 6, 6, 6, 2, 6, 2, 2], dtype=int64)"
      ]
     },
     "execution_count": 12,
     "metadata": {},
     "output_type": "execute_result"
    }
   ],
   "source": [
    "labels = gmm.predict(X)\n",
    "labels"
   ]
  },
  {
   "cell_type": "markdown",
   "metadata": {},
   "source": [
    "### Obtain cluster labels"
   ]
  },
  {
   "cell_type": "code",
   "execution_count": 13,
   "metadata": {},
   "outputs": [
    {
     "name": "stdout",
     "output_type": "stream",
     "text": [
      "(383, 8)\n"
     ]
    },
    {
     "data": {
      "text/html": [
       "<div>\n",
       "<style scoped>\n",
       "    .dataframe tbody tr th:only-of-type {\n",
       "        vertical-align: middle;\n",
       "    }\n",
       "\n",
       "    .dataframe tbody tr th {\n",
       "        vertical-align: top;\n",
       "    }\n",
       "\n",
       "    .dataframe thead th {\n",
       "        text-align: right;\n",
       "    }\n",
       "</style>\n",
       "<table border=\"1\" class=\"dataframe\">\n",
       "  <thead>\n",
       "    <tr style=\"text-align: right;\">\n",
       "      <th></th>\n",
       "      <th>car name</th>\n",
       "      <th>mpg</th>\n",
       "      <th>cylinders</th>\n",
       "      <th>displacement</th>\n",
       "      <th>horsepower</th>\n",
       "      <th>weight</th>\n",
       "      <th>acceleration</th>\n",
       "      <th>CLS_label</th>\n",
       "    </tr>\n",
       "  </thead>\n",
       "  <tbody>\n",
       "    <tr>\n",
       "      <td>0</td>\n",
       "      <td>chevrolet chevelle malibu</td>\n",
       "      <td>18.0</td>\n",
       "      <td>8.0</td>\n",
       "      <td>307.0</td>\n",
       "      <td>130.0</td>\n",
       "      <td>3504.0</td>\n",
       "      <td>12.0</td>\n",
       "      <td>1</td>\n",
       "    </tr>\n",
       "    <tr>\n",
       "      <td>1</td>\n",
       "      <td>buick skylark 320</td>\n",
       "      <td>15.0</td>\n",
       "      <td>8.0</td>\n",
       "      <td>350.0</td>\n",
       "      <td>165.0</td>\n",
       "      <td>3693.0</td>\n",
       "      <td>11.5</td>\n",
       "      <td>1</td>\n",
       "    </tr>\n",
       "    <tr>\n",
       "      <td>2</td>\n",
       "      <td>plymouth satellite</td>\n",
       "      <td>18.0</td>\n",
       "      <td>8.0</td>\n",
       "      <td>318.0</td>\n",
       "      <td>150.0</td>\n",
       "      <td>3436.0</td>\n",
       "      <td>11.0</td>\n",
       "      <td>1</td>\n",
       "    </tr>\n",
       "    <tr>\n",
       "      <td>3</td>\n",
       "      <td>amc rebel sst</td>\n",
       "      <td>16.0</td>\n",
       "      <td>8.0</td>\n",
       "      <td>304.0</td>\n",
       "      <td>150.0</td>\n",
       "      <td>3433.0</td>\n",
       "      <td>12.0</td>\n",
       "      <td>1</td>\n",
       "    </tr>\n",
       "    <tr>\n",
       "      <td>4</td>\n",
       "      <td>ford torino</td>\n",
       "      <td>17.0</td>\n",
       "      <td>8.0</td>\n",
       "      <td>302.0</td>\n",
       "      <td>140.0</td>\n",
       "      <td>3449.0</td>\n",
       "      <td>10.5</td>\n",
       "      <td>1</td>\n",
       "    </tr>\n",
       "  </tbody>\n",
       "</table>\n",
       "</div>"
      ],
      "text/plain": [
       "                    car name   mpg  cylinders  displacement  horsepower  \\\n",
       "0  chevrolet chevelle malibu  18.0        8.0         307.0       130.0   \n",
       "1          buick skylark 320  15.0        8.0         350.0       165.0   \n",
       "2         plymouth satellite  18.0        8.0         318.0       150.0   \n",
       "3              amc rebel sst  16.0        8.0         304.0       150.0   \n",
       "4                ford torino  17.0        8.0         302.0       140.0   \n",
       "\n",
       "   weight  acceleration  CLS_label  \n",
       "0  3504.0          12.0          1  \n",
       "1  3693.0          11.5          1  \n",
       "2  3436.0          11.0          1  \n",
       "3  3433.0          12.0          1  \n",
       "4  3449.0          10.5          1  "
      ]
     },
     "execution_count": 13,
     "metadata": {},
     "output_type": "execute_result"
    }
   ],
   "source": [
    "df['CLS_label'] = labels\n",
    "print(df.shape)\n",
    "df.head()"
   ]
  },
  {
   "cell_type": "code",
   "execution_count": 14,
   "metadata": {},
   "outputs": [
    {
     "name": "stdout",
     "output_type": "stream",
     "text": [
      "[0 1 2 3 4 5 6]\n"
     ]
    }
   ],
   "source": [
    "# Check number of labels\n",
    "num_uniq = np.unique(df['CLS_label'])\n",
    "print(num_uniq)"
   ]
  },
  {
   "cell_type": "code",
   "execution_count": 15,
   "metadata": {},
   "outputs": [],
   "source": [
    "# Save the file with cluster labels\n",
    "df.to_csv('GMM_clustering_w_label.csv', index = False)"
   ]
  },
  {
   "cell_type": "markdown",
   "metadata": {},
   "source": [
    "### Visualization"
   ]
  },
  {
   "cell_type": "code",
   "execution_count": 16,
   "metadata": {},
   "outputs": [
    {
     "name": "stdout",
     "output_type": "stream",
     "text": [
      "(383, 8)\n"
     ]
    }
   ],
   "source": [
    "column_names = df.columns.values         # list of column names\n",
    "print(df.shape)"
   ]
  },
  {
   "cell_type": "code",
   "execution_count": 17,
   "metadata": {},
   "outputs": [],
   "source": [
    "# make list of colors to draw scatter plot in different colors by cluster \n",
    "color_codes = {0:'red',\n",
    "               1:'green',\n",
    "               2:'blue',\n",
    "               3:'yellow',\n",
    "               4:'magenta',\n",
    "               5:'cyan',\n",
    "               6:'black',\n",
    "               7:'brown',\n",
    "               8:'orange',\n",
    "               9:'pink'}\n",
    "\n",
    "colors = list()\n",
    "for i in range(len(labels)) :\n",
    "    colors.append(color_codes[labels[i]])"
   ]
  },
  {
   "cell_type": "code",
   "execution_count": 18,
   "metadata": {
    "colab": {
     "base_uri": "https://localhost:8080/",
     "height": 85
    },
    "colab_type": "code",
    "executionInfo": {
     "elapsed": 55727,
     "status": "ok",
     "timestamp": 1564378298693,
     "user": {
      "displayName": "DP3 Merill",
      "photoUrl": "",
      "userId": "16635738950127380978"
     },
     "user_tz": -540
    },
    "id": "HEgwSsMiCgHd",
    "outputId": "e2903ae4-6408-4fa9-aefc-81832dcf17c6"
   },
   "outputs": [
    {
     "name": "stdout",
     "output_type": "stream",
     "text": [
      "data size of CLS label \t0\tred\t = \t17\n",
      "data size of CLS label \t1\tgreen\t = \t88\n",
      "data size of CLS label \t2\tblue\t = \t143\n",
      "data size of CLS label \t3\tyellow\t = \t6\n",
      "data size of CLS label \t4\tmagenta\t = \t11\n",
      "data size of CLS label \t5\tcyan\t = \t66\n"
     ]
    }
   ],
   "source": [
    "# save files and print data size by label\n",
    "for i in range(int(6)) :\n",
    "  label_num = i\n",
    "  df_new = df[df['CLS_label'] == label_num]\n",
    "  print('data size of CLS label ', label_num, color_codes.get(i), ' = ', len(df_new), sep = '\\t')\n",
    "  df_new.to_csv('GMM_cluster_' + str(label_num) + '.csv')"
   ]
  },
  {
   "cell_type": "code",
   "execution_count": 19,
   "metadata": {},
   "outputs": [
    {
     "data": {
      "image/png": "[encoded data removed]",
      "text/plain": [
       "<Figure size 1080x1080 with 5 Axes>"
      ]
     },
     "metadata": {
      "needs_background": "light"
     },
     "output_type": "display_data"
    }
   ],
   "source": [
    "# Draw scatter plots by clusters\n",
    "horz = 5                     # horizontal number of graph\n",
    "vert = 5                     # vertical number of graph\n",
    "graph_num = horz * vert      # maximum number of graphs\n",
    "\n",
    "axes = list()\n",
    "fig = plt.figure(figsize=(15, 15))\n",
    "\n",
    "for i in range(1, len(X.columns)):\n",
    "    axes.append(fig.add_subplot(vert, horz, i))\n",
    "    for j in range(len(X)) :\n",
    "        x = X.iloc[j, i]\n",
    "        y = X.iloc[j, 0]\n",
    "        axes[i-1].scatter(x, y, marker='.', c = colors[j], alpha = 0.8)\n",
    "    axes[i-1].set_xlabel(X.columns[i], size = 12)\n",
    "    axes[i-1].set_ylabel(X.columns[0], size = 12)\n",
    "\n",
    "plt.subplots_adjust(wspace=0.4, hspace=0.4)\n",
    "plt.show()"
   ]
  },
  {
   "cell_type": "code",
   "execution_count": null,
   "metadata": {},
   "outputs": [],
   "source": []
  }
 ],
 "metadata": {
  "colab": {
   "collapsed_sections": [],
   "name": "20190729_data_cleaning_clustering_INTERGLAD_low_Sp.ipynb",
   "provenance": [],
   "toc_visible": true,
   "version": "0.3.2"
  },
  "kernelspec": {
   "display_name": "Python 3",
   "language": "python",
   "name": "python3"
  },
  "language_info": {
   "codemirror_mode": {
    "name": "ipython",
    "version": 3
   },
   "file_extension": ".py",
   "mimetype": "text/x-python",
   "name": "python",
   "nbconvert_exporter": "python",
   "pygments_lexer": "ipython3",
   "version": "3.7.4"
  }
 },
 "nbformat": 4,
 "nbformat_minor": 1
}
