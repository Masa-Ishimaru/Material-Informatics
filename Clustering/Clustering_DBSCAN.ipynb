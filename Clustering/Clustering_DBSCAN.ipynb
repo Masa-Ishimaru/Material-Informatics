{
 "cells": [
  {
   "cell_type": "markdown",
   "metadata": {},
   "source": [
    "# # Clustering - DBSCAN <br>\n",
    "Reference : <br>\n",
    "https://towardsdatascience.com/dbscan-clustering-explained-97556a2ad556"
   ]
  },
  {
   "cell_type": "code",
   "execution_count": 1,
   "metadata": {},
   "outputs": [],
   "source": [
    "import sys\n",
    "import numpy as np\n",
    "import pandas as pd\n",
    "import matplotlib.pyplot as plt\n",
    "import seaborn as sns\n",
    "\n",
    "from sklearn.cluster import DBSCAN \n",
    "from sklearn.preprocessing import StandardScaler \n",
    "from sklearn.preprocessing import normalize \n",
    "from sklearn.decomposition import PCA \n",
    "\n",
    "%matplotlib inline"
   ]
  },
  {
   "cell_type": "code",
   "execution_count": 2,
   "metadata": {},
   "outputs": [
    {
     "name": "stdout",
     "output_type": "stream",
     "text": [
      "(383, 7)\n"
     ]
    },
    {
     "data": {
      "text/html": [
       "<div>\n",
       "<style scoped>\n",
       "    .dataframe tbody tr th:only-of-type {\n",
       "        vertical-align: middle;\n",
       "    }\n",
       "\n",
       "    .dataframe tbody tr th {\n",
       "        vertical-align: top;\n",
       "    }\n",
       "\n",
       "    .dataframe thead th {\n",
       "        text-align: right;\n",
       "    }\n",
       "</style>\n",
       "<table border=\"1\" class=\"dataframe\">\n",
       "  <thead>\n",
       "    <tr style=\"text-align: right;\">\n",
       "      <th></th>\n",
       "      <th>car name</th>\n",
       "      <th>mpg</th>\n",
       "      <th>cylinders</th>\n",
       "      <th>displacement</th>\n",
       "      <th>horsepower</th>\n",
       "      <th>weight</th>\n",
       "      <th>acceleration</th>\n",
       "    </tr>\n",
       "  </thead>\n",
       "  <tbody>\n",
       "    <tr>\n",
       "      <td>0</td>\n",
       "      <td>chevrolet chevelle malibu</td>\n",
       "      <td>18.0</td>\n",
       "      <td>8.0</td>\n",
       "      <td>307.0</td>\n",
       "      <td>130.0</td>\n",
       "      <td>3504.0</td>\n",
       "      <td>12.0</td>\n",
       "    </tr>\n",
       "    <tr>\n",
       "      <td>1</td>\n",
       "      <td>buick skylark 320</td>\n",
       "      <td>15.0</td>\n",
       "      <td>8.0</td>\n",
       "      <td>350.0</td>\n",
       "      <td>165.0</td>\n",
       "      <td>3693.0</td>\n",
       "      <td>11.5</td>\n",
       "    </tr>\n",
       "    <tr>\n",
       "      <td>2</td>\n",
       "      <td>plymouth satellite</td>\n",
       "      <td>18.0</td>\n",
       "      <td>8.0</td>\n",
       "      <td>318.0</td>\n",
       "      <td>150.0</td>\n",
       "      <td>3436.0</td>\n",
       "      <td>11.0</td>\n",
       "    </tr>\n",
       "    <tr>\n",
       "      <td>3</td>\n",
       "      <td>amc rebel sst</td>\n",
       "      <td>16.0</td>\n",
       "      <td>8.0</td>\n",
       "      <td>304.0</td>\n",
       "      <td>150.0</td>\n",
       "      <td>3433.0</td>\n",
       "      <td>12.0</td>\n",
       "    </tr>\n",
       "    <tr>\n",
       "      <td>4</td>\n",
       "      <td>ford torino</td>\n",
       "      <td>17.0</td>\n",
       "      <td>8.0</td>\n",
       "      <td>302.0</td>\n",
       "      <td>140.0</td>\n",
       "      <td>3449.0</td>\n",
       "      <td>10.5</td>\n",
       "    </tr>\n",
       "  </tbody>\n",
       "</table>\n",
       "</div>"
      ],
      "text/plain": [
       "                    car name   mpg  cylinders  displacement  horsepower  \\\n",
       "0  chevrolet chevelle malibu  18.0        8.0         307.0       130.0   \n",
       "1          buick skylark 320  15.0        8.0         350.0       165.0   \n",
       "2         plymouth satellite  18.0        8.0         318.0       150.0   \n",
       "3              amc rebel sst  16.0        8.0         304.0       150.0   \n",
       "4                ford torino  17.0        8.0         302.0       140.0   \n",
       "\n",
       "   weight  acceleration  \n",
       "0  3504.0          12.0  \n",
       "1  3693.0          11.5  \n",
       "2  3436.0          11.0  \n",
       "3  3433.0          12.0  \n",
       "4  3449.0          10.5  "
      ]
     },
     "execution_count": 2,
     "metadata": {},
     "output_type": "execute_result"
    }
   ],
   "source": [
    "# Import dataset\n",
    "df = pd.read_csv('auto-mpg_clean.csv')\n",
    "print(df.shape)\n",
    "df.head()"
   ]
  },
  {
   "cell_type": "code",
   "execution_count": 3,
   "metadata": {},
   "outputs": [
    {
     "data": {
      "text/html": [
       "<div>\n",
       "<style scoped>\n",
       "    .dataframe tbody tr th:only-of-type {\n",
       "        vertical-align: middle;\n",
       "    }\n",
       "\n",
       "    .dataframe tbody tr th {\n",
       "        vertical-align: top;\n",
       "    }\n",
       "\n",
       "    .dataframe thead th {\n",
       "        text-align: right;\n",
       "    }\n",
       "</style>\n",
       "<table border=\"1\" class=\"dataframe\">\n",
       "  <thead>\n",
       "    <tr style=\"text-align: right;\">\n",
       "      <th></th>\n",
       "      <th>mpg</th>\n",
       "      <th>cylinders</th>\n",
       "      <th>displacement</th>\n",
       "      <th>horsepower</th>\n",
       "      <th>weight</th>\n",
       "      <th>acceleration</th>\n",
       "    </tr>\n",
       "  </thead>\n",
       "  <tbody>\n",
       "    <tr>\n",
       "      <td>0</td>\n",
       "      <td>18.0</td>\n",
       "      <td>8.0</td>\n",
       "      <td>307.0</td>\n",
       "      <td>130.0</td>\n",
       "      <td>3504.0</td>\n",
       "      <td>12.0</td>\n",
       "    </tr>\n",
       "    <tr>\n",
       "      <td>1</td>\n",
       "      <td>15.0</td>\n",
       "      <td>8.0</td>\n",
       "      <td>350.0</td>\n",
       "      <td>165.0</td>\n",
       "      <td>3693.0</td>\n",
       "      <td>11.5</td>\n",
       "    </tr>\n",
       "    <tr>\n",
       "      <td>2</td>\n",
       "      <td>18.0</td>\n",
       "      <td>8.0</td>\n",
       "      <td>318.0</td>\n",
       "      <td>150.0</td>\n",
       "      <td>3436.0</td>\n",
       "      <td>11.0</td>\n",
       "    </tr>\n",
       "    <tr>\n",
       "      <td>3</td>\n",
       "      <td>16.0</td>\n",
       "      <td>8.0</td>\n",
       "      <td>304.0</td>\n",
       "      <td>150.0</td>\n",
       "      <td>3433.0</td>\n",
       "      <td>12.0</td>\n",
       "    </tr>\n",
       "    <tr>\n",
       "      <td>4</td>\n",
       "      <td>17.0</td>\n",
       "      <td>8.0</td>\n",
       "      <td>302.0</td>\n",
       "      <td>140.0</td>\n",
       "      <td>3449.0</td>\n",
       "      <td>10.5</td>\n",
       "    </tr>\n",
       "  </tbody>\n",
       "</table>\n",
       "</div>"
      ],
      "text/plain": [
       "    mpg  cylinders  displacement  horsepower  weight  acceleration\n",
       "0  18.0        8.0         307.0       130.0  3504.0          12.0\n",
       "1  15.0        8.0         350.0       165.0  3693.0          11.5\n",
       "2  18.0        8.0         318.0       150.0  3436.0          11.0\n",
       "3  16.0        8.0         304.0       150.0  3433.0          12.0\n",
       "4  17.0        8.0         302.0       140.0  3449.0          10.5"
      ]
     },
     "execution_count": 3,
     "metadata": {},
     "output_type": "execute_result"
    }
   ],
   "source": [
    "# Remove unnecessary columns\n",
    "X = df.iloc[:, 1:7]\n",
    "X.head()"
   ]
  },
  {
   "cell_type": "code",
   "execution_count": 4,
   "metadata": {},
   "outputs": [],
   "source": [
    "# Standardization\n",
    "scaler = StandardScaler() \n",
    "X_scaled = scaler.fit_transform(X) \n",
    "  \n",
    "# Normalization\n",
    "X_normalized = normalize(X_scaled) \n",
    "  \n",
    "# Converting to pandas DataFrame \n",
    "X_normalized = pd.DataFrame(X_normalized) "
   ]
  },
  {
   "cell_type": "code",
   "execution_count": 5,
   "metadata": {},
   "outputs": [
    {
     "name": "stdout",
     "output_type": "stream",
     "text": [
      "         P1        P2\n",
      "0  1.002585  0.391906\n",
      "1  1.030156  0.387655\n",
      "2  0.966531  0.510189\n",
      "3  1.013643  0.404185\n",
      "4  0.943631  0.537648\n"
     ]
    }
   ],
   "source": [
    "pca = PCA(n_components = 2) \n",
    "X_principal = pca.fit_transform(X_normalized) \n",
    "X_principal = pd.DataFrame(X_principal) \n",
    "X_principal.columns = ['P1', 'P2'] \n",
    "print(X_principal.head()) "
   ]
  },
  {
   "cell_type": "markdown",
   "metadata": {},
   "source": [
    "### DBSCAN (Density-based spatial clustering of applications with noise)"
   ]
  },
  {
   "cell_type": "code",
   "execution_count": 6,
   "metadata": {},
   "outputs": [],
   "source": [
    "# Need to determine epsilon\n",
    "db_default = DBSCAN(eps = 0.2, min_samples = 3).fit(X_principal) \n",
    "labels = db_default.labels_"
   ]
  },
  {
   "cell_type": "code",
   "execution_count": 7,
   "metadata": {
    "scrolled": true
   },
   "outputs": [
    {
     "name": "stdout",
     "output_type": "stream",
     "text": [
      "labels =  [ 0  0  0  0  0  0  0  0  0  0  0  0  0  0  1  2  2  1  1  1  1  1  1 -1\n",
      "  0  0  0  0  1  1  1 -1  0  0  0  0  0  0  0  0  0  0  0  0  1  0  0  1\n",
      "  1  1  1  1  1  1  1  1  1  1  1  1  0  0  0  0  0  0  0  0  0  1  0  0\n",
      "  0  0 -1  1  1  1  1  1  1  1  1  0  0  0  0  0  0  0  0  0  0  0  0  0\n",
      "  0  0  3  1  0  0  0  0  0  1  1  1  1 -1  1  0  0  1  1  1  1  0  1 -1\n",
      "  0  0  0  0  1  1  1  0  0  0  0  0  0  0  0  1  1  1  1  1  1  1  1  1\n",
      "  1  1  0  0  0  0  0  0  0  0  0  0  0  0  0  0  1  0  1  1  1  1  1  0\n",
      "  1  1  1  1  1  1  1  1  1  1  0  0  0  0  0  0  0  1  1  1  1  0  0  0\n",
      "  0  1  1  1  1  0  1  2  0  0  0  0  0  1  1  1  1  1  0  0  0  0  0  0\n",
      "  0  0  0  0  0  0  1  1  1  1  1  1  1  1 -1  1  1  1  1  1  1  1  0  0\n",
      "  0  0  0  3  1  0  0  0  0  0  0  0  0  0  0  1  1  1  1  1  1  1  1  1\n",
      "  0  1  0  1  1  0  0  1  0  0  0  0  0  0  0  0  0  0  1  1  1  1  1  0\n",
      "  1  0  1  1  1  1  1  4  4  1  1  1  1  1  1  1  1  0  1  1  1  1  1  1\n",
      "  1  1  1  1  1  1  1  1  1  4  1  1  1  1  1  1  4  1  1  1  1  1  1  1\n",
      "  1  1  1  1  1  1  1  1  1  1  1  4  4  0  0  0  0  1  1  1  1  1  1  1\n",
      "  1  1  1  1  1  1  1  1  1  1  1  3  1  1  0  1  1  1  1  1  1  1  1]\n",
      "Number of labels data =  383\n",
      "Number of df data =      383\n"
     ]
    }
   ],
   "source": [
    "print('labels = ', labels)\n",
    "\n",
    "# Check of labels\n",
    "print('Number of labels data = ', len(labels))\n",
    "print('Number of df data =     ', len(X))"
   ]
  },
  {
   "cell_type": "code",
   "execution_count": 8,
   "metadata": {},
   "outputs": [
    {
     "name": "stdout",
     "output_type": "stream",
     "text": [
      "(383, 7)\n"
     ]
    },
    {
     "data": {
      "text/html": [
       "<div>\n",
       "<style scoped>\n",
       "    .dataframe tbody tr th:only-of-type {\n",
       "        vertical-align: middle;\n",
       "    }\n",
       "\n",
       "    .dataframe tbody tr th {\n",
       "        vertical-align: top;\n",
       "    }\n",
       "\n",
       "    .dataframe thead th {\n",
       "        text-align: right;\n",
       "    }\n",
       "</style>\n",
       "<table border=\"1\" class=\"dataframe\">\n",
       "  <thead>\n",
       "    <tr style=\"text-align: right;\">\n",
       "      <th></th>\n",
       "      <th>mpg</th>\n",
       "      <th>cylinders</th>\n",
       "      <th>displacement</th>\n",
       "      <th>horsepower</th>\n",
       "      <th>weight</th>\n",
       "      <th>acceleration</th>\n",
       "      <th>CLS_label</th>\n",
       "    </tr>\n",
       "  </thead>\n",
       "  <tbody>\n",
       "    <tr>\n",
       "      <td>0</td>\n",
       "      <td>18.0</td>\n",
       "      <td>8.0</td>\n",
       "      <td>307.0</td>\n",
       "      <td>130.0</td>\n",
       "      <td>3504.0</td>\n",
       "      <td>12.0</td>\n",
       "      <td>0</td>\n",
       "    </tr>\n",
       "    <tr>\n",
       "      <td>1</td>\n",
       "      <td>15.0</td>\n",
       "      <td>8.0</td>\n",
       "      <td>350.0</td>\n",
       "      <td>165.0</td>\n",
       "      <td>3693.0</td>\n",
       "      <td>11.5</td>\n",
       "      <td>0</td>\n",
       "    </tr>\n",
       "    <tr>\n",
       "      <td>2</td>\n",
       "      <td>18.0</td>\n",
       "      <td>8.0</td>\n",
       "      <td>318.0</td>\n",
       "      <td>150.0</td>\n",
       "      <td>3436.0</td>\n",
       "      <td>11.0</td>\n",
       "      <td>0</td>\n",
       "    </tr>\n",
       "    <tr>\n",
       "      <td>3</td>\n",
       "      <td>16.0</td>\n",
       "      <td>8.0</td>\n",
       "      <td>304.0</td>\n",
       "      <td>150.0</td>\n",
       "      <td>3433.0</td>\n",
       "      <td>12.0</td>\n",
       "      <td>0</td>\n",
       "    </tr>\n",
       "    <tr>\n",
       "      <td>4</td>\n",
       "      <td>17.0</td>\n",
       "      <td>8.0</td>\n",
       "      <td>302.0</td>\n",
       "      <td>140.0</td>\n",
       "      <td>3449.0</td>\n",
       "      <td>10.5</td>\n",
       "      <td>0</td>\n",
       "    </tr>\n",
       "  </tbody>\n",
       "</table>\n",
       "</div>"
      ],
      "text/plain": [
       "    mpg  cylinders  displacement  horsepower  weight  acceleration  CLS_label\n",
       "0  18.0        8.0         307.0       130.0  3504.0          12.0          0\n",
       "1  15.0        8.0         350.0       165.0  3693.0          11.5          0\n",
       "2  18.0        8.0         318.0       150.0  3436.0          11.0          0\n",
       "3  16.0        8.0         304.0       150.0  3433.0          12.0          0\n",
       "4  17.0        8.0         302.0       140.0  3449.0          10.5          0"
      ]
     },
     "execution_count": 8,
     "metadata": {},
     "output_type": "execute_result"
    }
   ],
   "source": [
    "# Add culumn 'CLS_label' as clustering label\n",
    "X['CLS_label'] = labels\n",
    "print(X.shape)\n",
    "X.head()"
   ]
  },
  {
   "cell_type": "code",
   "execution_count": 9,
   "metadata": {},
   "outputs": [
    {
     "name": "stdout",
     "output_type": "stream",
     "text": [
      "Int64Index([23, 31, 74, 109, 119, 230], dtype='int64')\n",
      "(377, 7)\n"
     ]
    },
    {
     "data": {
      "text/html": [
       "<div>\n",
       "<style scoped>\n",
       "    .dataframe tbody tr th:only-of-type {\n",
       "        vertical-align: middle;\n",
       "    }\n",
       "\n",
       "    .dataframe tbody tr th {\n",
       "        vertical-align: top;\n",
       "    }\n",
       "\n",
       "    .dataframe thead th {\n",
       "        text-align: right;\n",
       "    }\n",
       "</style>\n",
       "<table border=\"1\" class=\"dataframe\">\n",
       "  <thead>\n",
       "    <tr style=\"text-align: right;\">\n",
       "      <th></th>\n",
       "      <th>mpg</th>\n",
       "      <th>cylinders</th>\n",
       "      <th>displacement</th>\n",
       "      <th>horsepower</th>\n",
       "      <th>weight</th>\n",
       "      <th>acceleration</th>\n",
       "      <th>CLS_label</th>\n",
       "    </tr>\n",
       "  </thead>\n",
       "  <tbody>\n",
       "    <tr>\n",
       "      <td>0</td>\n",
       "      <td>18.0</td>\n",
       "      <td>8.0</td>\n",
       "      <td>307.0</td>\n",
       "      <td>130.0</td>\n",
       "      <td>3504.0</td>\n",
       "      <td>12.0</td>\n",
       "      <td>0</td>\n",
       "    </tr>\n",
       "    <tr>\n",
       "      <td>1</td>\n",
       "      <td>15.0</td>\n",
       "      <td>8.0</td>\n",
       "      <td>350.0</td>\n",
       "      <td>165.0</td>\n",
       "      <td>3693.0</td>\n",
       "      <td>11.5</td>\n",
       "      <td>0</td>\n",
       "    </tr>\n",
       "    <tr>\n",
       "      <td>2</td>\n",
       "      <td>18.0</td>\n",
       "      <td>8.0</td>\n",
       "      <td>318.0</td>\n",
       "      <td>150.0</td>\n",
       "      <td>3436.0</td>\n",
       "      <td>11.0</td>\n",
       "      <td>0</td>\n",
       "    </tr>\n",
       "    <tr>\n",
       "      <td>3</td>\n",
       "      <td>16.0</td>\n",
       "      <td>8.0</td>\n",
       "      <td>304.0</td>\n",
       "      <td>150.0</td>\n",
       "      <td>3433.0</td>\n",
       "      <td>12.0</td>\n",
       "      <td>0</td>\n",
       "    </tr>\n",
       "    <tr>\n",
       "      <td>4</td>\n",
       "      <td>17.0</td>\n",
       "      <td>8.0</td>\n",
       "      <td>302.0</td>\n",
       "      <td>140.0</td>\n",
       "      <td>3449.0</td>\n",
       "      <td>10.5</td>\n",
       "      <td>0</td>\n",
       "    </tr>\n",
       "  </tbody>\n",
       "</table>\n",
       "</div>"
      ],
      "text/plain": [
       "    mpg  cylinders  displacement  horsepower  weight  acceleration  CLS_label\n",
       "0  18.0        8.0         307.0       130.0  3504.0          12.0          0\n",
       "1  15.0        8.0         350.0       165.0  3693.0          11.5          0\n",
       "2  18.0        8.0         318.0       150.0  3436.0          11.0          0\n",
       "3  16.0        8.0         304.0       150.0  3433.0          12.0          0\n",
       "4  17.0        8.0         302.0       140.0  3449.0          10.5          0"
      ]
     },
     "execution_count": 9,
     "metadata": {},
     "output_type": "execute_result"
    }
   ],
   "source": [
    "# Remove noise shown as the label = -1\n",
    "rows_to_drop = X.index[X['CLS_label'] == -1]\n",
    "print(rows_to_drop)\n",
    "X.drop(index = rows_to_drop, inplace=True)\n",
    "print(X.shape)\n",
    "X.head()"
   ]
  },
  {
   "cell_type": "code",
   "execution_count": 10,
   "metadata": {},
   "outputs": [],
   "source": [
    "X.reset_index(inplace=True, drop=True)"
   ]
  },
  {
   "cell_type": "code",
   "execution_count": 11,
   "metadata": {},
   "outputs": [
    {
     "name": "stdout",
     "output_type": "stream",
     "text": [
      "[0 1 2 3 4]\n"
     ]
    }
   ],
   "source": [
    "# Check if the noise (label = -1) was removed\n",
    "num_uniq = np.unique(X['CLS_label'])\n",
    "print(num_uniq)"
   ]
  },
  {
   "cell_type": "markdown",
   "metadata": {},
   "source": [
    "### Scatter plot of clusters"
   ]
  },
  {
   "cell_type": "code",
   "execution_count": 12,
   "metadata": {},
   "outputs": [],
   "source": [
    "# Make list of colors to draw scatter plot in different colors by cluster \n",
    "color_codes = {0:'red',\n",
    "               1:'green',\n",
    "               2:'blue',\n",
    "               3:'yellow',\n",
    "               4:'magenta',\n",
    "               5:'cyan',\n",
    "               6:'black',\n",
    "               7:'brown',\n",
    "               8:'orange',\n",
    "               9:'pink'}\n",
    "\n",
    "colors = list()\n",
    "for i in range(len(X)) :\n",
    "    colors.append(color_codes[X['CLS_label'][i]])"
   ]
  },
  {
   "cell_type": "code",
   "execution_count": 13,
   "metadata": {
    "colab": {
     "base_uri": "https://localhost:8080/",
     "height": 85
    },
    "colab_type": "code",
    "executionInfo": {
     "elapsed": 55727,
     "status": "ok",
     "timestamp": 1564378298693,
     "user": {
      "displayName": "DP3 Merill",
      "photoUrl": "",
      "userId": "16635738950127380978"
     },
     "user_tz": -540
    },
    "id": "HEgwSsMiCgHd",
    "outputId": "e2903ae4-6408-4fa9-aefc-81832dcf17c6",
    "scrolled": true
   },
   "outputs": [
    {
     "name": "stdout",
     "output_type": "stream",
     "text": [
      "data size of CLS label \t0\tred\t = \t162\n",
      "data size of CLS label \t1\tgreen\t = \t203\n",
      "data size of CLS label \t2\tblue\t = \t3\n",
      "data size of CLS label \t3\tyellow\t = \t3\n",
      "data size of CLS label \t4\tmagenta\t = \t6\n"
     ]
    }
   ],
   "source": [
    "# save files and print data size by label\n",
    "for i in range(int(len(num_uniq))) :\n",
    "  label_num = i\n",
    "  df_new = X[X['CLS_label'] == label_num]\n",
    "  print('data size of CLS label ', label_num, color_codes.get(i), ' = ', len(df_new), sep = '\\t')\n",
    "  df_new.to_csv('DBSCAN_cluster_' + str(label_num) + '.csv', index=False)"
   ]
  },
  {
   "cell_type": "code",
   "execution_count": 14,
   "metadata": {},
   "outputs": [
    {
     "data": {
      "image/png": "[encoded data removed]",
      "text/plain": [
       "<Figure size 1080x1080 with 5 Axes>"
      ]
     },
     "metadata": {
      "needs_background": "light"
     },
     "output_type": "display_data"
    }
   ],
   "source": [
    "# Draw scatter plots by clusters\n",
    "horz = 5                     # horizontal number of graph\n",
    "vert = 5                     # vertical number of graph\n",
    "graph_num = horz * vert      # maximum number of graphs\n",
    "\n",
    "axes = list()\n",
    "fig = plt.figure(figsize=(15, 15))\n",
    "\n",
    "for i in range(1, len(X.columns) - 1):\n",
    "    axes.append(fig.add_subplot(vert, horz, i))\n",
    "    for j in range(len(X)) :\n",
    "        x = X.iloc[j, i]\n",
    "        y = X.iloc[j, 0]\n",
    "        axes[i-1].scatter(x, y, marker='.', c = colors[j], alpha = 0.8)\n",
    "    axes[i-1].set_xlabel(df.columns[i], size = 12)\n",
    "    axes[i-1].set_ylabel(df.columns[0], size = 12)\n",
    "\n",
    "plt.subplots_adjust(wspace=0.4, hspace=0.4)\n",
    "plt.show()"
   ]
  },
  {
   "cell_type": "code",
   "execution_count": null,
   "metadata": {},
   "outputs": [],
   "source": []
  }
 ],
 "metadata": {
  "colab": {
   "collapsed_sections": [],
   "name": "20190729_data_cleaning_clustering_INTERGLAD_low_Sp.ipynb",
   "provenance": [],
   "toc_visible": true,
   "version": "0.3.2"
  },
  "kernelspec": {
   "display_name": "Python 3",
   "language": "python",
   "name": "python3"
  },
  "language_info": {
   "codemirror_mode": {
    "name": "ipython",
    "version": 3
   },
   "file_extension": ".py",
   "mimetype": "text/x-python",
   "name": "python",
   "nbconvert_exporter": "python",
   "pygments_lexer": "ipython3",
   "version": "3.7.4"
  }
 },
 "nbformat": 4,
 "nbformat_minor": 1
}
